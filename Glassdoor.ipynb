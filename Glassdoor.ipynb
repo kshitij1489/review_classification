{
 "cells": [
  {
   "cell_type": "code",
   "execution_count": 36,
   "metadata": {},
   "outputs": [
    {
     "name": "stdout",
     "output_type": "stream",
     "text": [
      "The autoreload extension is already loaded. To reload it, use:\n",
      "  %reload_ext autoreload\n"
     ]
    }
   ],
   "source": [
    "import tensorflow as tf\n",
    "import numpy as np\n",
    "import pandas as pd\n",
    "import pickle\n",
    "from nltk import tokenize\n",
    "from sklearn.model_selection import train_test_split\n",
    "from sklearn.preprocessing import MultiLabelBinarizer\n",
    "from sklearn.utils import class_weight\n",
    "\n",
    "from tensorflow.python.keras.preprocessing.text import Tokenizer\n",
    "from tensorflow.python.keras.preprocessing.sequence import pad_sequences\n",
    "from tensorflow.python.keras.layers import Dense, Dropout, Embedding, LSTM, Dropout, Conv1D, GlobalMaxPool1D\n",
    "from tensorflow.python.keras.callbacks import EarlyStopping\n",
    "from text_models import TextClassifier, extract_text_blocks\n",
    "%load_ext autoreload\n",
    "%autoreload 2"
   ]
  },
  {
   "cell_type": "markdown",
   "metadata": {},
   "source": [
    "# Load Dataset "
   ]
  },
  {
   "cell_type": "code",
   "execution_count": 37,
   "metadata": {},
   "outputs": [],
   "source": [
    "df = pickle.load( open( \"gdr_assignment_labelled.pkl\", \"rb\" ))"
   ]
  },
  {
   "cell_type": "code",
   "execution_count": 38,
   "metadata": {},
   "outputs": [],
   "source": [
    "model = TextClassifier()"
   ]
  },
  {
   "cell_type": "code",
   "execution_count": 39,
   "metadata": {},
   "outputs": [
    {
     "name": "stdout",
     "output_type": "stream",
     "text": [
      "Shape of data tensor: (8000,)\n",
      "Found 3796 unique tokens.\n"
     ]
    }
   ],
   "source": [
    "X, y = model.tokenize_data(df['pp_sent'].values, df['label'])"
   ]
  },
  {
   "cell_type": "code",
   "execution_count": 40,
   "metadata": {},
   "outputs": [],
   "source": [
    "X_train, X_test, y_train, y_test = train_test_split(X, y, test_size=0.33, random_state=42)"
   ]
  },
  {
   "cell_type": "markdown",
   "metadata": {},
   "source": [
    "# Train LSTM"
   ]
  },
  {
   "cell_type": "code",
   "execution_count": 12,
   "metadata": {},
   "outputs": [
    {
     "name": "stdout",
     "output_type": "stream",
     "text": [
      "Train on 4824 samples, validate on 536 samples\n",
      "Epoch 1/5\n",
      "4824/4824 [==============================] - 45s 9ms/sample - loss: 0.4624 - categorical_accuracy: 0.1356 - val_loss: 0.3880 - val_categorical_accuracy: 0.1437\n",
      "Epoch 2/5\n",
      "4824/4824 [==============================] - 41s 8ms/sample - loss: 0.3880 - categorical_accuracy: 0.2131 - val_loss: 0.3105 - val_categorical_accuracy: 0.3358\n",
      "Epoch 3/5\n",
      "4824/4824 [==============================] - 41s 8ms/sample - loss: 0.3052 - categorical_accuracy: 0.4086 - val_loss: 0.2347 - val_categorical_accuracy: 0.6399\n",
      "Epoch 4/5\n",
      "4824/4824 [==============================] - 40s 8ms/sample - loss: 0.2055 - categorical_accuracy: 0.7160 - val_loss: 0.1270 - val_categorical_accuracy: 0.8619\n",
      "Epoch 5/5\n",
      "4824/4824 [==============================] - 40s 8ms/sample - loss: 0.1156 - categorical_accuracy: 0.8941 - val_loss: 0.0756 - val_categorical_accuracy: 0.9086\n"
     ]
    },
    {
     "data": {
      "text/plain": [
       "<tensorflow.python.keras.callbacks.History at 0x150c6af50>"
      ]
     },
     "execution_count": 12,
     "metadata": {},
     "output_type": "execute_result"
    }
   ],
   "source": [
    "model.train_LSTM(X_train, y_train)"
   ]
  },
  {
   "cell_type": "markdown",
   "metadata": {},
   "source": [
    "# Train CNN"
   ]
  },
  {
   "cell_type": "code",
   "execution_count": 8,
   "metadata": {},
   "outputs": [
    {
     "name": "stdout",
     "output_type": "stream",
     "text": [
      "Train on 4824 samples, validate on 536 samples\n",
      "Epoch 1/5\n",
      "4824/4824 [==============================] - 2s 468us/sample - loss: 0.4419 - categorical_accuracy: 0.2025 - val_loss: 0.3622 - val_categorical_accuracy: 0.5075\n",
      "Epoch 2/5\n",
      "4824/4824 [==============================] - 2s 381us/sample - loss: 0.2541 - categorical_accuracy: 0.7668 - val_loss: 0.1267 - val_categorical_accuracy: 0.9011\n",
      "Epoch 3/5\n",
      "4824/4824 [==============================] - 2s 437us/sample - loss: 0.0750 - categorical_accuracy: 0.9196 - val_loss: 0.0492 - val_categorical_accuracy: 0.9478\n",
      "Epoch 4/5\n",
      "4824/4824 [==============================] - 2s 378us/sample - loss: 0.0330 - categorical_accuracy: 0.9513 - val_loss: 0.0325 - val_categorical_accuracy: 0.9552\n",
      "Epoch 5/5\n",
      "4824/4824 [==============================] - 2s 401us/sample - loss: 0.0187 - categorical_accuracy: 0.9598 - val_loss: 0.0251 - val_categorical_accuracy: 0.9646\n"
     ]
    },
    {
     "data": {
      "text/plain": [
       "<tensorflow.python.keras.callbacks.History at 0x14307a050>"
      ]
     },
     "execution_count": 8,
     "metadata": {},
     "output_type": "execute_result"
    }
   ],
   "source": [
    "model.train_CNN(X_train, y_train)"
   ]
  },
  {
   "cell_type": "markdown",
   "metadata": {},
   "source": [
    "# Train MLP"
   ]
  },
  {
   "cell_type": "code",
   "execution_count": 41,
   "metadata": {},
   "outputs": [
    {
     "name": "stdout",
     "output_type": "stream",
     "text": [
      "Train on 4824 samples, validate on 536 samples\n",
      "Epoch 1/5\n",
      "4824/4824 [==============================] - 1s 179us/sample - loss: 1.5779 - categorical_accuracy: 0.1379 - val_loss: 0.5529 - val_categorical_accuracy: 0.1325\n",
      "Epoch 2/5\n",
      "4824/4824 [==============================] - 1s 122us/sample - loss: 0.6057 - categorical_accuracy: 0.1650 - val_loss: 0.4999 - val_categorical_accuracy: 0.1791\n",
      "Epoch 3/5\n",
      "4824/4824 [==============================] - 1s 123us/sample - loss: 0.5064 - categorical_accuracy: 0.1824 - val_loss: 0.4399 - val_categorical_accuracy: 0.1679\n",
      "Epoch 4/5\n",
      "4824/4824 [==============================] - 1s 121us/sample - loss: 0.4395 - categorical_accuracy: 0.1590 - val_loss: 0.3956 - val_categorical_accuracy: 0.1399\n",
      "Epoch 5/5\n",
      "4824/4824 [==============================] - 1s 124us/sample - loss: 0.4034 - categorical_accuracy: 0.1459 - val_loss: 0.3892 - val_categorical_accuracy: 0.1530\n"
     ]
    },
    {
     "data": {
      "text/plain": [
       "<tensorflow.python.keras.callbacks.History at 0x17d1d4ed0>"
      ]
     },
     "execution_count": 41,
     "metadata": {},
     "output_type": "execute_result"
    }
   ],
   "source": [
    "model.train_MLP(X_train, y_train)"
   ]
  },
  {
   "cell_type": "code",
   "execution_count": 9,
   "metadata": {},
   "outputs": [],
   "source": [
    "data_pros_cons = pickle.load( open( \"gdr_assignment_pros_cons.pkl\", \"rb\" ))\n",
    "blocks = extract_text_blocks(data_pros_cons.iloc[10,0])"
   ]
  },
  {
   "cell_type": "markdown",
   "metadata": {},
   "source": [
    "# Predict CNN"
   ]
  },
  {
   "cell_type": "code",
   "execution_count": 10,
   "metadata": {},
   "outputs": [
    {
     "data": {
      "text/plain": [
       "[(0.57167894,\n",
       "  'Job Security/Advancement',\n",
       "  'i worked for the internal marketing team (marcom) on the creative side'),\n",
       " (0.6473276,\n",
       "  'culture_team',\n",
       "  'they do an excellent job of hiring incredibly intelligent'),\n",
       " (0.8759935, 'culture_team', 'talented people'),\n",
       " (0.54797983,\n",
       "  'salary_benefits',\n",
       "  'most of them are ego-free (about 70% of them) and will help you whenever possible'),\n",
       " (0.76479244, 'wlb_working_conditions', 'the work usually comes in waves'),\n",
       " (0.82712054,\n",
       "  'wlb_working_conditions',\n",
       "  'for weeks at a time you can expect late nights and no weekends'),\n",
       " (0.5912221, 'culture_team', \"it's very slow\"),\n",
       " (0.6450525,\n",
       "  'wlb_working_conditions',\n",
       "  'you can often work from home or take comp days'),\n",
       " (0.53329575,\n",
       "  'wlb_working_conditions',\n",
       "  'during downtimes it is not uncommon to go in for five hours including a long lunch and then go home'),\n",
       " (0.8772496, 'salary_benefits', 'the compensation is good'),\n",
       " (0.90775144, 'salary_benefits', 'the stock program is okay'),\n",
       " (0.82131016, 'salary_benefits', 'bonus'),\n",
       " (0.9194417, 'culture_team', 'tim cook seems like a genuinely good person'),\n",
       " (0.6808616,\n",
       "  'wlb_working_conditions',\n",
       "  \"even in the relatively short time he's been in his role\"),\n",
       " (0.62865937,\n",
       "  'culture_team',\n",
       "  'he has made enormous leaps to give that company a real set of values that are current with this generation')]"
      ]
     },
     "execution_count": 10,
     "metadata": {},
     "output_type": "execute_result"
    }
   ],
   "source": [
    "model.predict(blocks, model_name='CNN')"
   ]
  },
  {
   "cell_type": "markdown",
   "metadata": {},
   "source": [
    "# Predict LSTM"
   ]
  },
  {
   "cell_type": "code",
   "execution_count": 13,
   "metadata": {},
   "outputs": [
    {
     "data": {
      "text/plain": [
       "[(0.8294902,\n",
       "  'culture_team',\n",
       "  'the best thing about working at apple is your coworkers'),\n",
       " (0.7683331, 'culture_team', 'talented people'),\n",
       " (0.55815744,\n",
       "  'culture_team',\n",
       "  \"it's quite humbling to work alongside such accomplished people\"),\n",
       " (0.82918257,\n",
       "  'Job Security/Advancement',\n",
       "  \"you'll always feel like the dumbest person in the room\"),\n",
       " (0.8725455,\n",
       "  'haras_discrim_sexism',\n",
       "  'which is great because everyone has so much to teach you'),\n",
       " (0.70400536,\n",
       "  'salary_benefits',\n",
       "  'though nearly all of them are perfectionist type a people'),\n",
       " (0.5724401, 'salary_benefits', \"you're all the way on\"),\n",
       " (0.6457011, 'culture_team', \"when it's slow\"),\n",
       " (0.7953359,\n",
       "  'wlb_working_conditions',\n",
       "  'you can often work from home or take comp days'),\n",
       " (0.9339287,\n",
       "  'business_vision_competitors',\n",
       "  'during downtimes it is not uncommon to go in for five hours including a long lunch and then go home'),\n",
       " (0.7419926, 'salary_benefits', 'the compensation is good'),\n",
       " (0.70654124, 'salary_benefits', 'the stock program is okay'),\n",
       " (0.7549679,\n",
       "  'salary_benefits',\n",
       "  'but the pay is more than fair and their annual reviews pretty much guarantee a raise'),\n",
       " (0.76795936, 'salary_benefits', 'bonus'),\n",
       " (0.6309232, 'salary_benefits', 'and/or more stock'),\n",
       " (0.6846267, 'culture_team', 'tim cook seems like a genuinely good person'),\n",
       " (0.91535807,\n",
       "  'business_vision_competitors',\n",
       "  \"even in the relatively short time he's been in his role\"),\n",
       " (0.7876732, 'salary_benefits', 'he feels like a real human being')]"
      ]
     },
     "execution_count": 13,
     "metadata": {},
     "output_type": "execute_result"
    }
   ],
   "source": [
    "model.predict(blocks, model_name='LSTM')"
   ]
  },
  {
   "cell_type": "code",
   "execution_count": null,
   "metadata": {},
   "outputs": [],
   "source": []
  }
 ],
 "metadata": {
  "kernelspec": {
   "display_name": "Python 3",
   "language": "python",
   "name": "python3"
  }
 },
 "nbformat": 4,
 "nbformat_minor": 2
}
