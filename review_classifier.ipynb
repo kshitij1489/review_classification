{
 "cells": [
  {
   "cell_type": "code",
   "execution_count": 1,
   "metadata": {},
   "outputs": [],
   "source": [
    "import numpy as np\n",
    "import pandas as pd\n",
    "import pickle\n",
    "import time\n",
    "\n",
    "from sklearn.model_selection import train_test_split\n",
    "\n",
    "from text_models import TextClassifier, extract_text_blocks, tokenize_data, load_glove_embedding\n",
    "from lstm_attention_model import AttentionLSTM, train_part, evaluate, predict_labels\n",
    "from helper import Dataset, plot_graphs, progress_bar, consolidate_results\n",
    "%load_ext autoreload\n",
    "%autoreload 2"
   ]
  },
  {
   "cell_type": "markdown",
   "metadata": {},
   "source": [
    "# Load Dataset "
   ]
  },
  {
   "cell_type": "markdown",
   "metadata": {},
   "source": [
    "The dataset is a pandas dataframe with two columns: Text labels and the text sentences and sub-sentences. There are 8 different categories(labels) in total. Each sentence could also have multiple categories(labels) associated with it."
   ]
  },
  {
   "cell_type": "code",
   "execution_count": 2,
   "metadata": {},
   "outputs": [],
   "source": [
    "df = pickle.load( open( \"review_labelled.pkl\", \"rb\" ))"
   ]
  },
  {
   "cell_type": "code",
   "execution_count": 3,
   "metadata": {},
   "outputs": [
    {
     "data": {
      "text/html": [
       "<div>\n",
       "<style scoped>\n",
       "    .dataframe tbody tr th:only-of-type {\n",
       "        vertical-align: middle;\n",
       "    }\n",
       "\n",
       "    .dataframe tbody tr th {\n",
       "        vertical-align: top;\n",
       "    }\n",
       "\n",
       "    .dataframe thead th {\n",
       "        text-align: right;\n",
       "    }\n",
       "</style>\n",
       "<table border=\"1\" class=\"dataframe\">\n",
       "  <thead>\n",
       "    <tr style=\"text-align: right;\">\n",
       "      <th></th>\n",
       "      <th>label</th>\n",
       "      <th>pp_sent</th>\n",
       "    </tr>\n",
       "  </thead>\n",
       "  <tbody>\n",
       "    <tr>\n",
       "      <th>56288</th>\n",
       "      <td>[management]</td>\n",
       "      <td>perks good name value of the top tier company</td>\n",
       "    </tr>\n",
       "    <tr>\n",
       "      <th>182615</th>\n",
       "      <td>[tech_product]</td>\n",
       "      <td>cutting edge technology at least in some groups</td>\n",
       "    </tr>\n",
       "    <tr>\n",
       "      <th>62152</th>\n",
       "      <td>[management]</td>\n",
       "      <td>or they 've been treated badly before</td>\n",
       "    </tr>\n",
       "    <tr>\n",
       "      <th>44113</th>\n",
       "      <td>[Job Security/Advancement]</td>\n",
       "      <td>they invest into not only your work developmen...</td>\n",
       "    </tr>\n",
       "    <tr>\n",
       "      <th>14213</th>\n",
       "      <td>[business_vision_competitors]</td>\n",
       "      <td>amazing business model</td>\n",
       "    </tr>\n",
       "    <tr>\n",
       "      <th>191441</th>\n",
       "      <td>[tech_product]</td>\n",
       "      <td>interesting projects</td>\n",
       "    </tr>\n",
       "    <tr>\n",
       "      <th>22109</th>\n",
       "      <td>[Job Security/Advancement]</td>\n",
       "      <td>with plenty of opportunity for over time</td>\n",
       "    </tr>\n",
       "    <tr>\n",
       "      <th>611033</th>\n",
       "      <td>[haras_discrim_sexism]</td>\n",
       "      <td>up to num year paid leave for child birth rega...</td>\n",
       "    </tr>\n",
       "    <tr>\n",
       "      <th>5679</th>\n",
       "      <td>[culture_team]</td>\n",
       "      <td>a lot of it is really good analysis work getti...</td>\n",
       "    </tr>\n",
       "    <tr>\n",
       "      <th>11063</th>\n",
       "      <td>[tech_product]</td>\n",
       "      <td>interesting projects</td>\n",
       "    </tr>\n",
       "  </tbody>\n",
       "</table>\n",
       "</div>"
      ],
      "text/plain": [
       "                                label  \\\n",
       "56288                    [management]   \n",
       "182615                 [tech_product]   \n",
       "62152                    [management]   \n",
       "44113      [Job Security/Advancement]   \n",
       "14213   [business_vision_competitors]   \n",
       "191441                 [tech_product]   \n",
       "22109      [Job Security/Advancement]   \n",
       "611033         [haras_discrim_sexism]   \n",
       "5679                   [culture_team]   \n",
       "11063                  [tech_product]   \n",
       "\n",
       "                                                  pp_sent  \n",
       "56288       perks good name value of the top tier company  \n",
       "182615    cutting edge technology at least in some groups  \n",
       "62152               or they 've been treated badly before  \n",
       "44113   they invest into not only your work developmen...  \n",
       "14213                              amazing business model  \n",
       "191441                               interesting projects  \n",
       "22109            with plenty of opportunity for over time  \n",
       "611033  up to num year paid leave for child birth rega...  \n",
       "5679    a lot of it is really good analysis work getti...  \n",
       "11063                                interesting projects  "
      ]
     },
     "execution_count": 3,
     "metadata": {},
     "output_type": "execute_result"
    }
   ],
   "source": [
    "df.sample(10)"
   ]
  },
  {
   "cell_type": "markdown",
   "metadata": {},
   "source": [
    "Check for category imbalances in our dataset. Dataset looks well balanced in this case."
   ]
  },
  {
   "cell_type": "code",
   "execution_count": 4,
   "metadata": {},
   "outputs": [
    {
     "data": {
      "text/plain": [
       "Counter({'Job Security/Advancement': 1151,\n",
       "         'business_vision_competitors': 1042,\n",
       "         'culture_team': 1148,\n",
       "         'wlb_working_conditions': 1013,\n",
       "         'salary_benefits': 1019,\n",
       "         'management': 1064,\n",
       "         'tech_product': 1009,\n",
       "         'haras_discrim_sexism': 1001})"
      ]
     },
     "execution_count": 4,
     "metadata": {},
     "output_type": "execute_result"
    }
   ],
   "source": [
    "from collections import Counter\n",
    "label_count = Counter([category for sublist in df.label.to_numpy() for category in sublist])\n",
    "label_count"
   ]
  },
  {
   "cell_type": "markdown",
   "metadata": {},
   "source": [
    "# Data Preparation"
   ]
  },
  {
   "cell_type": "code",
   "execution_count": 5,
   "metadata": {},
   "outputs": [
    {
     "name": "stdout",
     "output_type": "stream",
     "text": [
      "Shape of data tensor: (8000,)\n",
      "Found 3796 unique tokens.\n"
     ]
    }
   ],
   "source": [
    "X, y, tokenizer, label_index = tokenize_data(df['pp_sent'].values, df['label'])\n",
    "\n",
    "X_train, X_test, y_train, y_test = train_test_split(X, y, test_size=0.20, random_state=42)\n",
    "X_train, X_val, y_train, y_val = train_test_split(X_train, y_train, test_size=0.25, random_state=1)\n",
    "\n",
    "# Split data into batches of 64\n",
    "train_dset = Dataset(X_train, y_train, batch_size=64, shuffle=True)\n",
    "val_dset = Dataset(X_val, y_val, batch_size=64, shuffle=True)\n",
    "test_dset = Dataset(X_test, y_test, batch_size=64)"
   ]
  },
  {
   "cell_type": "code",
   "execution_count": 6,
   "metadata": {},
   "outputs": [],
   "source": [
    "# This variable holds the test results for all the models for later comparison.\n",
    "model_results = []"
   ]
  },
  {
   "cell_type": "markdown",
   "metadata": {},
   "source": [
    "# Train LSTM"
   ]
  },
  {
   "cell_type": "markdown",
   "metadata": {},
   "source": [
    "Train a Multilabel text classifier using LSTM. This model has the following architecture: <br>\n",
    "Input -> Word Embedding Layer -> LSTM -> Spatial Dropout -> Fully Connected -> RELU -> Fully Connected -> Sigmoid <br>\n",
    "Here the LSTM output to the next fully connected layer is from the last time step only. All the model implementations could be found at text_models.py"
   ]
  },
  {
   "cell_type": "code",
   "execution_count": 7,
   "metadata": {},
   "outputs": [
    {
     "name": "stderr",
     "output_type": "stream",
     "text": [
      "WARNING: Logging before flag parsing goes to stderr.\n",
      "W0215 17:19:52.082726 4425194944 deprecation.py:506] From /Users/kshitijsharma/Documents/CS231n/assignment2/.env/lib/python3.7/site-packages/tensorflow/python/keras/backend.py:4081: calling dropout (from tensorflow.python.ops.nn_ops) with keep_prob is deprecated and will be removed in a future version.\n",
      "Instructions for updating:\n",
      "Please use `rate` instead of `keep_prob`. Rate should be set to `rate = 1 - keep_prob`.\n"
     ]
    },
    {
     "name": "stdout",
     "output_type": "stream",
     "text": [
      "Train on 3600 samples, validate on 1200 samples\n",
      "Epoch 1/10\n",
      "3600/3600 [==============================] - 12s 3ms/sample - loss: 0.4638 - binary_accuracy: 0.8315 - val_loss: 0.3881 - val_binary_accuracy: 0.8685\n",
      "Epoch 2/10\n",
      "3600/3600 [==============================] - 11s 3ms/sample - loss: 0.3839 - binary_accuracy: 0.8680 - val_loss: 0.3709 - val_binary_accuracy: 0.8685\n",
      "Epoch 3/10\n",
      "3600/3600 [==============================] - 11s 3ms/sample - loss: 0.3331 - binary_accuracy: 0.8720 - val_loss: 0.2856 - val_binary_accuracy: 0.8842\n",
      "Epoch 4/10\n",
      "3600/3600 [==============================] - 11s 3ms/sample - loss: 0.2555 - binary_accuracy: 0.8939 - val_loss: 0.2285 - val_binary_accuracy: 0.9038\n",
      "Epoch 5/10\n",
      "3600/3600 [==============================] - 10s 3ms/sample - loss: 0.2004 - binary_accuracy: 0.9215 - val_loss: 0.1892 - val_binary_accuracy: 0.9358\n",
      "Epoch 6/10\n",
      "3600/3600 [==============================] - 10s 3ms/sample - loss: 0.1504 - binary_accuracy: 0.9504 - val_loss: 0.1333 - val_binary_accuracy: 0.9622\n",
      "Epoch 7/10\n",
      "3600/3600 [==============================] - 10s 3ms/sample - loss: 0.0982 - binary_accuracy: 0.9732 - val_loss: 0.0976 - val_binary_accuracy: 0.9733\n",
      "Epoch 8/10\n",
      "3600/3600 [==============================] - 10s 3ms/sample - loss: 0.0666 - binary_accuracy: 0.9824 - val_loss: 0.0779 - val_binary_accuracy: 0.9773\n",
      "Epoch 9/10\n",
      "3600/3600 [==============================] - 10s 3ms/sample - loss: 0.0483 - binary_accuracy: 0.9876 - val_loss: 0.0724 - val_binary_accuracy: 0.9789\n",
      "Epoch 10/10\n",
      "3600/3600 [==============================] - 10s 3ms/sample - loss: 0.0387 - binary_accuracy: 0.9897 - val_loss: 0.0643 - val_binary_accuracy: 0.9815\n",
      "Model: \"sequential\"\n",
      "_________________________________________________________________\n",
      "Layer (type)                 Output Shape              Param #   \n",
      "=================================================================\n",
      "embedding (Embedding)        (None, None, 50)          2500000   \n",
      "_________________________________________________________________\n",
      "spatial_dropout1d (SpatialDr (None, None, 50)          0         \n",
      "_________________________________________________________________\n",
      "lstm (LSTM)                  (None, 100)               60400     \n",
      "_________________________________________________________________\n",
      "dense (Dense)                (None, 32)                3232      \n",
      "_________________________________________________________________\n",
      "dense_1 (Dense)              (None, 8)                 264       \n",
      "=================================================================\n",
      "Total params: 2,563,896\n",
      "Trainable params: 2,563,896\n",
      "Non-trainable params: 0\n",
      "_________________________________________________________________\n"
     ]
    }
   ],
   "source": [
    "model_lstm = TextClassifier(tokenizer, label_index)\n",
    "\n",
    "history_lstm = model_lstm.train(X_train, y_train, 'LSTM', epochs = 10)\n",
    "model_lstm.model.summary()"
   ]
  },
  {
   "cell_type": "markdown",
   "metadata": {},
   "source": [
    "Evaluate Model"
   ]
  },
  {
   "cell_type": "code",
   "execution_count": 8,
   "metadata": {},
   "outputs": [
    {
     "name": "stdout",
     "output_type": "stream",
     "text": [
      "1600/1600 [==============================] - 1s 589us/sample - loss: 0.0711 - binary_accuracy: 0.9780\n",
      "Test Loss: 0.07110245324671269\n",
      "Test Accuracy: 0.9779687523841858\n"
     ]
    }
   ],
   "source": [
    "test_loss_lstm, test_acc_lstm = model_lstm.evaluate(X_test,y_test)\n",
    "print('Test Loss: {}'.format(test_loss_lstm))\n",
    "print('Test Accuracy: {}'.format(test_acc_lstm))"
   ]
  },
  {
   "cell_type": "code",
   "execution_count": 9,
   "metadata": {},
   "outputs": [
    {
     "data": {
      "image/png": "[encoded data removed]",
      "text/plain": [
       "<Figure size 432x288 with 1 Axes>"
      ]
     },
     "metadata": {
      "needs_background": "light"
     },
     "output_type": "display_data"
    }
   ],
   "source": [
    "plot_graphs(history_lstm, 'binary_accuracy')"
   ]
  },
  {
   "cell_type": "code",
   "execution_count": 10,
   "metadata": {},
   "outputs": [
    {
     "data": {
      "image/png": "[encoded data removed]",
      "text/plain": [
       "<Figure size 432x288 with 1 Axes>"
      ]
     },
     "metadata": {
      "needs_background": "light"
     },
     "output_type": "display_data"
    }
   ],
   "source": [
    "plot_graphs(history_lstm, 'loss')"
   ]
  },
  {
   "cell_type": "code",
   "execution_count": 11,
   "metadata": {},
   "outputs": [],
   "source": [
    "h_lstm = consolidate_results(history_lstm, test_loss_lstm, test_acc_lstm, 'binary_accuracy', 'LSTM')\n",
    "model_results.append(h_lstm)"
   ]
  },
  {
   "cell_type": "markdown",
   "metadata": {},
   "source": [
    "# Train CNN"
   ]
  },
  {
   "cell_type": "markdown",
   "metadata": {},
   "source": [
    "Model Architecture: <br> Input -> Word Embedding Layer -> Convolution Layer -> RELU -> Global Max Pool -> Fully Connected -> Sigmoid "
   ]
  },
  {
   "cell_type": "code",
   "execution_count": 12,
   "metadata": {},
   "outputs": [
    {
     "name": "stdout",
     "output_type": "stream",
     "text": [
      "Train on 3600 samples, validate on 1200 samples\n",
      "Epoch 1/10\n",
      "3600/3600 [==============================] - 2s 420us/sample - loss: 0.4672 - binary_accuracy: 0.8560 - val_loss: 0.3743 - val_binary_accuracy: 0.8685\n",
      "Epoch 2/10\n",
      "3600/3600 [==============================] - 1s 345us/sample - loss: 0.3225 - binary_accuracy: 0.8766 - val_loss: 0.2340 - val_binary_accuracy: 0.8985\n",
      "Epoch 3/10\n",
      "3600/3600 [==============================] - 1s 368us/sample - loss: 0.1433 - binary_accuracy: 0.9474 - val_loss: 0.0845 - val_binary_accuracy: 0.9751\n",
      "Epoch 4/10\n",
      "3600/3600 [==============================] - 1s 406us/sample - loss: 0.0532 - binary_accuracy: 0.9848 - val_loss: 0.0510 - val_binary_accuracy: 0.9833\n",
      "Epoch 5/10\n",
      "3600/3600 [==============================] - 1s 376us/sample - loss: 0.0281 - binary_accuracy: 0.9926 - val_loss: 0.0405 - val_binary_accuracy: 0.9858\n",
      "Epoch 6/10\n",
      "3600/3600 [==============================] - 1s 373us/sample - loss: 0.0170 - binary_accuracy: 0.9957 - val_loss: 0.0353 - val_binary_accuracy: 0.9882\n",
      "Epoch 7/10\n",
      "3600/3600 [==============================] - 1s 352us/sample - loss: 0.0110 - binary_accuracy: 0.9978 - val_loss: 0.0324 - val_binary_accuracy: 0.9894\n",
      "Epoch 8/10\n",
      "3600/3600 [==============================] - 1s 351us/sample - loss: 0.0074 - binary_accuracy: 0.9989 - val_loss: 0.0306 - val_binary_accuracy: 0.9900\n",
      "Epoch 9/10\n",
      "3600/3600 [==============================] - 1s 366us/sample - loss: 0.0052 - binary_accuracy: 0.9992 - val_loss: 0.0299 - val_binary_accuracy: 0.9906\n",
      "Epoch 10/10\n",
      "3600/3600 [==============================] - 1s 389us/sample - loss: 0.0037 - binary_accuracy: 0.9997 - val_loss: 0.0297 - val_binary_accuracy: 0.9905\n",
      "Model: \"sequential_1\"\n",
      "_________________________________________________________________\n",
      "Layer (type)                 Output Shape              Param #   \n",
      "=================================================================\n",
      "embedding_1 (Embedding)      (None, None, 50)          2500000   \n",
      "_________________________________________________________________\n",
      "conv1d (Conv1D)              (None, None, 300)         45300     \n",
      "_________________________________________________________________\n",
      "global_max_pooling1d (Global (None, 300)               0         \n",
      "_________________________________________________________________\n",
      "dense_2 (Dense)              (None, 8)                 2408      \n",
      "=================================================================\n",
      "Total params: 2,547,708\n",
      "Trainable params: 2,547,708\n",
      "Non-trainable params: 0\n",
      "_________________________________________________________________\n"
     ]
    }
   ],
   "source": [
    "model_cnn = TextClassifier(tokenizer, label_index)\n",
    "\n",
    "history_cnn = model_cnn.train(X_train, y_train, 'CNN', epochs = 10)\n",
    "model_cnn.model.summary()"
   ]
  },
  {
   "cell_type": "markdown",
   "metadata": {},
   "source": [
    "Evaluate CNN Model"
   ]
  },
  {
   "cell_type": "code",
   "execution_count": 13,
   "metadata": {},
   "outputs": [
    {
     "name": "stdout",
     "output_type": "stream",
     "text": [
      "1600/1600 [==============================] - 0s 67us/sample - loss: 0.0312 - binary_accuracy: 0.9897\n",
      "Test Loss: 0.03119570579379797\n",
      "Test Accuracy: 0.9896875023841858\n"
     ]
    }
   ],
   "source": [
    "test_loss_cnn, test_acc_cnn = model_cnn.evaluate(X_test,y_test)\n",
    "print('Test Loss: {}'.format(test_loss_cnn))\n",
    "print('Test Accuracy: {}'.format(test_acc_cnn))"
   ]
  },
  {
   "cell_type": "code",
   "execution_count": 14,
   "metadata": {},
   "outputs": [
    {
     "data": {
      "image/png": "[encoded data removed]",
      "text/plain": [
       "<Figure size 432x288 with 1 Axes>"
      ]
     },
     "metadata": {
      "needs_background": "light"
     },
     "output_type": "display_data"
    }
   ],
   "source": [
    "plot_graphs(history_cnn, 'binary_accuracy')"
   ]
  },
  {
   "cell_type": "code",
   "execution_count": 15,
   "metadata": {},
   "outputs": [
    {
     "data": {
      "image/png": "[encoded data removed]",
      "text/plain": [
       "<Figure size 432x288 with 1 Axes>"
      ]
     },
     "metadata": {
      "needs_background": "light"
     },
     "output_type": "display_data"
    }
   ],
   "source": [
    "plot_graphs(history_cnn, 'loss')"
   ]
  },
  {
   "cell_type": "code",
   "execution_count": 16,
   "metadata": {},
   "outputs": [],
   "source": [
    "h_cnn = consolidate_results(history_cnn, test_loss_cnn, test_acc_cnn, 'binary_accuracy', 'CNN')\n",
    "model_results.append(h_cnn)"
   ]
  },
  {
   "cell_type": "markdown",
   "metadata": {},
   "source": [
    "# Train CNN Glove"
   ]
  },
  {
   "cell_type": "markdown",
   "metadata": {},
   "source": [
    "Model Architecture: \n",
    "Input -> GLoVe Word Embedding(Non trainable)  -> Convolution Layer -> RELU -> Global Max Pool -> Fully Connected -> Sigmoid"
   ]
  },
  {
   "cell_type": "code",
   "execution_count": 17,
   "metadata": {},
   "outputs": [
    {
     "name": "stdout",
     "output_type": "stream",
     "text": [
      "Train on 3600 samples, validate on 1200 samples\n",
      "Epoch 1/10\n",
      "3600/3600 [==============================] - 1s 317us/sample - loss: 0.3036 - binary_accuracy: 0.8892 - val_loss: 0.1799 - val_binary_accuracy: 0.9391\n",
      "Epoch 2/10\n",
      "3600/3600 [==============================] - 1s 275us/sample - loss: 0.1403 - binary_accuracy: 0.9547 - val_loss: 0.1174 - val_binary_accuracy: 0.9622\n",
      "Epoch 3/10\n",
      "3600/3600 [==============================] - 1s 285us/sample - loss: 0.0931 - binary_accuracy: 0.9708 - val_loss: 0.0906 - val_binary_accuracy: 0.9698\n",
      "Epoch 4/10\n",
      "3600/3600 [==============================] - 1s 278us/sample - loss: 0.0683 - binary_accuracy: 0.9803 - val_loss: 0.0752 - val_binary_accuracy: 0.9734\n",
      "Epoch 5/10\n",
      "3600/3600 [==============================] - 1s 273us/sample - loss: 0.0516 - binary_accuracy: 0.9862 - val_loss: 0.0666 - val_binary_accuracy: 0.9778\n",
      "Epoch 6/10\n",
      "3600/3600 [==============================] - 1s 300us/sample - loss: 0.0399 - binary_accuracy: 0.9901 - val_loss: 0.0600 - val_binary_accuracy: 0.9804\n",
      "Epoch 7/10\n",
      "3600/3600 [==============================] - 1s 293us/sample - loss: 0.0319 - binary_accuracy: 0.9927 - val_loss: 0.0561 - val_binary_accuracy: 0.9805\n",
      "Epoch 8/10\n",
      "3600/3600 [==============================] - 1s 280us/sample - loss: 0.0250 - binary_accuracy: 0.9952 - val_loss: 0.0539 - val_binary_accuracy: 0.9818\n",
      "Epoch 9/10\n",
      "3600/3600 [==============================] - 1s 278us/sample - loss: 0.0196 - binary_accuracy: 0.9973 - val_loss: 0.0505 - val_binary_accuracy: 0.9828\n",
      "Epoch 10/10\n",
      "3600/3600 [==============================] - 1s 268us/sample - loss: 0.0159 - binary_accuracy: 0.9979 - val_loss: 0.0512 - val_binary_accuracy: 0.9831\n",
      "Model: \"sequential_2\"\n",
      "_________________________________________________________________\n",
      "Layer (type)                 Output Shape              Param #   \n",
      "=================================================================\n",
      "embedding_2 (Embedding)      (None, 100, 100)          5000000   \n",
      "_________________________________________________________________\n",
      "conv1d_1 (Conv1D)            (None, 98, 300)           90300     \n",
      "_________________________________________________________________\n",
      "global_max_pooling1d_1 (Glob (None, 300)               0         \n",
      "_________________________________________________________________\n",
      "dense_3 (Dense)              (None, 8)                 2408      \n",
      "=================================================================\n",
      "Total params: 5,092,708\n",
      "Trainable params: 92,708\n",
      "Non-trainable params: 5,000,000\n",
      "_________________________________________________________________\n"
     ]
    }
   ],
   "source": [
    "model_cnn_glove = TextClassifier(tokenizer, label_index)\n",
    "\n",
    "history_cnn_glove = model_cnn_glove.train(X_train, y_train, 'CNN_Glove', epochs = 10)\n",
    "model_cnn_glove.model.summary()"
   ]
  },
  {
   "cell_type": "markdown",
   "metadata": {},
   "source": [
    "Evaluate Glove Model"
   ]
  },
  {
   "cell_type": "code",
   "execution_count": 18,
   "metadata": {},
   "outputs": [
    {
     "name": "stdout",
     "output_type": "stream",
     "text": [
      "1600/1600 [==============================] - 0s 85us/sample - loss: 0.0561 - binary_accuracy: 0.9805\n",
      "Test Loss: 0.05607964921742678\n",
      "Test Accuracy: 0.9805468916893005\n"
     ]
    }
   ],
   "source": [
    "test_loss_glove, test_acc_glove = model_cnn_glove.evaluate(X_test,y_test)\n",
    "print('Test Loss: {}'.format(test_loss_glove))\n",
    "print('Test Accuracy: {}'.format(test_acc_glove))"
   ]
  },
  {
   "cell_type": "code",
   "execution_count": 19,
   "metadata": {},
   "outputs": [
    {
     "data": {
      "image/png": "[encoded data removed]",
      "text/plain": [
       "<Figure size 432x288 with 1 Axes>"
      ]
     },
     "metadata": {
      "needs_background": "light"
     },
     "output_type": "display_data"
    }
   ],
   "source": [
    "plot_graphs(history_cnn_glove, 'binary_accuracy')"
   ]
  },
  {
   "cell_type": "code",
   "execution_count": 20,
   "metadata": {},
   "outputs": [
    {
     "data": {
      "image/png": "[encoded data removed]",
      "text/plain": [
       "<Figure size 432x288 with 1 Axes>"
      ]
     },
     "metadata": {
      "needs_background": "light"
     },
     "output_type": "display_data"
    }
   ],
   "source": [
    "plot_graphs(history_cnn_glove, 'loss')"
   ]
  },
  {
   "cell_type": "code",
   "execution_count": 21,
   "metadata": {},
   "outputs": [],
   "source": [
    "h_glove = consolidate_results(history_cnn_glove, test_loss_glove,\n",
    "                           test_acc_glove, 'binary_accuracy', 'CNN GLoVe')\n",
    "model_results.append(h_glove)"
   ]
  },
  {
   "cell_type": "markdown",
   "metadata": {},
   "source": [
    "# Train MLP"
   ]
  },
  {
   "cell_type": "markdown",
   "metadata": {},
   "source": [
    "Model Architecture: <br>\n",
    "Input -> Word Embedding Layer -> 4x(Fully Connected -> RELU) -> Fully Connected -> Sigmoid <br>"
   ]
  },
  {
   "cell_type": "code",
   "execution_count": 22,
   "metadata": {},
   "outputs": [
    {
     "name": "stdout",
     "output_type": "stream",
     "text": [
      "Train on 3600 samples, validate on 1200 samples\n",
      "Epoch 1/10\n",
      "3600/3600 [==============================] - 1s 155us/sample - loss: 3.8826 - binary_accuracy: 0.7805 - val_loss: 1.1835 - val_binary_accuracy: 0.8609\n",
      "Epoch 2/10\n",
      "3600/3600 [==============================] - 0s 48us/sample - loss: 1.2320 - binary_accuracy: 0.8220 - val_loss: 0.9231 - val_binary_accuracy: 0.8660\n",
      "Epoch 3/10\n",
      "3600/3600 [==============================] - 0s 45us/sample - loss: 0.9521 - binary_accuracy: 0.8458 - val_loss: 0.8343 - val_binary_accuracy: 0.8672\n",
      "Epoch 4/10\n",
      "3600/3600 [==============================] - 0s 45us/sample - loss: 0.8187 - binary_accuracy: 0.8615 - val_loss: 0.7428 - val_binary_accuracy: 0.8685\n",
      "Epoch 5/10\n",
      "3600/3600 [==============================] - 0s 45us/sample - loss: 0.7230 - binary_accuracy: 0.8665 - val_loss: 0.6733 - val_binary_accuracy: 0.8685\n",
      "Epoch 6/10\n",
      "3600/3600 [==============================] - 0s 44us/sample - loss: 0.6667 - binary_accuracy: 0.8671 - val_loss: 0.6356 - val_binary_accuracy: 0.8685\n",
      "Epoch 7/10\n",
      "3600/3600 [==============================] - 0s 44us/sample - loss: 0.6328 - binary_accuracy: 0.8675 - val_loss: 0.6110 - val_binary_accuracy: 0.8685\n",
      "Epoch 8/10\n",
      "3600/3600 [==============================] - 0s 44us/sample - loss: 0.6078 - binary_accuracy: 0.8673 - val_loss: 0.5901 - val_binary_accuracy: 0.8685\n",
      "Epoch 9/10\n",
      "3600/3600 [==============================] - 0s 45us/sample - loss: 0.5857 - binary_accuracy: 0.8678 - val_loss: 0.5711 - val_binary_accuracy: 0.8684\n",
      "Epoch 10/10\n",
      "3600/3600 [==============================] - 0s 45us/sample - loss: 0.5690 - binary_accuracy: 0.8678 - val_loss: 0.5537 - val_binary_accuracy: 0.8685\n",
      "Model: \"sequential_3\"\n",
      "_________________________________________________________________\n",
      "Layer (type)                 Output Shape              Param #   \n",
      "=================================================================\n",
      "dense_4 (Dense)              (None, 512)               51712     \n",
      "_________________________________________________________________\n",
      "dropout (Dropout)            (None, 512)               0         \n",
      "_________________________________________________________________\n",
      "dense_5 (Dense)              (None, 256)               131328    \n",
      "_________________________________________________________________\n",
      "dropout_1 (Dropout)          (None, 256)               0         \n",
      "_________________________________________________________________\n",
      "dense_6 (Dense)              (None, 256)               65792     \n",
      "_________________________________________________________________\n",
      "dropout_2 (Dropout)          (None, 256)               0         \n",
      "_________________________________________________________________\n",
      "dense_7 (Dense)              (None, 256)               65792     \n",
      "_________________________________________________________________\n",
      "dropout_3 (Dropout)          (None, 256)               0         \n",
      "_________________________________________________________________\n",
      "dense_8 (Dense)              (None, 8)                 2056      \n",
      "=================================================================\n",
      "Total params: 316,680\n",
      "Trainable params: 316,680\n",
      "Non-trainable params: 0\n",
      "_________________________________________________________________\n"
     ]
    }
   ],
   "source": [
    "model_mlp = TextClassifier(tokenizer, label_index)\n",
    "\n",
    "history_mlp = model_mlp.train(X_train, y_train, 'MLP', epochs = 10)\n",
    "model_mlp.model.summary()"
   ]
  },
  {
   "cell_type": "markdown",
   "metadata": {},
   "source": [
    "Evaluate MLP Model"
   ]
  },
  {
   "cell_type": "code",
   "execution_count": 23,
   "metadata": {},
   "outputs": [
    {
     "name": "stdout",
     "output_type": "stream",
     "text": [
      "1600/1600 [==============================] - 0s 28us/sample - loss: 0.5542 - binary_accuracy: 0.8683\n",
      "Test Loss: 0.5541687643527985\n",
      "Test Accuracy: 0.8682812452316284\n"
     ]
    }
   ],
   "source": [
    "test_loss_mlp, test_acc_mlp = model_mlp.evaluate(X_test,y_test)\n",
    "print('Test Loss: {}'.format(test_loss_mlp))\n",
    "print('Test Accuracy: {}'.format(test_acc_mlp))"
   ]
  },
  {
   "cell_type": "code",
   "execution_count": 24,
   "metadata": {},
   "outputs": [
    {
     "data": {
      "image/png": "[encoded data removed]",
      "text/plain": [
       "<Figure size 432x288 with 1 Axes>"
      ]
     },
     "metadata": {
      "needs_background": "light"
     },
     "output_type": "display_data"
    }
   ],
   "source": [
    "plot_graphs(history_mlp, 'binary_accuracy')"
   ]
  },
  {
   "cell_type": "code",
   "execution_count": 25,
   "metadata": {},
   "outputs": [
    {
     "data": {
      "image/png": "[encoded data removed]",
      "text/plain": [
       "<Figure size 432x288 with 1 Axes>"
      ]
     },
     "metadata": {
      "needs_background": "light"
     },
     "output_type": "display_data"
    }
   ],
   "source": [
    "plot_graphs(history_mlp, 'loss')"
   ]
  },
  {
   "cell_type": "code",
   "execution_count": 26,
   "metadata": {},
   "outputs": [],
   "source": [
    "h_mlp = consolidate_results(history_mlp, test_loss_mlp, test_acc_mlp, 'binary_accuracy', 'MLP')\n",
    "model_results.append(h_mlp)"
   ]
  },
  {
   "cell_type": "markdown",
   "metadata": {},
   "source": [
    "# LSTM with Attention"
   ]
  },
  {
   "cell_type": "markdown",
   "metadata": {},
   "source": [
    "Model Architecture: \n",
    "Input -> Word Embedding Layer -> Bi-LSTM -> Attention layer -> Fully Connected -> Sigmoid "
   ]
  },
  {
   "cell_type": "code",
   "execution_count": 27,
   "metadata": {},
   "outputs": [
    {
     "name": "stdout",
     "output_type": "stream",
     "text": [
      "Epoch 1, Loss: 0.4470224380493164, Accuracy: 85.75, Val Loss: 0.3909376263618469, Val Accuracy: 86.734375\n",
      "Epoch 2, Loss: 0.40201056003570557, Accuracy: 86.81510925292969, Val Loss: 0.38866734504699707, Val Accuracy: 86.734375\n",
      "Epoch 3, Loss: 0.38703280687332153, Accuracy: 86.828125, Val Loss: 0.3520542085170746, Val Accuracy: 86.7421875\n",
      "Epoch 4, Loss: 0.28169071674346924, Accuracy: 89.51302337646484, Val Loss: 0.19319452345371246, Val Accuracy: 92.59375\n",
      "Epoch 5, Loss: 0.1553483009338379, Accuracy: 94.9296875, Val Loss: 0.11727271974086761, Val Accuracy: 96.7109375\n",
      "Epoch 6, Loss: 0.09540519118309021, Accuracy: 97.55989074707031, Val Loss: 0.08239178359508514, Val Accuracy: 97.5234375\n",
      "Epoch 7, Loss: 0.06941118091344833, Accuracy: 98.47135925292969, Val Loss: 0.06266382336616516, Val Accuracy: 98.234375\n",
      "Epoch 8, Loss: 0.051452167332172394, Accuracy: 98.96875, Val Loss: 0.05575566738843918, Val Accuracy: 98.328125\n",
      "Epoch 9, Loss: 0.043038126081228256, Accuracy: 99.15625, Val Loss: 0.048674698919057846, Val Accuracy: 98.4765625\n",
      "Epoch 10, Loss: 0.036274153739213943, Accuracy: 99.34114837646484, Val Loss: 0.04959454387426376, Val Accuracy: 98.4921875\n"
     ]
    }
   ],
   "source": [
    "sequence_length = 100\n",
    "embedding_dim = 50\n",
    "model_attention = AttentionLSTM(sequence_length, embedding_dim)\n",
    "\n",
    "history_attention = train_part(model_attention, train_dset, val_dset, num_epochs=10, is_training=True)"
   ]
  },
  {
   "cell_type": "markdown",
   "metadata": {},
   "source": [
    "Evaluate model"
   ]
  },
  {
   "cell_type": "code",
   "execution_count": 28,
   "metadata": {},
   "outputs": [
    {
     "name": "stdout",
     "output_type": "stream",
     "text": [
      "Test Loss: 0.05338376387953758\n",
      "Test Accuracy: 0.9842968583106995\n"
     ]
    }
   ],
   "source": [
    "test_loss_attention, test_acc_attention = evaluate(model_attention, test_dset)\n",
    "print('Test Loss: {}'.format(test_loss_attention))\n",
    "print('Test Accuracy: {}'.format(test_acc_attention))"
   ]
  },
  {
   "cell_type": "code",
   "execution_count": 29,
   "metadata": {},
   "outputs": [
    {
     "data": {
      "image/png": "[encoded data removed]",
      "text/plain": [
       "<Figure size 432x288 with 1 Axes>"
      ]
     },
     "metadata": {
      "needs_background": "light"
     },
     "output_type": "display_data"
    }
   ],
   "source": [
    "plot_graphs(history_attention, 'accuracy')"
   ]
  },
  {
   "cell_type": "code",
   "execution_count": 30,
   "metadata": {},
   "outputs": [
    {
     "data": {
      "image/png": "[encoded data removed]",
      "text/plain": [
       "<Figure size 432x288 with 1 Axes>"
      ]
     },
     "metadata": {
      "needs_background": "light"
     },
     "output_type": "display_data"
    }
   ],
   "source": [
    "plot_graphs(history_attention, 'loss')"
   ]
  },
  {
   "cell_type": "code",
   "execution_count": 31,
   "metadata": {},
   "outputs": [],
   "source": [
    "h_attention = consolidate_results(history_attention, test_loss_attention, test_acc_attention, 'accuracy', 'LSTM Attention')\n",
    "model_results.append(h_attention)"
   ]
  },
  {
   "cell_type": "markdown",
   "metadata": {},
   "source": [
    "# Comparison"
   ]
  },
  {
   "cell_type": "markdown",
   "metadata": {},
   "source": [
    "Here before cross validation we can see LSTM, CNN, CNN Glove, LSTM Attention have very similar test accuracies. <br>\n",
    "At this point we haven't done any cross validation so Val Accuracy and Test Accuracy have similar meaning."
   ]
  },
  {
   "cell_type": "code",
   "execution_count": 32,
   "metadata": {},
   "outputs": [
    {
     "data": {
      "text/html": [
       "<div>\n",
       "<style scoped>\n",
       "    .dataframe tbody tr th:only-of-type {\n",
       "        vertical-align: middle;\n",
       "    }\n",
       "\n",
       "    .dataframe tbody tr th {\n",
       "        vertical-align: top;\n",
       "    }\n",
       "\n",
       "    .dataframe thead th {\n",
       "        text-align: right;\n",
       "    }\n",
       "</style>\n",
       "<table border=\"1\" class=\"dataframe\">\n",
       "  <thead>\n",
       "    <tr style=\"text-align: right;\">\n",
       "      <th></th>\n",
       "      <th>Model</th>\n",
       "      <th>Train Accuracy</th>\n",
       "      <th>Val Accuracy</th>\n",
       "      <th>Test Accuracy</th>\n",
       "      <th>Train Loss</th>\n",
       "      <th>Val Loss</th>\n",
       "      <th>Test Loss</th>\n",
       "    </tr>\n",
       "  </thead>\n",
       "  <tbody>\n",
       "    <tr>\n",
       "      <th>0</th>\n",
       "      <td>LSTM</td>\n",
       "      <td>98.968750</td>\n",
       "      <td>98.145831</td>\n",
       "      <td>97.796875</td>\n",
       "      <td>0.038686</td>\n",
       "      <td>0.064345</td>\n",
       "      <td>0.071102</td>\n",
       "    </tr>\n",
       "    <tr>\n",
       "      <th>1</th>\n",
       "      <td>CNN</td>\n",
       "      <td>99.972224</td>\n",
       "      <td>99.052083</td>\n",
       "      <td>98.968750</td>\n",
       "      <td>0.003656</td>\n",
       "      <td>0.029736</td>\n",
       "      <td>0.031196</td>\n",
       "    </tr>\n",
       "    <tr>\n",
       "      <th>2</th>\n",
       "      <td>CNN GLoVe</td>\n",
       "      <td>99.788195</td>\n",
       "      <td>98.312497</td>\n",
       "      <td>98.054689</td>\n",
       "      <td>0.015931</td>\n",
       "      <td>0.051168</td>\n",
       "      <td>0.056080</td>\n",
       "    </tr>\n",
       "    <tr>\n",
       "      <th>3</th>\n",
       "      <td>MLP</td>\n",
       "      <td>86.781251</td>\n",
       "      <td>86.854166</td>\n",
       "      <td>86.828125</td>\n",
       "      <td>0.568995</td>\n",
       "      <td>0.553748</td>\n",
       "      <td>0.554169</td>\n",
       "    </tr>\n",
       "    <tr>\n",
       "      <th>4</th>\n",
       "      <td>LSTM Attention</td>\n",
       "      <td>99.341148</td>\n",
       "      <td>98.492187</td>\n",
       "      <td>98.429686</td>\n",
       "      <td>0.036274</td>\n",
       "      <td>0.049595</td>\n",
       "      <td>0.053384</td>\n",
       "    </tr>\n",
       "  </tbody>\n",
       "</table>\n",
       "</div>"
      ],
      "text/plain": [
       "            Model  Train Accuracy  Val Accuracy  Test Accuracy  Train Loss  \\\n",
       "0            LSTM       98.968750     98.145831      97.796875    0.038686   \n",
       "1             CNN       99.972224     99.052083      98.968750    0.003656   \n",
       "2       CNN GLoVe       99.788195     98.312497      98.054689    0.015931   \n",
       "3             MLP       86.781251     86.854166      86.828125    0.568995   \n",
       "4  LSTM Attention       99.341148     98.492187      98.429686    0.036274   \n",
       "\n",
       "   Val Loss  Test Loss  \n",
       "0  0.064345   0.071102  \n",
       "1  0.029736   0.031196  \n",
       "2  0.051168   0.056080  \n",
       "3  0.553748   0.554169  \n",
       "4  0.049595   0.053384  "
      ]
     },
     "execution_count": 32,
     "metadata": {},
     "output_type": "execute_result"
    }
   ],
   "source": [
    "col_names = ['Model', 'Train Accuracy', 'Val Accuracy', 'Test Accuracy', 'Train Loss', 'Val Loss', 'Test Loss']\n",
    "comparison_df = pd.DataFrame(data=model_results, columns=col_names)\n",
    "comparison_df"
   ]
  },
  {
   "cell_type": "markdown",
   "metadata": {},
   "source": [
    "The cross_validation function iterates over different hyper parameter settings to find the best model configuration. This could easily be extended for more detailed paramter tuning."
   ]
  },
  {
   "cell_type": "code",
   "execution_count": 33,
   "metadata": {},
   "outputs": [],
   "source": [
    "def cross_validation(model_type, X_train, y_train, tokenizer, label_index):\n",
    "\n",
    "    learning_rates = np.linspace(1e-3, 5e-4, 5)\n",
    "    regularization_strengths = np.linspace(0.001, 1.5, 1)\n",
    "\n",
    "    best_val = -1.\n",
    "    best_train = -1\n",
    "    best_model = None\n",
    "    best_lr = None\n",
    "    best_reg = None\n",
    "    progress_counter = 0\n",
    "    total_tests = learning_rates.shape[0] * regularization_strengths.shape[0]\n",
    "\n",
    "    print('Cross validation : ', model_type)\n",
    "    \n",
    "    start_time = time.time()\n",
    "    \n",
    "    for lr in learning_rates:\n",
    "        for reg in regularization_strengths:\n",
    "            # Train the network\n",
    "            model = TextClassifier(tokenizer, label_index, verbose=0)\n",
    "            history = model.train(X_train, y_train, model_type, epochs=10,learning_rate=lr, regularization=reg)\n",
    "            val_acc_history = history['val_binary_accuracy']\n",
    "            val_acc = val_acc_history[-1]\n",
    "\n",
    "            if val_acc > best_val:\n",
    "                del best_model\n",
    "                best_val = val_acc\n",
    "                best_model = model\n",
    "                best_lr = lr\n",
    "                best_reg = reg\n",
    "            else:\n",
    "                del model\n",
    "                \n",
    "            progress_counter += 1    \n",
    "            progress_bar(progress_counter, total_tests)\n",
    "            \n",
    "    best_hist = best_model.history\n",
    "    \n",
    "    train_acc, val_loss, train_loss = best_hist['binary_accuracy'][-1], best_hist['val_loss'][-1], best_hist['loss'][-1]\n",
    "\n",
    "    print(\"Execution time: %s seconds\" % (time.time() - start_time))\n",
    "    print('Best validation accuracy: %f - Train accuracy: %f - val loss: %f - train loss: %f'\n",
    "          % (best_val, train_acc, val_loss, train_loss) )\n",
    "    print('Best learning rate: %f - regularization : %f' % (best_lr, best_reg) )\n",
    "    return best_model"
   ]
  },
  {
   "cell_type": "code",
   "execution_count": 34,
   "metadata": {},
   "outputs": [
    {
     "name": "stdout",
     "output_type": "stream",
     "text": [
      "Shape of data tensor: (8000,)\n",
      "Found 3796 unique tokens.\n",
      "Cross validation :  LSTM\n",
      "Status: [########################################] 5/5 \n",
      "Execution time: 784.0467822551727 seconds\n",
      "Best validation accuracy: 0.987266 - Train accuracy: 0.995365 - val loss: 0.039083 - train loss: 0.017893\n",
      "Best learning rate: 0.000875 - regularization : 0.001000\n",
      "Cross validation :  MLP\n",
      "Status: [########################################] 5/5 \n",
      "Execution time: 31.463531970977783 seconds\n",
      "Best validation accuracy: 0.868203 - Train accuracy: 0.867865 - val loss: 0.423441 - train loss: 0.426895\n",
      "Best learning rate: 0.001000 - regularization : 0.001000\n",
      "Cross validation :  CNN\n",
      "Status: [########################################] 5/5 \n",
      "Execution time: 128.11821484565735 seconds\n",
      "Best validation accuracy: 0.993906 - Train accuracy: 0.999896 - val loss: 0.021583 - train loss: 0.002028\n",
      "Best learning rate: 0.001000 - regularization : 0.001000\n",
      "Cross validation :  CNN_Glove\n",
      "Status: [########################################] 5/5 \n",
      "Execution time: 129.84704685211182 seconds\n",
      "Best validation accuracy: 0.985703 - Train accuracy: 0.999349 - val loss: 0.040929 - train loss: 0.010051\n",
      "Best learning rate: 0.001000 - regularization : 0.001000\n",
      "Cross validation :  Attention\n",
      "Status: [########################################] 5/5 \n",
      "Execution time: 1615.359377861023 seconds\n",
      "Best validation accuracy: 0.981719 - Train accuracy: 0.989453 - val loss: 0.065180 - train loss: 0.055497\n",
      "Best learning rate: 0.000875 - regularization : 0.001000\n"
     ]
    }
   ],
   "source": [
    "X, y, tokenizer, label_index = tokenize_data(df['pp_sent'].values, df['label'])\n",
    "X_train, X_test, y_train, y_test = train_test_split(X, y, test_size=0.20, random_state=42)\n",
    "\n",
    "best_lstm = cross_validation(\"LSTM\", X_train, y_train, tokenizer, label_index)\n",
    "best_mlp = cross_validation(\"MLP\", X_train, y_train, tokenizer, label_index)\n",
    "best_cnn = cross_validation(\"CNN\", X_train, y_train, tokenizer, label_index)\n",
    "best_glove = cross_validation(\"CNN_Glove\", X_train, y_train, tokenizer, label_index)\n",
    "best_attention = cross_validation(\"Attention\", X_train, y_train, tokenizer, label_index)"
   ]
  },
  {
   "cell_type": "markdown",
   "metadata": {},
   "source": [
    "CNN seems to perform the best amongst all the other models here.\n",
    "<br> \n",
    "CNN with GLoVe embedding is also slightly slower than CNN(with learnt embedding) while not performing any better.<br>\n",
    "LSTM was approximately 7 times slower than CNN and also didn't perform any better than CNN. \n",
    "<br>\n",
    "MLP was expected to perform the worst as by design it has no temporal information. \n",
    "<br><br>\n",
    "Evaluating Test Accuracies on the best models after cross validation and hyper parameter tuning. "
   ]
  },
  {
   "cell_type": "code",
   "execution_count": 36,
   "metadata": {},
   "outputs": [
    {
     "name": "stdout",
     "output_type": "stream",
     "text": [
      "1600/1600 [==============================] - 0s 190us/sample - loss: 0.0262 - binary_accuracy: 0.9914\n",
      "CNN: Test Loss: 0.02619475994259119\n",
      "CNN: Test Accuracy: 0.991406261920929\n",
      "1600/1600 [==============================] - 0s 227us/sample - loss: 0.0448 - binary_accuracy: 0.9845\n",
      "CNN Glove: Test Loss: 0.044752007480710745\n",
      "CNN Glove: Test Accuracy: 0.9844531416893005\n",
      "1600/1600 [==============================] - 1s 926us/sample - loss: 0.0490 - binary_accuracy: 0.9852\n",
      "LSTM: Test Loss: 0.048955942951142785\n",
      "LSTM: Test Accuracy: 0.9852343797683716\n",
      "1600/1600 [==============================] - 0s 30us/sample - loss: 0.4233 - binary_accuracy: 0.8683\n",
      "MLP: Test Loss: 0.4232836264371872\n",
      "MLP: Test Accuracy: 0.8682812452316284\n",
      "Attention: Test Loss: 0.06706774979829788\n",
      "Attention: Test Accuracy: 0.9792187213897705\n"
     ]
    }
   ],
   "source": [
    "test_loss, test_acc = best_cnn.evaluate(X_test,y_test)\n",
    "print('CNN: Test Loss: {}'.format(test_loss))\n",
    "print('CNN: Test Accuracy: {}'.format(test_acc))\n",
    "\n",
    "test_loss, test_acc = best_glove.evaluate(X_test,y_test)\n",
    "print('CNN Glove: Test Loss: {}'.format(test_loss))\n",
    "print('CNN Glove: Test Accuracy: {}'.format(test_acc))\n",
    "\n",
    "test_loss, test_acc = best_lstm.evaluate(X_test,y_test)\n",
    "print('LSTM: Test Loss: {}'.format(test_loss))\n",
    "print('LSTM: Test Accuracy: {}'.format(test_acc))\n",
    "\n",
    "test_loss, test_acc = best_mlp.evaluate(X_test,y_test)\n",
    "print('MLP: Test Loss: {}'.format(test_loss))\n",
    "print('MLP: Test Accuracy: {}'.format(test_acc))\n",
    "\n",
    "test_loss, test_acc = evaluate(best_attention.model, test_dset)\n",
    "print('Attention: Test Loss: {}'.format(test_loss))\n",
    "print('Attention: Test Accuracy: {}'.format(test_acc))"
   ]
  },
  {
   "cell_type": "markdown",
   "metadata": {},
   "source": [
    "The below code block loads a review, splits it into sentences and sub-sentences, and returns a flattened list"
   ]
  },
  {
   "cell_type": "code",
   "execution_count": 37,
   "metadata": {},
   "outputs": [],
   "source": [
    "data_pros_cons = pickle.load( open( \"review_pros_cons.pkl\", \"rb\" ))\n",
    "review = data_pros_cons.iloc[10,0]\n",
    "blocks = extract_text_blocks(review)"
   ]
  },
  {
   "cell_type": "markdown",
   "metadata": {},
   "source": [
    "Text example"
   ]
  },
  {
   "cell_type": "code",
   "execution_count": 38,
   "metadata": {},
   "outputs": [
    {
     "name": "stdout",
     "output_type": "stream",
     "text": [
      "I worked for the internal marketing team (MarCom) on the creative side. The best thing about working at Apple is your coworkers. They do an excellent job of hiring incredibly intelligent, talented people. It's quite humbling to work alongside such accomplished people. You'll always feel like the dumbest person in the room, which is great because everyone has so much to teach you. Most of them are ego-free (about 70% of them) and will help you whenever possible. There are so many personality types, though nearly all of them are perfectionist Type A people. If that is your kind of crew, you'll do well.\r\n",
      "\r\n",
      "The work usually comes in waves. When you're on, you're all the way on. For weeks at a time you can expect late nights and no weekends. On the flip side, when it's slow, it's very slow. You can often work from home or take comp days. During downtimes it is not uncommon to go in for five hours including a long lunch and then go home.\r\n",
      "\r\n",
      "In addition to this, the compensation is good. The stock program is okay. But the pay is more than fair and their annual reviews pretty much guarantee a raise, bonus, and/or more stock.\r\n",
      "\r\n",
      "Finally, Tim Cook seems like a genuinely good person. Even in the relatively short time he's been in his role, he has made enormous leaps to give that company a real set of values that are current with this generation. He feels like a real human being, which is something Apple desperately needs.\n"
     ]
    }
   ],
   "source": [
    "print(review)"
   ]
  },
  {
   "cell_type": "code",
   "execution_count": 39,
   "metadata": {},
   "outputs": [],
   "source": [
    "# Helper function to print sentences and categories from the prediction list\n",
    "def print_categories_sentences(prediction_dict):\n",
    "    \n",
    "    if len(prediction_dict) == 0:\n",
    "        print (\"No predictions made\")\n",
    "        \n",
    "    for k,v in predictions.items():\n",
    "        categories = [i[1] for i in v[0]]\n",
    "        sentence = v[1]\n",
    "        print(categories, sentence)"
   ]
  },
  {
   "cell_type": "markdown",
   "metadata": {},
   "source": [
    "# Predict"
   ]
  },
  {
   "cell_type": "markdown",
   "metadata": {},
   "source": [
    "The predict function takes in a list of important text blocks as input, and returns a list of \"useful/important\" sentences with their categories and confidence values. <br>\n",
    "Below we visualize the outputs of the 4 models on the text above(review)."
   ]
  },
  {
   "cell_type": "markdown",
   "metadata": {},
   "source": [
    "## CNN"
   ]
  },
  {
   "cell_type": "code",
   "execution_count": 42,
   "metadata": {},
   "outputs": [
    {
     "name": "stdout",
     "output_type": "stream",
     "text": [
      "['Job Security/Advancement'] I worked for the internal marketing team (MarCom) on the creative side.\n",
      "['culture_team'] They do an excellent job of hiring incredibly intelligent, talented people.\n",
      "['salary_benefits'] Most of them are ego-free (about 70% of them) and will help you whenever possible.\n",
      "['wlb_working_conditions'] The work usually comes in waves.\n",
      "['salary_benefits'] When you're on, you're all the way on.\n",
      "['wlb_working_conditions'] For weeks at a time you can expect late nights and no weekends.\n",
      "['culture_team', 'wlb_working_conditions'] You can often work from home or take comp days.\n",
      "['salary_benefits'] In addition to this, the compensation is good.\n",
      "['salary_benefits'] The stock program is okay.\n",
      "['culture_team'] Finally, Tim Cook seems like a genuinely good person.\n",
      "['culture_team'] Even in the relatively short time he's been in his role, he has made enormous leaps to give that company a real set of values that are current with this generation.\n"
     ]
    }
   ],
   "source": [
    "predictions = best_cnn.predict(blocks)\n",
    "print_categories_sentences(predictions)"
   ]
  },
  {
   "cell_type": "markdown",
   "metadata": {},
   "source": [
    "## CNN Glove"
   ]
  },
  {
   "cell_type": "code",
   "execution_count": 43,
   "metadata": {},
   "outputs": [
    {
     "name": "stdout",
     "output_type": "stream",
     "text": [
      "['culture_team'] They do an excellent job of hiring incredibly intelligent, talented people.\n",
      "['wlb_working_conditions'] The work usually comes in waves.\n",
      "['wlb_working_conditions'] For weeks at a time you can expect late nights and no weekends.\n",
      "['wlb_working_conditions'] You can often work from home or take comp days.\n",
      "['salary_benefits'] The stock program is okay.\n",
      "['salary_benefits'] But the pay is more than fair and their annual reviews pretty much guarantee a raise, bonus, and/or more stock.\n",
      "['culture_team'] Finally, Tim Cook seems like a genuinely good person.\n"
     ]
    }
   ],
   "source": [
    "predictions = best_glove.predict(blocks)\n",
    "print_categories_sentences(predictions)"
   ]
  },
  {
   "cell_type": "markdown",
   "metadata": {},
   "source": [
    "## LSTM"
   ]
  },
  {
   "cell_type": "code",
   "execution_count": 44,
   "metadata": {},
   "outputs": [
    {
     "name": "stdout",
     "output_type": "stream",
     "text": [
      "['culture_team'] The best thing about working at Apple is your coworkers.\n",
      "['culture_team'] They do an excellent job of hiring incredibly intelligent, talented people.\n",
      "['Job Security/Advancement'] You'll always feel like the dumbest person in the room, which is great because everyone has so much to teach you.\n",
      "['salary_benefits'] Most of them are ego-free (about 70% of them) and will help you whenever possible.\n",
      "['Job Security/Advancement'] There are so many personality types, though nearly all of them are perfectionist Type A people.\n",
      "['wlb_working_conditions'] The work usually comes in waves.\n",
      "['wlb_working_conditions'] For weeks at a time you can expect late nights and no weekends.\n",
      "['wlb_working_conditions'] You can often work from home or take comp days.\n",
      "['wlb_working_conditions'] During downtimes it is not uncommon to go in for five hours including a long lunch and then go home.\n",
      "['salary_benefits'] In addition to this, the compensation is good.\n",
      "['salary_benefits'] The stock program is okay.\n",
      "['salary_benefits'] But the pay is more than fair and their annual reviews pretty much guarantee a raise, bonus, and/or more stock.\n",
      "['culture_team'] Finally, Tim Cook seems like a genuinely good person.\n",
      "['management'] Even in the relatively short time he's been in his role, he has made enormous leaps to give that company a real set of values that are current with this generation.\n"
     ]
    }
   ],
   "source": [
    "predictions = best_lstm.predict(blocks)\n",
    "print_categories_sentences(predictions)"
   ]
  },
  {
   "cell_type": "markdown",
   "metadata": {},
   "source": [
    "## MLP"
   ]
  },
  {
   "cell_type": "code",
   "execution_count": 45,
   "metadata": {},
   "outputs": [
    {
     "name": "stdout",
     "output_type": "stream",
     "text": [
      "No predictions made\n"
     ]
    }
   ],
   "source": [
    "predictions = best_mlp.predict(blocks)\n",
    "print_categories_sentences(predictions)"
   ]
  },
  {
   "cell_type": "markdown",
   "metadata": {},
   "source": [
    "## LSTM with Attention"
   ]
  },
  {
   "cell_type": "code",
   "execution_count": 47,
   "metadata": {},
   "outputs": [
    {
     "name": "stdout",
     "output_type": "stream",
     "text": [
      "['culture_team'] The best thing about working at Apple is your coworkers.\n",
      "['culture_team'] They do an excellent job of hiring incredibly intelligent, talented people.\n",
      "['Job Security/Advancement'] You'll always feel like the dumbest person in the room, which is great because everyone has so much to teach you.\n",
      "['management'] There are so many personality types, though nearly all of them are perfectionist Type A people.\n",
      "['haras_discrim_sexism'] If that is your kind of crew, you'll do well.\n",
      "['wlb_working_conditions'] For weeks at a time you can expect late nights and no weekends.\n",
      "['culture_team'] On the flip side, when it's slow, it's very slow.\n",
      "['wlb_working_conditions'] You can often work from home or take comp days.\n",
      "['wlb_working_conditions'] During downtimes it is not uncommon to go in for five hours including a long lunch and then go home.\n",
      "['salary_benefits'] In addition to this, the compensation is good.\n",
      "['salary_benefits'] The stock program is okay.\n",
      "['salary_benefits'] But the pay is more than fair and their annual reviews pretty much guarantee a raise, bonus, and/or more stock.\n",
      "['culture_team'] Finally, Tim Cook seems like a genuinely good person.\n",
      "['culture_team'] Even in the relatively short time he's been in his role, he has made enormous leaps to give that company a real set of values that are current with this generation.\n"
     ]
    }
   ],
   "source": [
    "predictions = predict_labels(blocks, best_attention.model, tokenizer, label_index)\n",
    "print_categories_sentences(predictions)"
   ]
  }
 ],
 "metadata": {
  "kernelspec": {
   "display_name": "Python 3",
   "language": "python",
   "name": "python3"
  },
  "language_info": {
   "codemirror_mode": {
    "name": "ipython",
    "version": 3
   },
   "file_extension": ".py",
   "mimetype": "text/x-python",
   "name": "python",
   "nbconvert_exporter": "python",
   "pygments_lexer": "ipython3",
   "version": "3.7.5"
  }
 },
 "nbformat": 4,
 "nbformat_minor": 2
}
