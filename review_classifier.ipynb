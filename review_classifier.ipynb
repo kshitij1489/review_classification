{
 "cells": [
  {
   "cell_type": "code",
   "execution_count": 22,
   "metadata": {},
   "outputs": [
    {
     "name": "stdout",
     "output_type": "stream",
     "text": [
      "The autoreload extension is already loaded. To reload it, use:\n",
      "  %reload_ext autoreload\n"
     ]
    }
   ],
   "source": [
    "import numpy as np\n",
    "import pandas as pd\n",
    "import pickle\n",
    "import time\n",
    "\n",
    "from sklearn.model_selection import train_test_split\n",
    "\n",
    "from text_models import TextClassifier, extract_text_blocks, tokenize_data, load_glove_embedding\n",
    "from lstm_attention_model import AttentionLSTM, train_part, evaluate, predict_labels\n",
    "from helper import Dataset\n",
    "%load_ext autoreload\n",
    "%autoreload 2"
   ]
  },
  {
   "cell_type": "code",
   "execution_count": 8,
   "metadata": {},
   "outputs": [],
   "source": [
    "import matplotlib.pyplot as plt\n",
    "\n",
    "def plot_graphs(history, string):\n",
    "    plt.plot(history.history[string])\n",
    "    plt.plot(history.history['val_'+string], '')\n",
    "    plt.xlabel(\"Epochs\")\n",
    "    plt.ylabel(string)\n",
    "    plt.legend([string, 'val_'+string])\n",
    "    plt.show()\n",
    "\n",
    "import sys\n",
    "\n",
    "def progress_bar(i, total):\n",
    "    line_end = \"\"\n",
    "    if i == total:\n",
    "        line_end = \"\\n\"\n",
    "        \n",
    "    size = 40\n",
    "    x = int(round(size*i/total))\n",
    "    text = '\\rStatus: [%s] %d/%d %s' % (\"#\"*x + \".\"*(size-x), i, total, line_end)\n",
    "    sys.stdout.write(text)\n",
    "    sys.stdout.flush()"
   ]
  },
  {
   "cell_type": "markdown",
   "metadata": {},
   "source": [
    "# Load Dataset "
   ]
  },
  {
   "cell_type": "markdown",
   "metadata": {},
   "source": [
    "The dataset is a pandas dataframe with two columns: Text labels and the text sentences and sub-sentences. There are 8 different categories(labels) in total. Each sentence could also have multiple categories(labels) associated with it."
   ]
  },
  {
   "cell_type": "code",
   "execution_count": 5,
   "metadata": {},
   "outputs": [],
   "source": [
    "df = pickle.load( open( \"review_labelled.pkl\", \"rb\" ))"
   ]
  },
  {
   "cell_type": "code",
   "execution_count": 6,
   "metadata": {},
   "outputs": [
    {
     "data": {
      "text/plain": [
       "<bound method NDFrame.tail of                                                    label  \\\n",
       "16                            [Job Security/Advancement]   \n",
       "149    [Job Security/Advancement, business_vision_com...   \n",
       "220                           [Job Security/Advancement]   \n",
       "233                           [Job Security/Advancement]   \n",
       "396                           [Job Security/Advancement]   \n",
       "...                                                  ...   \n",
       "48187                           [wlb_working_conditions]   \n",
       "48198                           [wlb_working_conditions]   \n",
       "48201                           [wlb_working_conditions]   \n",
       "48218                           [wlb_working_conditions]   \n",
       "48290                           [wlb_working_conditions]   \n",
       "\n",
       "                                   pp_sent  \n",
       "16                  developing your skills  \n",
       "149                        rapidly growing  \n",
       "220      easy to get your foot in the door  \n",
       "233            opportunity for advancement  \n",
       "396                  career growth options  \n",
       "...                                    ...  \n",
       "48187  work life balance is generally good  \n",
       "48198               good work life balance  \n",
       "48201               flexible working hours  \n",
       "48218               flexible working hours  \n",
       "48290    really caring about personal life  \n",
       "\n",
       "[8000 rows x 2 columns]>"
      ]
     },
     "execution_count": 6,
     "metadata": {},
     "output_type": "execute_result"
    }
   ],
   "source": [
    "df.tail"
   ]
  },
  {
   "cell_type": "markdown",
   "metadata": {},
   "source": [
    "# Train LSTM"
   ]
  },
  {
   "cell_type": "markdown",
   "metadata": {},
   "source": [
    "Train a Multilabel text classifier using LSTM. This model has the following architecture: <br>\n",
    "Input -> Word Embedding Layer -> LSTM -> Spatial Dropout -> Fully Connected -> RELU -> Fully Connected -> Sigmoid <br>\n",
    "Here the LSTM output to the next fully connected layer is from the last time step only. All the model implementations could be found at text_models.py"
   ]
  },
  {
   "cell_type": "code",
   "execution_count": null,
   "metadata": {},
   "outputs": [],
   "source": [
    "X, y, tokenizer, label_index = tokenize_data(df['pp_sent'].values, df['label'])\n",
    "model_lstm = TextClassifier(tokenizer, label_index)\n",
    "\n",
    "X_train, X_test, y_train, y_test = train_test_split(X, y, test_size=0.33, random_state=42)\n",
    "\n",
    "history_lstm = model_lstm.train(X_train, y_train, 'LSTM')\n",
    "model_lstm.model.summary()"
   ]
  },
  {
   "cell_type": "markdown",
   "metadata": {},
   "source": [
    "Evaluate Model"
   ]
  },
  {
   "cell_type": "code",
   "execution_count": null,
   "metadata": {},
   "outputs": [],
   "source": [
    "test_loss, test_acc = model_lstm.evaluate(X_test,y_test)\n",
    "print('Test Loss: {}'.format(test_loss))\n",
    "print('Test Accuracy: {}'.format(test_acc))"
   ]
  },
  {
   "cell_type": "code",
   "execution_count": null,
   "metadata": {},
   "outputs": [],
   "source": [
    "plot_graphs(history_lstm, 'binary_accuracy')"
   ]
  },
  {
   "cell_type": "code",
   "execution_count": null,
   "metadata": {},
   "outputs": [],
   "source": [
    "plot_graphs(history_lstm, 'loss')"
   ]
  },
  {
   "cell_type": "markdown",
   "metadata": {},
   "source": [
    "# Train CNN"
   ]
  },
  {
   "cell_type": "markdown",
   "metadata": {},
   "source": [
    "Model Architecture: <br> Input -> Word Embedding Layer -> Convolution Layer -> RELU -> Global Max Pool -> Fully Connected -> Sigmoid "
   ]
  },
  {
   "cell_type": "code",
   "execution_count": 18,
   "metadata": {},
   "outputs": [
    {
     "name": "stdout",
     "output_type": "stream",
     "text": [
      "Shape of data tensor: (8000,)\n",
      "Found 3796 unique tokens.\n",
      "Train on 4824 samples, validate on 536 samples\n",
      "Epoch 1/5\n",
      "4824/4824 [==============================] - 2s 450us/sample - loss: 0.4380 - binary_accuracy: 0.8612 - val_loss: 0.3451 - val_binary_accuracy: 0.8773\n",
      "Epoch 2/5\n",
      "4824/4824 [==============================] - 2s 400us/sample - loss: 0.2402 - binary_accuracy: 0.9058 - val_loss: 0.1247 - val_binary_accuracy: 0.9580\n",
      "Epoch 3/5\n",
      "4824/4824 [==============================] - 2s 420us/sample - loss: 0.0723 - binary_accuracy: 0.9790 - val_loss: 0.0510 - val_binary_accuracy: 0.9851\n",
      "Epoch 4/5\n",
      "4824/4824 [==============================] - 2s 414us/sample - loss: 0.0310 - binary_accuracy: 0.9914 - val_loss: 0.0330 - val_binary_accuracy: 0.9886\n",
      "Epoch 5/5\n",
      "4824/4824 [==============================] - 2s 398us/sample - loss: 0.0170 - binary_accuracy: 0.9957 - val_loss: 0.0259 - val_binary_accuracy: 0.9911\n",
      "Model: \"sequential\"\n",
      "_________________________________________________________________\n",
      "Layer (type)                 Output Shape              Param #   \n",
      "=================================================================\n",
      "embedding_1 (Embedding)      (None, None, 50)          2500000   \n",
      "_________________________________________________________________\n",
      "conv1d (Conv1D)              (None, None, 300)         45300     \n",
      "_________________________________________________________________\n",
      "global_max_pooling1d (Global (None, 300)               0         \n",
      "_________________________________________________________________\n",
      "dense_1 (Dense)              (None, 8)                 2408      \n",
      "=================================================================\n",
      "Total params: 2,547,708\n",
      "Trainable params: 2,547,708\n",
      "Non-trainable params: 0\n",
      "_________________________________________________________________\n"
     ]
    }
   ],
   "source": [
    "X, y, tokenizer, label_index = tokenize_data(df['pp_sent'].values, df['label'])\n",
    "model_cnn = TextClassifier(tokenizer, label_index)\n",
    "\n",
    "X_train, X_test, y_train, y_test = train_test_split(X, y, test_size=0.33, random_state=42)\n",
    "\n",
    "history_cnn = model_cnn.train(X_train, y_train, 'CNN')\n",
    "model_cnn.model.summary()"
   ]
  },
  {
   "cell_type": "markdown",
   "metadata": {},
   "source": [
    "Evaluate CNN Model"
   ]
  },
  {
   "cell_type": "code",
   "execution_count": 19,
   "metadata": {},
   "outputs": [
    {
     "name": "stdout",
     "output_type": "stream",
     "text": [
      "2640/2640 [==============================] - 0s 80us/sample - loss: 0.0287 - binary_accuracy: 0.9907\n",
      "Test Loss: 0.028670915351672606\n",
      "Test Accuracy: 0.9907196760177612\n"
     ]
    }
   ],
   "source": [
    "test_loss, test_acc = model_cnn.evaluate(X_test,y_test)\n",
    "print('Test Loss: {}'.format(test_loss))\n",
    "print('Test Accuracy: {}'.format(test_acc))"
   ]
  },
  {
   "cell_type": "code",
   "execution_count": 26,
   "metadata": {},
   "outputs": [
    {
     "data": {
      "image/png": "[encoded data removed]",
      "text/plain": [
       "<Figure size 432x288 with 1 Axes>"
      ]
     },
     "metadata": {
      "needs_background": "light"
     },
     "output_type": "display_data"
    }
   ],
   "source": [
    "plot_graphs(history_cnn, 'binary_accuracy')"
   ]
  },
  {
   "cell_type": "code",
   "execution_count": null,
   "metadata": {},
   "outputs": [],
   "source": [
    "plot_graphs(history_cnn, 'loss')"
   ]
  },
  {
   "cell_type": "markdown",
   "metadata": {},
   "source": [
    "# Train CNN Glove"
   ]
  },
  {
   "cell_type": "markdown",
   "metadata": {},
   "source": [
    "Model Architecture: \n",
    "Input -> GLoVe Word Embedding(Non trainable)  -> Convolution Layer -> RELU -> Global Max Pool -> Fully Connected -> Sigmoid"
   ]
  },
  {
   "cell_type": "code",
   "execution_count": null,
   "metadata": {},
   "outputs": [],
   "source": [
    "X, y, tokenizer, label_index = tokenize_data(df['pp_sent'].values, df['label'])\n",
    "model_cnn_glove = TextClassifier(tokenizer, label_index)\n",
    "\n",
    "X_train, X_test, y_train, y_test = train_test_split(X, y, test_size=0.33, random_state=42)\n",
    "\n",
    "history_cnn_glove = model_cnn_glove.train(X_train, y_train, 'CNN_Glove')\n",
    "model_cnn_glove.model.summary()"
   ]
  },
  {
   "cell_type": "markdown",
   "metadata": {},
   "source": [
    "Evaluate Glove Model"
   ]
  },
  {
   "cell_type": "code",
   "execution_count": null,
   "metadata": {},
   "outputs": [],
   "source": [
    "test_loss, test_acc = model_cnn_glove.evaluate(X_test,y_test)\n",
    "print('Test Loss: {}'.format(test_loss))\n",
    "print('Test Accuracy: {}'.format(test_acc))"
   ]
  },
  {
   "cell_type": "code",
   "execution_count": null,
   "metadata": {},
   "outputs": [],
   "source": [
    "plot_graphs(history_cnn_glove, 'binary_accuracy')"
   ]
  },
  {
   "cell_type": "code",
   "execution_count": null,
   "metadata": {},
   "outputs": [],
   "source": [
    "plot_graphs(history_cnn_glove, 'loss')"
   ]
  },
  {
   "cell_type": "markdown",
   "metadata": {},
   "source": [
    "# Train MLP"
   ]
  },
  {
   "cell_type": "markdown",
   "metadata": {},
   "source": [
    "Model Architecture: <br>\n",
    "Input -> Word Embedding Layer -> 4x(Fully Connected -> RELU) -> Fully Connected -> Sigmoid <br>"
   ]
  },
  {
   "cell_type": "code",
   "execution_count": null,
   "metadata": {},
   "outputs": [],
   "source": [
    "X, y, tokenizer, label_index = tokenize_data(df['pp_sent'].values, df['label'])\n",
    "model_mlp = TextClassifier(tokenizer, label_index)\n",
    "\n",
    "X_train, X_test, y_train, y_test = train_test_split(X, y, test_size=0.33, random_state=42)\n",
    "\n",
    "history_mlp = model_mlp.train(X_train, y_train, 'MLP')\n",
    "model_mlp.model.summary()"
   ]
  },
  {
   "cell_type": "markdown",
   "metadata": {},
   "source": [
    "Evaluate MLP Model"
   ]
  },
  {
   "cell_type": "code",
   "execution_count": null,
   "metadata": {},
   "outputs": [],
   "source": [
    "test_loss, test_acc = model_mlp.evaluate(X_test,y_test)\n",
    "print('Test Loss: {}'.format(test_loss))\n",
    "print('Test Accuracy: {}'.format(test_acc))"
   ]
  },
  {
   "cell_type": "code",
   "execution_count": null,
   "metadata": {},
   "outputs": [],
   "source": [
    "plot_graphs(history_mlp, 'binary_accuracy')"
   ]
  },
  {
   "cell_type": "code",
   "execution_count": null,
   "metadata": {},
   "outputs": [],
   "source": [
    "plot_graphs(history_mlp, 'loss')"
   ]
  },
  {
   "cell_type": "markdown",
   "metadata": {},
   "source": [
    "The cross_validation function iterates over different hyper parameter settings to find the best model configuration."
   ]
  },
  {
   "cell_type": "code",
   "execution_count": null,
   "metadata": {},
   "outputs": [],
   "source": [
    "def cross_validation(model_type, X_train, y_train, tokenizer, label_index):\n",
    "\n",
    "    learning_rates = np.linspace(1e-3, 5e-4, 5)\n",
    "    regularization_strengths = np.linspace(0.001, 1.5, 5)\n",
    "\n",
    "    best_val = -1.\n",
    "    best_train = -1\n",
    "    best_model = None\n",
    "    best_lr = None\n",
    "    best_reg = None\n",
    "    progress_counter = 0\n",
    "    total_tests = learning_rates.shape[0] * regularization_strengths.shape[0]\n",
    "\n",
    "    print('Cross validation : ', model_type)\n",
    "    \n",
    "    start_time = time.time()\n",
    "    \n",
    "    for lr in learning_rates:\n",
    "        for reg in regularization_strengths:\n",
    "            # Train the network\n",
    "            model = TextClassifier(tokenizer, label_index, verbose=0)\n",
    "            history = model.train(X_train, y_train, model_type, learning_rate=lr, regularization=reg)\n",
    "            val_acc_history = history.history['val_accuracy']\n",
    "            val_acc = val_acc_history[-1]\n",
    "\n",
    "            if val_acc > best_val:\n",
    "                del best_model\n",
    "                best_val = val_acc\n",
    "                best_model = model\n",
    "                best_lr = lr\n",
    "                best_reg = reg\n",
    "            else:\n",
    "                del model\n",
    "                \n",
    "            progress_counter += 1    \n",
    "            progress_bar(progress_counter, total_tests)\n",
    "            \n",
    "    best_hist = best_model.history.history\n",
    "    \n",
    "    train_acc, val_loss, train_loss = best_hist['accuracy'][-1], best_hist['val_loss'][-1], best_hist['loss'][-1]\n",
    "\n",
    "    print(\"Execution time: %s seconds\" % (time.time() - start_time))\n",
    "    print('Best validation accuracy: %f - Train accuracy: %f - val loss: %f - train loss: %f'\n",
    "          % (best_val, train_acc, val_loss, train_loss) )\n",
    "    print('Best learning rate: %f - regularization : %f' % (best_lr, best_reg) )\n",
    "    return best_model"
   ]
  },
  {
   "cell_type": "code",
   "execution_count": null,
   "metadata": {},
   "outputs": [],
   "source": [
    "X, y, tokenizer, label_index = tokenize_data(df['pp_sent'].values, df['label'])\n",
    "X_train, X_test, y_train, y_test = train_test_split(X, y, test_size=0.33, random_state=42)\n",
    "\n",
    "best_lstm = cross_validation(\"LSTM\", X_train, y_train, tokenizer, label_index)\n",
    "best_mlp = cross_validation(\"MLP\", X_train, y_train, tokenizer, label_index)\n",
    "best_cnn = cross_validation(\"CNN\", X_train, y_train, tokenizer, label_index)\n",
    "best_glove = cross_validation(\"CNN_Glove\", X_train, y_train, tokenizer, label_index)"
   ]
  },
  {
   "cell_type": "markdown",
   "metadata": {},
   "source": [
    "CNN seems to perform the best amongst all the other models here.\n",
    "<br> \n",
    "CNN with GLoVe embedding is also slightly slower than CNN(with learnt embedding) while not performing any better.<br>\n",
    "LSTM was approximately 7 times slower than CNN and also didn't perform any better than CNN. \n",
    "<br>\n",
    "MLP was expected to perform the worst as by design it has no temporal information. \n",
    "<br><br>\n",
    "Evaluating Test Accuracies on the best models after cross validation and hyper parameter tuning. "
   ]
  },
  {
   "cell_type": "code",
   "execution_count": null,
   "metadata": {},
   "outputs": [],
   "source": [
    "test_loss, test_acc = best_cnn.evaluate(X_test,y_test)\n",
    "print('CNN: Test Loss: {}'.format(test_loss))\n",
    "print('CNN: Test Accuracy: {}'.format(test_acc))\n",
    "\n",
    "test_loss, test_acc = best_glove.evaluate(X_test,y_test)\n",
    "print('CNN Glove: Test Loss: {}'.format(test_loss))\n",
    "print('CNN Glove: Test Accuracy: {}'.format(test_acc))\n",
    "\n",
    "test_loss, test_acc = best_lstm.evaluate(X_test,y_test)\n",
    "print('LSTM: Test Loss: {}'.format(test_loss))\n",
    "print('LSTM: Test Accuracy: {}'.format(test_acc))\n",
    "\n",
    "test_loss, test_acc = best_mlp.evaluate(X_test,y_test)\n",
    "print('MLP: Test Loss: {}'.format(test_loss))\n",
    "print('MLP: Test Accuracy: {}'.format(test_acc))"
   ]
  },
  {
   "cell_type": "markdown",
   "metadata": {},
   "source": [
    "The below code block loads a review, splits it into sentences and sub-sentences, and returns a flattened list"
   ]
  },
  {
   "cell_type": "code",
   "execution_count": 9,
   "metadata": {},
   "outputs": [],
   "source": [
    "data_pros_cons = pickle.load( open( \"review_pros_cons.pkl\", \"rb\" ))\n",
    "review = data_pros_cons.iloc[10,0]\n",
    "blocks = extract_text_blocks(review)"
   ]
  },
  {
   "cell_type": "markdown",
   "metadata": {},
   "source": [
    "Text example"
   ]
  },
  {
   "cell_type": "code",
   "execution_count": 10,
   "metadata": {},
   "outputs": [
    {
     "name": "stdout",
     "output_type": "stream",
     "text": [
      "I worked for the internal marketing team (MarCom) on the creative side. The best thing about working at Apple is your coworkers. They do an excellent job of hiring incredibly intelligent, talented people. It's quite humbling to work alongside such accomplished people. You'll always feel like the dumbest person in the room, which is great because everyone has so much to teach you. Most of them are ego-free (about 70% of them) and will help you whenever possible. There are so many personality types, though nearly all of them are perfectionist Type A people. If that is your kind of crew, you'll do well.\r\n",
      "\r\n",
      "The work usually comes in waves. When you're on, you're all the way on. For weeks at a time you can expect late nights and no weekends. On the flip side, when it's slow, it's very slow. You can often work from home or take comp days. During downtimes it is not uncommon to go in for five hours including a long lunch and then go home.\r\n",
      "\r\n",
      "In addition to this, the compensation is good. The stock program is okay. But the pay is more than fair and their annual reviews pretty much guarantee a raise, bonus, and/or more stock.\r\n",
      "\r\n",
      "Finally, Tim Cook seems like a genuinely good person. Even in the relatively short time he's been in his role, he has made enormous leaps to give that company a real set of values that are current with this generation. He feels like a real human being, which is something Apple desperately needs.\n"
     ]
    }
   ],
   "source": [
    "print(review)"
   ]
  },
  {
   "cell_type": "code",
   "execution_count": 11,
   "metadata": {},
   "outputs": [],
   "source": [
    "# Helper function to print sentences and categories from the prediction list\n",
    "def print_categories_sentences(prediction_dict):\n",
    "    \n",
    "    if len(prediction_dict) == 0:\n",
    "        print (\"No predictions made\")\n",
    "        \n",
    "    for k,v in predictions.items():\n",
    "        categories = [i[1] for i in v[0]]\n",
    "        sentence = v[1]\n",
    "        print(categories, sentence)"
   ]
  },
  {
   "cell_type": "markdown",
   "metadata": {},
   "source": [
    "# Predict"
   ]
  },
  {
   "cell_type": "markdown",
   "metadata": {},
   "source": [
    "The predict function takes in a list of important text blocks as input, and returns a list of \"useful/important\" sentences with their categories and confidence values. <br>\n",
    "Below we visualize the outputs of the 4 models on the text above(review)."
   ]
  },
  {
   "cell_type": "markdown",
   "metadata": {},
   "source": [
    "# CNN"
   ]
  },
  {
   "cell_type": "code",
   "execution_count": 23,
   "metadata": {},
   "outputs": [
    {
     "name": "stdout",
     "output_type": "stream",
     "text": [
      "['Job Security/Advancement'] I worked for the internal marketing team (MarCom) on the creative side.\n",
      "['culture_team'] They do an excellent job of hiring incredibly intelligent, talented people.\n",
      "['salary_benefits'] Most of them are ego-free (about 70% of them) and will help you whenever possible.\n",
      "['salary_benefits'] When you're on, you're all the way on.\n",
      "['wlb_working_conditions'] For weeks at a time you can expect late nights and no weekends.\n",
      "['culture_team'] On the flip side, when it's slow, it's very slow.\n",
      "['wlb_working_conditions'] You can often work from home or take comp days.\n",
      "['wlb_working_conditions'] During downtimes it is not uncommon to go in for five hours including a long lunch and then go home.\n",
      "['salary_benefits'] In addition to this, the compensation is good.\n",
      "['salary_benefits'] The stock program is okay.\n",
      "['culture_team'] Finally, Tim Cook seems like a genuinely good person.\n"
     ]
    }
   ],
   "source": [
    "predictions = best_cnn.predict(blocks)\n",
    "print_categories_sentences(predictions)"
   ]
  },
  {
   "cell_type": "markdown",
   "metadata": {},
   "source": [
    "# CNN Glove"
   ]
  },
  {
   "cell_type": "code",
   "execution_count": null,
   "metadata": {},
   "outputs": [],
   "source": [
    "predictions = best_glove.predict(blocks)\n",
    "print_categories_sentences(predictions)"
   ]
  },
  {
   "cell_type": "markdown",
   "metadata": {},
   "source": [
    "# LSTM"
   ]
  },
  {
   "cell_type": "code",
   "execution_count": null,
   "metadata": {},
   "outputs": [],
   "source": [
    "predictions = best_lstm.predict(blocks)\n",
    "print_categories_sentences(predictions)"
   ]
  },
  {
   "cell_type": "markdown",
   "metadata": {},
   "source": [
    "# MLP"
   ]
  },
  {
   "cell_type": "code",
   "execution_count": null,
   "metadata": {},
   "outputs": [],
   "source": [
    "predictions = best_mlp.predict(blocks)\n",
    "print_categories_sentences(predictions)"
   ]
  },
  {
   "cell_type": "markdown",
   "metadata": {},
   "source": [
    "# LSTM with Attention"
   ]
  },
  {
   "cell_type": "code",
   "execution_count": 12,
   "metadata": {},
   "outputs": [
    {
     "name": "stdout",
     "output_type": "stream",
     "text": [
      "Shape of data tensor: (8000,)\n",
      "Found 3796 unique tokens.\n"
     ]
    }
   ],
   "source": [
    "X, y, tokenizer, label_index = tokenize_data(df['pp_sent'].values, df['label'])\n",
    "\n",
    "X_train, X_test, y_train, y_test = train_test_split(X, y, test_size=0.2, random_state=1)\n",
    "X_train, X_val, y_train, y_val = train_test_split(X_train, y_train, test_size=0.25, random_state=1)"
   ]
  },
  {
   "cell_type": "code",
   "execution_count": 13,
   "metadata": {},
   "outputs": [],
   "source": [
    "train_dset = Dataset(X_train, y_train, batch_size=64, shuffle=True)\n",
    "val_dset = Dataset(X_val, y_val, batch_size=64, shuffle=True)\n",
    "test_dset = Dataset(X_test, y_test, batch_size=64)"
   ]
  },
  {
   "cell_type": "code",
   "execution_count": 14,
   "metadata": {},
   "outputs": [
    {
     "name": "stdout",
     "output_type": "stream",
     "text": [
      "Iteration 0, Epoch 1, Loss: 0.690375566482544, Accuracy: 53.515625, Val Loss: 0.6813831329345703, Val Accuracy: 77.8359375\n",
      "Iteration 100, Epoch 2, Loss: 0.40696054697036743, Accuracy: 86.80137634277344, Val Loss: 0.3904970586299896, Val Accuracy: 86.8203125\n",
      "Iteration 200, Epoch 3, Loss: 0.39767274260520935, Accuracy: 86.80683135986328, Val Loss: 0.36877337098121643, Val Accuracy: 86.8203125\n",
      "Iteration 300, Epoch 5, Loss: 0.20571783185005188, Accuracy: 92.7734375, Val Loss: 0.18757209181785583, Val Accuracy: 93.3671875\n"
     ]
    }
   ],
   "source": [
    "sequence_length = 100\n",
    "embedding_dim = 50\n",
    "model = AttentionLSTM(sequence_length, embedding_dim)\n",
    "\n",
    "train_part(model, train_dset, val_dset, num_epochs=5, is_training=True)"
   ]
  },
  {
   "cell_type": "code",
   "execution_count": 15,
   "metadata": {},
   "outputs": [
    {
     "name": "stdout",
     "output_type": "stream",
     "text": [
      "Test set accuracy: 96.094%\n"
     ]
    }
   ],
   "source": [
    "pred = evaluate( model, test_dset)"
   ]
  },
  {
   "cell_type": "code",
   "execution_count": 16,
   "metadata": {},
   "outputs": [],
   "source": [
    "predictions = predict_labels(blocks, model, tokenizer, label_index)"
   ]
  },
  {
   "cell_type": "code",
   "execution_count": 17,
   "metadata": {},
   "outputs": [
    {
     "name": "stdout",
     "output_type": "stream",
     "text": [
      "['Job Security/Advancement'] I worked for the internal marketing team (MarCom) on the creative side.\n",
      "['culture_team'] They do an excellent job of hiring incredibly intelligent, talented people.\n",
      "['management'] It's quite humbling to work alongside such accomplished people.\n",
      "['management'] There are so many personality types, though nearly all of them are perfectionist Type A people.\n",
      "['haras_discrim_sexism'] If that is your kind of crew, you'll do well.\n",
      "['management'] The work usually comes in waves.\n",
      "['management'] When you're on, you're all the way on.\n",
      "['management'] In addition to this, the compensation is good.\n",
      "['management'] But the pay is more than fair and their annual reviews pretty much guarantee a raise, bonus, and/or more stock.\n",
      "['management'] Even in the relatively short time he's been in his role, he has made enormous leaps to give that company a real set of values that are current with this generation.\n"
     ]
    }
   ],
   "source": [
    "print_categories_sentences(predictions)"
   ]
  }
 ],
 "metadata": {
  "kernelspec": {
   "display_name": "Python 3",
   "language": "python",
   "name": "python3"
  },
  "language_info": {
   "codemirror_mode": {
    "name": "ipython",
    "version": 3
   },
   "file_extension": ".py",
   "mimetype": "text/x-python",
   "name": "python",
   "nbconvert_exporter": "python",
   "pygments_lexer": "ipython3",
   "version": "3.7.5"
  }
 },
 "nbformat": 4,
 "nbformat_minor": 2
}
