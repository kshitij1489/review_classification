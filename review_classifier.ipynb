{
 "cells": [
  {
   "cell_type": "code",
   "execution_count": 1,
   "metadata": {},
   "outputs": [],
   "source": [
    "import numpy as np\n",
    "import pandas as pd\n",
    "import pickle\n",
    "import time\n",
    "\n",
    "from sklearn.model_selection import train_test_split\n",
    "\n",
    "from text_models import TextClassifier, extract_text_blocks, tokenize_data, load_glove_embedding\n",
    "from lstm_attention_model import AttentionLSTM, train_part, evaluate, predict_labels\n",
    "from helper import Dataset, plot_graphs, progress_bar, consolidate_results\n",
    "%load_ext autoreload\n",
    "%autoreload 2"
   ]
  },
  {
   "cell_type": "markdown",
   "metadata": {},
   "source": [
    "# Load Dataset "
   ]
  },
  {
   "cell_type": "markdown",
   "metadata": {},
   "source": [
    "The dataset is a pandas dataframe with two columns: Text labels and the text sentences and sub-sentences. There are 8 different categories(labels) in total. Each sentence could also have multiple categories(labels) associated with it."
   ]
  },
  {
   "cell_type": "code",
   "execution_count": 2,
   "metadata": {},
   "outputs": [],
   "source": [
    "df = pickle.load( open( \"review_labelled.pkl\", \"rb\" ))"
   ]
  },
  {
   "cell_type": "code",
   "execution_count": 3,
   "metadata": {},
   "outputs": [
    {
     "data": {
      "text/html": [
       "<div>\n",
       "<style scoped>\n",
       "    .dataframe tbody tr th:only-of-type {\n",
       "        vertical-align: middle;\n",
       "    }\n",
       "\n",
       "    .dataframe tbody tr th {\n",
       "        vertical-align: top;\n",
       "    }\n",
       "\n",
       "    .dataframe thead th {\n",
       "        text-align: right;\n",
       "    }\n",
       "</style>\n",
       "<table border=\"1\" class=\"dataframe\">\n",
       "  <thead>\n",
       "    <tr style=\"text-align: right;\">\n",
       "      <th></th>\n",
       "      <th>label</th>\n",
       "      <th>pp_sent</th>\n",
       "    </tr>\n",
       "  </thead>\n",
       "  <tbody>\n",
       "    <tr>\n",
       "      <th>158379</th>\n",
       "      <td>[management]</td>\n",
       "      <td>they are very good at communicating the curren...</td>\n",
       "    </tr>\n",
       "    <tr>\n",
       "      <th>23660</th>\n",
       "      <td>[salary_benefits]</td>\n",
       "      <td>free snacks</td>\n",
       "    </tr>\n",
       "    <tr>\n",
       "      <th>173012</th>\n",
       "      <td>[tech_product]</td>\n",
       "      <td>interesting projects</td>\n",
       "    </tr>\n",
       "    <tr>\n",
       "      <th>226692</th>\n",
       "      <td>[business_vision_competitors]</td>\n",
       "      <td>a vision for the future</td>\n",
       "    </tr>\n",
       "    <tr>\n",
       "      <th>184856</th>\n",
       "      <td>[business_vision_competitors]</td>\n",
       "      <td>forward thinking employees</td>\n",
       "    </tr>\n",
       "    <tr>\n",
       "      <th>34312</th>\n",
       "      <td>[tech_product]</td>\n",
       "      <td>tesla gives its interns the opportunity to per...</td>\n",
       "    </tr>\n",
       "    <tr>\n",
       "      <th>6273</th>\n",
       "      <td>[salary_benefits]</td>\n",
       "      <td>ping pong</td>\n",
       "    </tr>\n",
       "    <tr>\n",
       "      <th>27441</th>\n",
       "      <td>[culture_team]</td>\n",
       "      <td>great co workers</td>\n",
       "    </tr>\n",
       "    <tr>\n",
       "      <th>40975</th>\n",
       "      <td>[salary_benefits, wlb_working_conditions]</td>\n",
       "      <td>excellent setup company with plenty of fun act...</td>\n",
       "    </tr>\n",
       "    <tr>\n",
       "      <th>45222</th>\n",
       "      <td>[Job Security/Advancement]</td>\n",
       "      <td>plenty of departments to move around in if you...</td>\n",
       "    </tr>\n",
       "  </tbody>\n",
       "</table>\n",
       "</div>"
      ],
      "text/plain": [
       "                                            label  \\\n",
       "158379                               [management]   \n",
       "23660                           [salary_benefits]   \n",
       "173012                             [tech_product]   \n",
       "226692              [business_vision_competitors]   \n",
       "184856              [business_vision_competitors]   \n",
       "34312                              [tech_product]   \n",
       "6273                            [salary_benefits]   \n",
       "27441                              [culture_team]   \n",
       "40975   [salary_benefits, wlb_working_conditions]   \n",
       "45222                  [Job Security/Advancement]   \n",
       "\n",
       "                                                  pp_sent  \n",
       "158379  they are very good at communicating the curren...  \n",
       "23660                                         free snacks  \n",
       "173012                               interesting projects  \n",
       "226692                            a vision for the future  \n",
       "184856                         forward thinking employees  \n",
       "34312   tesla gives its interns the opportunity to per...  \n",
       "6273                                            ping pong  \n",
       "27441                                    great co workers  \n",
       "40975   excellent setup company with plenty of fun act...  \n",
       "45222   plenty of departments to move around in if you...  "
      ]
     },
     "execution_count": 3,
     "metadata": {},
     "output_type": "execute_result"
    }
   ],
   "source": [
    "df.sample(10)"
   ]
  },
  {
   "cell_type": "markdown",
   "metadata": {},
   "source": [
    "Check for category imbalances in our dataset. Dataset looks well balanced in this case."
   ]
  },
  {
   "cell_type": "code",
   "execution_count": 4,
   "metadata": {},
   "outputs": [
    {
     "data": {
      "text/plain": [
       "Counter({'Job Security/Advancement': 1151,\n",
       "         'business_vision_competitors': 1042,\n",
       "         'culture_team': 1148,\n",
       "         'wlb_working_conditions': 1013,\n",
       "         'salary_benefits': 1019,\n",
       "         'management': 1064,\n",
       "         'tech_product': 1009,\n",
       "         'haras_discrim_sexism': 1001})"
      ]
     },
     "execution_count": 4,
     "metadata": {},
     "output_type": "execute_result"
    }
   ],
   "source": [
    "from collections import Counter\n",
    "label_count = Counter([category for sublist in df.label.to_numpy() for category in sublist])\n",
    "label_count"
   ]
  },
  {
   "cell_type": "markdown",
   "metadata": {},
   "source": [
    "# Data Preparation"
   ]
  },
  {
   "cell_type": "code",
   "execution_count": 5,
   "metadata": {},
   "outputs": [
    {
     "name": "stdout",
     "output_type": "stream",
     "text": [
      "Shape of data tensor: (8000,)\n",
      "Found 3796 unique tokens.\n"
     ]
    }
   ],
   "source": [
    "X, y, tokenizer, label_index = tokenize_data(df['pp_sent'].values, df['label'])\n",
    "\n",
    "X_train, X_test, y_train, y_test = train_test_split(X, y, test_size=0.20, random_state=42)\n",
    "X_train, X_val, y_train, y_val = train_test_split(X_train, y_train, test_size=0.25, random_state=1)\n",
    "\n",
    "# Split data into batches of 64\n",
    "train_dset = Dataset(X_train, y_train, batch_size=64, shuffle=True)\n",
    "val_dset = Dataset(X_val, y_val, batch_size=64, shuffle=True)\n",
    "test_dset = Dataset(X_test, y_test, batch_size=64)"
   ]
  },
  {
   "cell_type": "code",
   "execution_count": 6,
   "metadata": {},
   "outputs": [],
   "source": [
    "# This variable holds the test results for all the models for later comparison.\n",
    "model_results = []"
   ]
  },
  {
   "cell_type": "markdown",
   "metadata": {},
   "source": [
    "# Train LSTM"
   ]
  },
  {
   "cell_type": "markdown",
   "metadata": {},
   "source": [
    "Train a Multilabel text classifier using LSTM. This model has the following architecture: <br>\n",
    "Input -> Word Embedding Layer -> LSTM -> Spatial Dropout -> Fully Connected -> RELU -> Fully Connected -> Sigmoid <br>\n",
    "Here the LSTM output to the next fully connected layer is from the last time step only. All the model implementations could be found at text_models.py"
   ]
  },
  {
   "cell_type": "code",
   "execution_count": 7,
   "metadata": {},
   "outputs": [
    {
     "name": "stderr",
     "output_type": "stream",
     "text": [
      "WARNING: Logging before flag parsing goes to stderr.\n",
      "W0215 20:19:27.872645 4564635072 deprecation.py:506] From /Users/kshitijsharma/Documents/CS231n/assignment2/.env/lib/python3.7/site-packages/tensorflow/python/keras/backend.py:4081: calling dropout (from tensorflow.python.ops.nn_ops) with keep_prob is deprecated and will be removed in a future version.\n",
      "Instructions for updating:\n",
      "Please use `rate` instead of `keep_prob`. Rate should be set to `rate = 1 - keep_prob`.\n"
     ]
    },
    {
     "name": "stdout",
     "output_type": "stream",
     "text": [
      "Train on 3600 samples, validate on 1200 samples\n",
      "Epoch 1/10\n",
      "3600/3600 [==============================] - 12s 3ms/sample - loss: 0.4568 - binary_accuracy: 0.8540 - val_loss: 0.3881 - val_binary_accuracy: 0.8685\n",
      "Epoch 2/10\n",
      "3600/3600 [==============================] - 11s 3ms/sample - loss: 0.3862 - binary_accuracy: 0.8680 - val_loss: 0.3777 - val_binary_accuracy: 0.8685\n",
      "Epoch 3/10\n",
      "3600/3600 [==============================] - 11s 3ms/sample - loss: 0.3534 - binary_accuracy: 0.8683 - val_loss: 0.3087 - val_binary_accuracy: 0.8772\n",
      "Epoch 4/10\n",
      "3600/3600 [==============================] - 11s 3ms/sample - loss: 0.2636 - binary_accuracy: 0.8926 - val_loss: 0.2107 - val_binary_accuracy: 0.9234\n",
      "Epoch 5/10\n",
      "3600/3600 [==============================] - 10s 3ms/sample - loss: 0.1781 - binary_accuracy: 0.9345 - val_loss: 0.1475 - val_binary_accuracy: 0.9524\n",
      "Epoch 6/10\n",
      "3600/3600 [==============================] - 10s 3ms/sample - loss: 0.1123 - binary_accuracy: 0.9683 - val_loss: 0.0989 - val_binary_accuracy: 0.9736\n",
      "Epoch 7/10\n",
      "3600/3600 [==============================] - 10s 3ms/sample - loss: 0.0707 - binary_accuracy: 0.9822 - val_loss: 0.0832 - val_binary_accuracy: 0.9761\n",
      "Epoch 8/10\n",
      "3600/3600 [==============================] - 10s 3ms/sample - loss: 0.0473 - binary_accuracy: 0.9873 - val_loss: 0.0626 - val_binary_accuracy: 0.9825\n",
      "Epoch 9/10\n",
      "3600/3600 [==============================] - 10s 3ms/sample - loss: 0.0352 - binary_accuracy: 0.9912 - val_loss: 0.0636 - val_binary_accuracy: 0.9847\n",
      "Epoch 10/10\n",
      "3600/3600 [==============================] - 10s 3ms/sample - loss: 0.0273 - binary_accuracy: 0.9933 - val_loss: 0.0573 - val_binary_accuracy: 0.9842\n",
      "Model: \"sequential\"\n",
      "_________________________________________________________________\n",
      "Layer (type)                 Output Shape              Param #   \n",
      "=================================================================\n",
      "embedding (Embedding)        (None, None, 50)          2500000   \n",
      "_________________________________________________________________\n",
      "spatial_dropout1d (SpatialDr (None, None, 50)          0         \n",
      "_________________________________________________________________\n",
      "lstm (LSTM)                  (None, 100)               60400     \n",
      "_________________________________________________________________\n",
      "dense (Dense)                (None, 32)                3232      \n",
      "_________________________________________________________________\n",
      "dense_1 (Dense)              (None, 8)                 264       \n",
      "=================================================================\n",
      "Total params: 2,563,896\n",
      "Trainable params: 2,563,896\n",
      "Non-trainable params: 0\n",
      "_________________________________________________________________\n"
     ]
    }
   ],
   "source": [
    "model_lstm = TextClassifier(tokenizer, label_index)\n",
    "\n",
    "history_lstm = model_lstm.train(X_train, y_train, 'LSTM', epochs = 10)\n",
    "model_lstm.model.summary()"
   ]
  },
  {
   "cell_type": "markdown",
   "metadata": {},
   "source": [
    "Evaluate Model"
   ]
  },
  {
   "cell_type": "code",
   "execution_count": 8,
   "metadata": {},
   "outputs": [
    {
     "name": "stdout",
     "output_type": "stream",
     "text": [
      "1600/1600 [==============================] - 1s 588us/sample - loss: 0.0687 - binary_accuracy: 0.9820\n",
      "Test Loss: 0.06872728250920773\n",
      "Test Accuracy: 0.9819531440734863\n"
     ]
    }
   ],
   "source": [
    "test_loss_lstm, test_acc_lstm = model_lstm.evaluate(X_test,y_test)\n",
    "print('Test Loss: {}'.format(test_loss_lstm))\n",
    "print('Test Accuracy: {}'.format(test_acc_lstm))"
   ]
  },
  {
   "cell_type": "code",
   "execution_count": 9,
   "metadata": {},
   "outputs": [
    {
     "data": {
      "image/png": "[encoded data removed]",
      "text/plain": [
       "<Figure size 432x288 with 1 Axes>"
      ]
     },
     "metadata": {
      "needs_background": "light"
     },
     "output_type": "display_data"
    }
   ],
   "source": [
    "plot_graphs(history_lstm, 'binary_accuracy')"
   ]
  },
  {
   "cell_type": "code",
   "execution_count": 10,
   "metadata": {},
   "outputs": [
    {
     "data": {
      "image/png": "[encoded data removed]",
      "text/plain": [
       "<Figure size 432x288 with 1 Axes>"
      ]
     },
     "metadata": {
      "needs_background": "light"
     },
     "output_type": "display_data"
    }
   ],
   "source": [
    "plot_graphs(history_lstm, 'loss')"
   ]
  },
  {
   "cell_type": "code",
   "execution_count": 11,
   "metadata": {},
   "outputs": [],
   "source": [
    "h_lstm = consolidate_results(history_lstm, test_loss_lstm, test_acc_lstm, 'binary_accuracy', 'LSTM')\n",
    "model_results.append(h_lstm)"
   ]
  },
  {
   "cell_type": "markdown",
   "metadata": {},
   "source": [
    "# Train CNN"
   ]
  },
  {
   "cell_type": "markdown",
   "metadata": {},
   "source": [
    "Model Architecture: <br> Input -> Word Embedding Layer -> Convolution Layer -> RELU -> Global Max Pool -> Fully Connected -> Sigmoid "
   ]
  },
  {
   "cell_type": "code",
   "execution_count": 12,
   "metadata": {},
   "outputs": [
    {
     "name": "stdout",
     "output_type": "stream",
     "text": [
      "Train on 3600 samples, validate on 1200 samples\n",
      "Epoch 1/10\n",
      "3600/3600 [==============================] - 1s 403us/sample - loss: 0.4765 - binary_accuracy: 0.8545 - val_loss: 0.3699 - val_binary_accuracy: 0.8685\n",
      "Epoch 2/10\n",
      "3600/3600 [==============================] - 1s 349us/sample - loss: 0.3178 - binary_accuracy: 0.8779 - val_loss: 0.2297 - val_binary_accuracy: 0.9069\n",
      "Epoch 3/10\n",
      "3600/3600 [==============================] - 1s 352us/sample - loss: 0.1465 - binary_accuracy: 0.9458 - val_loss: 0.0858 - val_binary_accuracy: 0.9747\n",
      "Epoch 4/10\n",
      "3600/3600 [==============================] - 1s 349us/sample - loss: 0.0542 - binary_accuracy: 0.9845 - val_loss: 0.0495 - val_binary_accuracy: 0.9836\n",
      "Epoch 5/10\n",
      "3600/3600 [==============================] - 1s 350us/sample - loss: 0.0272 - binary_accuracy: 0.9927 - val_loss: 0.0381 - val_binary_accuracy: 0.9874\n",
      "Epoch 6/10\n",
      "3600/3600 [==============================] - 1s 354us/sample - loss: 0.0161 - binary_accuracy: 0.9967 - val_loss: 0.0325 - val_binary_accuracy: 0.9886\n",
      "Epoch 7/10\n",
      "3600/3600 [==============================] - 1s 344us/sample - loss: 0.0103 - binary_accuracy: 0.9982 - val_loss: 0.0302 - val_binary_accuracy: 0.9900\n",
      "Epoch 8/10\n",
      "3600/3600 [==============================] - 1s 346us/sample - loss: 0.0069 - binary_accuracy: 0.9989 - val_loss: 0.0286 - val_binary_accuracy: 0.9905\n",
      "Epoch 9/10\n",
      "3600/3600 [==============================] - 1s 349us/sample - loss: 0.0048 - binary_accuracy: 0.9994 - val_loss: 0.0274 - val_binary_accuracy: 0.9920\n",
      "Epoch 10/10\n",
      "3600/3600 [==============================] - 1s 349us/sample - loss: 0.0034 - binary_accuracy: 0.9997 - val_loss: 0.0273 - val_binary_accuracy: 0.9923\n",
      "Model: \"sequential_1\"\n",
      "_________________________________________________________________\n",
      "Layer (type)                 Output Shape              Param #   \n",
      "=================================================================\n",
      "embedding_1 (Embedding)      (None, None, 50)          2500000   \n",
      "_________________________________________________________________\n",
      "conv1d (Conv1D)              (None, None, 300)         45300     \n",
      "_________________________________________________________________\n",
      "global_max_pooling1d (Global (None, 300)               0         \n",
      "_________________________________________________________________\n",
      "dense_2 (Dense)              (None, 8)                 2408      \n",
      "=================================================================\n",
      "Total params: 2,547,708\n",
      "Trainable params: 2,547,708\n",
      "Non-trainable params: 0\n",
      "_________________________________________________________________\n"
     ]
    }
   ],
   "source": [
    "model_cnn = TextClassifier(tokenizer, label_index)\n",
    "\n",
    "history_cnn = model_cnn.train(X_train, y_train, 'CNN', epochs = 10)\n",
    "model_cnn.model.summary()"
   ]
  },
  {
   "cell_type": "markdown",
   "metadata": {},
   "source": [
    "Evaluate CNN Model"
   ]
  },
  {
   "cell_type": "code",
   "execution_count": 13,
   "metadata": {},
   "outputs": [
    {
     "name": "stdout",
     "output_type": "stream",
     "text": [
      "1600/1600 [==============================] - 0s 67us/sample - loss: 0.0283 - binary_accuracy: 0.9909\n",
      "Test Loss: 0.028251617536880075\n",
      "Test Accuracy: 0.9909374713897705\n"
     ]
    }
   ],
   "source": [
    "test_loss_cnn, test_acc_cnn = model_cnn.evaluate(X_test,y_test)\n",
    "print('Test Loss: {}'.format(test_loss_cnn))\n",
    "print('Test Accuracy: {}'.format(test_acc_cnn))"
   ]
  },
  {
   "cell_type": "code",
   "execution_count": 14,
   "metadata": {},
   "outputs": [
    {
     "data": {
      "image/png": "[encoded data removed]",
      "text/plain": [
       "<Figure size 432x288 with 1 Axes>"
      ]
     },
     "metadata": {
      "needs_background": "light"
     },
     "output_type": "display_data"
    }
   ],
   "source": [
    "plot_graphs(history_cnn, 'binary_accuracy')"
   ]
  },
  {
   "cell_type": "code",
   "execution_count": 15,
   "metadata": {},
   "outputs": [
    {
     "data": {
      "image/png": "[encoded data removed]",
      "text/plain": [
       "<Figure size 432x288 with 1 Axes>"
      ]
     },
     "metadata": {
      "needs_background": "light"
     },
     "output_type": "display_data"
    }
   ],
   "source": [
    "plot_graphs(history_cnn, 'loss')"
   ]
  },
  {
   "cell_type": "code",
   "execution_count": 16,
   "metadata": {},
   "outputs": [],
   "source": [
    "h_cnn = consolidate_results(history_cnn, test_loss_cnn, test_acc_cnn, 'binary_accuracy', 'CNN')\n",
    "model_results.append(h_cnn)"
   ]
  },
  {
   "cell_type": "markdown",
   "metadata": {},
   "source": [
    "# Train CNN Glove"
   ]
  },
  {
   "cell_type": "markdown",
   "metadata": {},
   "source": [
    "Model Architecture: \n",
    "Input -> GLoVe Word Embedding(Non trainable)  -> Convolution Layer -> RELU -> Global Max Pool -> Fully Connected -> Sigmoid"
   ]
  },
  {
   "cell_type": "code",
   "execution_count": 17,
   "metadata": {},
   "outputs": [
    {
     "name": "stdout",
     "output_type": "stream",
     "text": [
      "Train on 3600 samples, validate on 1200 samples\n",
      "Epoch 1/10\n",
      "3600/3600 [==============================] - 1s 323us/sample - loss: 0.3055 - binary_accuracy: 0.8883 - val_loss: 0.1828 - val_binary_accuracy: 0.9431\n",
      "Epoch 2/10\n",
      "3600/3600 [==============================] - 1s 263us/sample - loss: 0.1427 - binary_accuracy: 0.9541 - val_loss: 0.1194 - val_binary_accuracy: 0.9611\n",
      "Epoch 3/10\n",
      "3600/3600 [==============================] - 1s 266us/sample - loss: 0.0939 - binary_accuracy: 0.9714 - val_loss: 0.0950 - val_binary_accuracy: 0.9682\n",
      "Epoch 4/10\n",
      "3600/3600 [==============================] - 1s 266us/sample - loss: 0.0691 - binary_accuracy: 0.9800 - val_loss: 0.0772 - val_binary_accuracy: 0.9741\n",
      "Epoch 5/10\n",
      "3600/3600 [==============================] - 1s 262us/sample - loss: 0.0520 - binary_accuracy: 0.9862 - val_loss: 0.0692 - val_binary_accuracy: 0.9766\n",
      "Epoch 6/10\n",
      "3600/3600 [==============================] - 1s 265us/sample - loss: 0.0400 - binary_accuracy: 0.9903 - val_loss: 0.0638 - val_binary_accuracy: 0.9789\n",
      "Epoch 7/10\n",
      "3600/3600 [==============================] - 1s 261us/sample - loss: 0.0317 - binary_accuracy: 0.9935 - val_loss: 0.0589 - val_binary_accuracy: 0.9799\n",
      "Epoch 8/10\n",
      "3600/3600 [==============================] - 1s 270us/sample - loss: 0.0251 - binary_accuracy: 0.9955 - val_loss: 0.0549 - val_binary_accuracy: 0.9817\n",
      "Epoch 9/10\n",
      "3600/3600 [==============================] - 1s 270us/sample - loss: 0.0196 - binary_accuracy: 0.9971 - val_loss: 0.0537 - val_binary_accuracy: 0.9830\n",
      "Epoch 10/10\n",
      "3600/3600 [==============================] - 1s 269us/sample - loss: 0.0158 - binary_accuracy: 0.9983 - val_loss: 0.0513 - val_binary_accuracy: 0.9835\n",
      "Model: \"sequential_2\"\n",
      "_________________________________________________________________\n",
      "Layer (type)                 Output Shape              Param #   \n",
      "=================================================================\n",
      "embedding_2 (Embedding)      (None, 100, 100)          5000000   \n",
      "_________________________________________________________________\n",
      "conv1d_1 (Conv1D)            (None, 98, 300)           90300     \n",
      "_________________________________________________________________\n",
      "global_max_pooling1d_1 (Glob (None, 300)               0         \n",
      "_________________________________________________________________\n",
      "dense_3 (Dense)              (None, 8)                 2408      \n",
      "=================================================================\n",
      "Total params: 5,092,708\n",
      "Trainable params: 92,708\n",
      "Non-trainable params: 5,000,000\n",
      "_________________________________________________________________\n"
     ]
    }
   ],
   "source": [
    "model_cnn_glove = TextClassifier(tokenizer, label_index)\n",
    "\n",
    "history_cnn_glove = model_cnn_glove.train(X_train, y_train, 'CNN_Glove', epochs = 10)\n",
    "model_cnn_glove.model.summary()"
   ]
  },
  {
   "cell_type": "markdown",
   "metadata": {},
   "source": [
    "Evaluate Glove Model"
   ]
  },
  {
   "cell_type": "code",
   "execution_count": 18,
   "metadata": {},
   "outputs": [
    {
     "name": "stdout",
     "output_type": "stream",
     "text": [
      "1600/1600 [==============================] - 0s 101us/sample - loss: 0.0529 - binary_accuracy: 0.9822\n",
      "Test Loss: 0.05287746250629425\n",
      "Test Accuracy: 0.9821875095367432\n"
     ]
    }
   ],
   "source": [
    "test_loss_glove, test_acc_glove = model_cnn_glove.evaluate(X_test,y_test)\n",
    "print('Test Loss: {}'.format(test_loss_glove))\n",
    "print('Test Accuracy: {}'.format(test_acc_glove))"
   ]
  },
  {
   "cell_type": "code",
   "execution_count": 19,
   "metadata": {},
   "outputs": [
    {
     "data": {
      "image/png": "[encoded data removed]",
      "text/plain": [
       "<Figure size 432x288 with 1 Axes>"
      ]
     },
     "metadata": {
      "needs_background": "light"
     },
     "output_type": "display_data"
    }
   ],
   "source": [
    "plot_graphs(history_cnn_glove, 'binary_accuracy')"
   ]
  },
  {
   "cell_type": "code",
   "execution_count": 20,
   "metadata": {},
   "outputs": [
    {
     "data": {
      "image/png": "[encoded data removed]",
      "text/plain": [
       "<Figure size 432x288 with 1 Axes>"
      ]
     },
     "metadata": {
      "needs_background": "light"
     },
     "output_type": "display_data"
    }
   ],
   "source": [
    "plot_graphs(history_cnn_glove, 'loss')"
   ]
  },
  {
   "cell_type": "code",
   "execution_count": 21,
   "metadata": {},
   "outputs": [],
   "source": [
    "h_glove = consolidate_results(history_cnn_glove, test_loss_glove,\n",
    "                           test_acc_glove, 'binary_accuracy', 'CNN GLoVe')\n",
    "model_results.append(h_glove)"
   ]
  },
  {
   "cell_type": "markdown",
   "metadata": {},
   "source": [
    "# Train MLP"
   ]
  },
  {
   "cell_type": "markdown",
   "metadata": {},
   "source": [
    "Model Architecture: <br>\n",
    "Input -> Word Embedding Layer -> 4x(Fully Connected -> RELU) -> Fully Connected -> Sigmoid <br>"
   ]
  },
  {
   "cell_type": "code",
   "execution_count": 22,
   "metadata": {},
   "outputs": [
    {
     "name": "stdout",
     "output_type": "stream",
     "text": [
      "Train on 3600 samples, validate on 1200 samples\n",
      "Epoch 1/10\n",
      "3600/3600 [==============================] - 1s 143us/sample - loss: 3.7338 - binary_accuracy: 0.7806 - val_loss: 1.1593 - val_binary_accuracy: 0.8461\n",
      "Epoch 2/10\n",
      "3600/3600 [==============================] - 0s 49us/sample - loss: 1.2104 - binary_accuracy: 0.8168 - val_loss: 0.9133 - val_binary_accuracy: 0.8627\n",
      "Epoch 3/10\n",
      "3600/3600 [==============================] - 0s 47us/sample - loss: 0.9428 - binary_accuracy: 0.8459 - val_loss: 0.8218 - val_binary_accuracy: 0.8661\n",
      "Epoch 4/10\n",
      "3600/3600 [==============================] - 0s 46us/sample - loss: 0.8183 - binary_accuracy: 0.8585 - val_loss: 0.7422 - val_binary_accuracy: 0.8683\n",
      "Epoch 5/10\n",
      "3600/3600 [==============================] - 0s 46us/sample - loss: 0.7275 - binary_accuracy: 0.8649 - val_loss: 0.6717 - val_binary_accuracy: 0.8684\n",
      "Epoch 6/10\n",
      "3600/3600 [==============================] - 0s 46us/sample - loss: 0.6641 - binary_accuracy: 0.8668 - val_loss: 0.6344 - val_binary_accuracy: 0.8684\n",
      "Epoch 7/10\n",
      "3600/3600 [==============================] - 0s 46us/sample - loss: 0.6279 - binary_accuracy: 0.8674 - val_loss: 0.6072 - val_binary_accuracy: 0.8684\n",
      "Epoch 8/10\n",
      "3600/3600 [==============================] - 0s 45us/sample - loss: 0.6042 - binary_accuracy: 0.8672 - val_loss: 0.5845 - val_binary_accuracy: 0.8685\n",
      "Epoch 9/10\n",
      "3600/3600 [==============================] - 0s 46us/sample - loss: 0.5818 - binary_accuracy: 0.8675 - val_loss: 0.5654 - val_binary_accuracy: 0.8685\n",
      "Epoch 10/10\n",
      "3600/3600 [==============================] - 0s 46us/sample - loss: 0.5626 - binary_accuracy: 0.8678 - val_loss: 0.5484 - val_binary_accuracy: 0.8685\n",
      "Model: \"sequential_3\"\n",
      "_________________________________________________________________\n",
      "Layer (type)                 Output Shape              Param #   \n",
      "=================================================================\n",
      "dense_4 (Dense)              (None, 512)               51712     \n",
      "_________________________________________________________________\n",
      "dropout (Dropout)            (None, 512)               0         \n",
      "_________________________________________________________________\n",
      "dense_5 (Dense)              (None, 256)               131328    \n",
      "_________________________________________________________________\n",
      "dropout_1 (Dropout)          (None, 256)               0         \n",
      "_________________________________________________________________\n",
      "dense_6 (Dense)              (None, 256)               65792     \n",
      "_________________________________________________________________\n",
      "dropout_2 (Dropout)          (None, 256)               0         \n",
      "_________________________________________________________________\n",
      "dense_7 (Dense)              (None, 256)               65792     \n",
      "_________________________________________________________________\n",
      "dropout_3 (Dropout)          (None, 256)               0         \n",
      "_________________________________________________________________\n",
      "dense_8 (Dense)              (None, 8)                 2056      \n",
      "=================================================================\n",
      "Total params: 316,680\n",
      "Trainable params: 316,680\n",
      "Non-trainable params: 0\n",
      "_________________________________________________________________\n"
     ]
    }
   ],
   "source": [
    "model_mlp = TextClassifier(tokenizer, label_index)\n",
    "\n",
    "history_mlp = model_mlp.train(X_train, y_train, 'MLP', epochs = 10)\n",
    "model_mlp.model.summary()"
   ]
  },
  {
   "cell_type": "markdown",
   "metadata": {},
   "source": [
    "Evaluate MLP Model"
   ]
  },
  {
   "cell_type": "code",
   "execution_count": 23,
   "metadata": {},
   "outputs": [
    {
     "name": "stdout",
     "output_type": "stream",
     "text": [
      "1600/1600 [==============================] - 0s 25us/sample - loss: 0.5485 - binary_accuracy: 0.8683\n",
      "Test Loss: 0.5484774339199067\n",
      "Test Accuracy: 0.8682812452316284\n"
     ]
    }
   ],
   "source": [
    "test_loss_mlp, test_acc_mlp = model_mlp.evaluate(X_test,y_test)\n",
    "print('Test Loss: {}'.format(test_loss_mlp))\n",
    "print('Test Accuracy: {}'.format(test_acc_mlp))"
   ]
  },
  {
   "cell_type": "code",
   "execution_count": 24,
   "metadata": {},
   "outputs": [
    {
     "data": {
      "image/png": "[encoded data removed]",
      "text/plain": [
       "<Figure size 432x288 with 1 Axes>"
      ]
     },
     "metadata": {
      "needs_background": "light"
     },
     "output_type": "display_data"
    }
   ],
   "source": [
    "plot_graphs(history_mlp, 'binary_accuracy')"
   ]
  },
  {
   "cell_type": "code",
   "execution_count": 25,
   "metadata": {},
   "outputs": [
    {
     "data": {
      "image/png": "[encoded data removed]",
      "text/plain": [
       "<Figure size 432x288 with 1 Axes>"
      ]
     },
     "metadata": {
      "needs_background": "light"
     },
     "output_type": "display_data"
    }
   ],
   "source": [
    "plot_graphs(history_mlp, 'loss')"
   ]
  },
  {
   "cell_type": "code",
   "execution_count": 26,
   "metadata": {},
   "outputs": [],
   "source": [
    "h_mlp = consolidate_results(history_mlp, test_loss_mlp, test_acc_mlp, 'binary_accuracy', 'MLP')\n",
    "model_results.append(h_mlp)"
   ]
  },
  {
   "cell_type": "markdown",
   "metadata": {},
   "source": [
    "# LSTM with Attention"
   ]
  },
  {
   "cell_type": "markdown",
   "metadata": {},
   "source": [
    "Model Architecture: \n",
    "Input -> Word Embedding Layer -> Bi-LSTM -> Attention layer -> Fully Connected -> Sigmoid "
   ]
  },
  {
   "cell_type": "code",
   "execution_count": 27,
   "metadata": {},
   "outputs": [
    {
     "name": "stdout",
     "output_type": "stream",
     "text": [
      "Epoch 1, Loss: 0.4470841884613037, Accuracy: 86.03645324707031, Val Loss: 0.390531986951828, Val Accuracy: 86.734375\n",
      "Epoch 2, Loss: 0.3951128423213959, Accuracy: 86.78125, Val Loss: 0.35704097151756287, Val Accuracy: 86.7421875\n",
      "Epoch 3, Loss: 0.3341134786605835, Accuracy: 86.73697662353516, Val Loss: 0.29913437366485596, Val Accuracy: 87.671875\n",
      "Epoch 4, Loss: 0.2600809633731842, Accuracy: 89.22395324707031, Val Loss: 0.2130773514509201, Val Accuracy: 91.3671875\n",
      "Epoch 5, Loss: 0.19666379690170288, Accuracy: 92.4296875, Val Loss: 0.18286828696727753, Val Accuracy: 92.8359375\n",
      "Epoch 6, Loss: 0.16616038978099823, Accuracy: 94.23698425292969, Val Loss: 0.1499485969543457, Val Accuracy: 94.59375\n",
      "Epoch 7, Loss: 0.1197015643119812, Accuracy: 96.70833587646484, Val Loss: 0.10445407032966614, Val Accuracy: 96.84375\n",
      "Epoch 8, Loss: 0.08721920847892761, Accuracy: 97.953125, Val Loss: 0.09239151328802109, Val Accuracy: 97.203125\n",
      "Epoch 9, Loss: 0.0675198882818222, Accuracy: 98.64323425292969, Val Loss: 0.08196902275085449, Val Accuracy: 97.5390625\n",
      "Epoch 10, Loss: 0.056918952614068985, Accuracy: 98.84375, Val Loss: 0.08385293185710907, Val Accuracy: 97.4765625\n"
     ]
    }
   ],
   "source": [
    "sequence_length = 100\n",
    "embedding_dim = 50\n",
    "model_attention = AttentionLSTM(sequence_length, embedding_dim)\n",
    "\n",
    "history_attention = train_part(model_attention, train_dset, val_dset, num_epochs=10, is_training=True)"
   ]
  },
  {
   "cell_type": "markdown",
   "metadata": {},
   "source": [
    "Evaluate model"
   ]
  },
  {
   "cell_type": "code",
   "execution_count": 28,
   "metadata": {},
   "outputs": [
    {
     "name": "stdout",
     "output_type": "stream",
     "text": [
      "Test Loss: 0.08228757232427597\n",
      "Test Accuracy: 0.9752343893051147\n"
     ]
    }
   ],
   "source": [
    "test_loss_attention, test_acc_attention = evaluate(model_attention, test_dset)\n",
    "print('Test Loss: {}'.format(test_loss_attention))\n",
    "print('Test Accuracy: {}'.format(test_acc_attention))"
   ]
  },
  {
   "cell_type": "code",
   "execution_count": 29,
   "metadata": {},
   "outputs": [
    {
     "data": {
      "image/png": "[encoded data removed]",
      "text/plain": [
       "<Figure size 432x288 with 1 Axes>"
      ]
     },
     "metadata": {
      "needs_background": "light"
     },
     "output_type": "display_data"
    }
   ],
   "source": [
    "plot_graphs(history_attention, 'accuracy')"
   ]
  },
  {
   "cell_type": "code",
   "execution_count": 30,
   "metadata": {},
   "outputs": [
    {
     "data": {
      "image/png": "[encoded data removed]",
      "text/plain": [
       "<Figure size 432x288 with 1 Axes>"
      ]
     },
     "metadata": {
      "needs_background": "light"
     },
     "output_type": "display_data"
    }
   ],
   "source": [
    "plot_graphs(history_attention, 'loss')"
   ]
  },
  {
   "cell_type": "code",
   "execution_count": 31,
   "metadata": {},
   "outputs": [],
   "source": [
    "h_attention = consolidate_results(history_attention, test_loss_attention, test_acc_attention, 'accuracy', 'LSTM Attention')\n",
    "model_results.append(h_attention)"
   ]
  },
  {
   "cell_type": "markdown",
   "metadata": {},
   "source": [
    "# Comparison"
   ]
  },
  {
   "cell_type": "markdown",
   "metadata": {},
   "source": [
    "Here before cross validation we can see LSTM, CNN, CNN Glove, LSTM Attention have very similar test accuracies. <br>\n",
    "At this point we haven't done any cross validation so Val Accuracy and Test Accuracy have similar meaning."
   ]
  },
  {
   "cell_type": "code",
   "execution_count": 32,
   "metadata": {},
   "outputs": [
    {
     "data": {
      "text/html": [
       "<div>\n",
       "<style scoped>\n",
       "    .dataframe tbody tr th:only-of-type {\n",
       "        vertical-align: middle;\n",
       "    }\n",
       "\n",
       "    .dataframe tbody tr th {\n",
       "        vertical-align: top;\n",
       "    }\n",
       "\n",
       "    .dataframe thead th {\n",
       "        text-align: right;\n",
       "    }\n",
       "</style>\n",
       "<table border=\"1\" class=\"dataframe\">\n",
       "  <thead>\n",
       "    <tr style=\"text-align: right;\">\n",
       "      <th></th>\n",
       "      <th>Model</th>\n",
       "      <th>Train Accuracy</th>\n",
       "      <th>Val Accuracy</th>\n",
       "      <th>Test Accuracy</th>\n",
       "      <th>Train Loss</th>\n",
       "      <th>Val Loss</th>\n",
       "      <th>Test Loss</th>\n",
       "    </tr>\n",
       "  </thead>\n",
       "  <tbody>\n",
       "    <tr>\n",
       "      <th>0</th>\n",
       "      <td>LSTM</td>\n",
       "      <td>99.326390</td>\n",
       "      <td>98.416668</td>\n",
       "      <td>98.195314</td>\n",
       "      <td>0.027260</td>\n",
       "      <td>0.057253</td>\n",
       "      <td>0.068727</td>\n",
       "    </tr>\n",
       "    <tr>\n",
       "      <th>1</th>\n",
       "      <td>CNN</td>\n",
       "      <td>99.965280</td>\n",
       "      <td>99.229169</td>\n",
       "      <td>99.093747</td>\n",
       "      <td>0.003413</td>\n",
       "      <td>0.027258</td>\n",
       "      <td>0.028252</td>\n",
       "    </tr>\n",
       "    <tr>\n",
       "      <th>2</th>\n",
       "      <td>CNN GLoVe</td>\n",
       "      <td>99.833333</td>\n",
       "      <td>98.354167</td>\n",
       "      <td>98.218751</td>\n",
       "      <td>0.015774</td>\n",
       "      <td>0.051266</td>\n",
       "      <td>0.052877</td>\n",
       "    </tr>\n",
       "    <tr>\n",
       "      <th>3</th>\n",
       "      <td>MLP</td>\n",
       "      <td>86.781251</td>\n",
       "      <td>86.854166</td>\n",
       "      <td>86.828125</td>\n",
       "      <td>0.562568</td>\n",
       "      <td>0.548357</td>\n",
       "      <td>0.548477</td>\n",
       "    </tr>\n",
       "    <tr>\n",
       "      <th>4</th>\n",
       "      <td>LSTM Attention</td>\n",
       "      <td>98.843747</td>\n",
       "      <td>97.476560</td>\n",
       "      <td>97.523439</td>\n",
       "      <td>0.056919</td>\n",
       "      <td>0.083853</td>\n",
       "      <td>0.082288</td>\n",
       "    </tr>\n",
       "  </tbody>\n",
       "</table>\n",
       "</div>"
      ],
      "text/plain": [
       "            Model  Train Accuracy  Val Accuracy  Test Accuracy  Train Loss  \\\n",
       "0            LSTM       99.326390     98.416668      98.195314    0.027260   \n",
       "1             CNN       99.965280     99.229169      99.093747    0.003413   \n",
       "2       CNN GLoVe       99.833333     98.354167      98.218751    0.015774   \n",
       "3             MLP       86.781251     86.854166      86.828125    0.562568   \n",
       "4  LSTM Attention       98.843747     97.476560      97.523439    0.056919   \n",
       "\n",
       "   Val Loss  Test Loss  \n",
       "0  0.057253   0.068727  \n",
       "1  0.027258   0.028252  \n",
       "2  0.051266   0.052877  \n",
       "3  0.548357   0.548477  \n",
       "4  0.083853   0.082288  "
      ]
     },
     "execution_count": 32,
     "metadata": {},
     "output_type": "execute_result"
    }
   ],
   "source": [
    "col_names = ['Model', 'Train Accuracy', 'Val Accuracy', 'Test Accuracy', 'Train Loss', 'Val Loss', 'Test Loss']\n",
    "comparison_df = pd.DataFrame(data=model_results, columns=col_names)\n",
    "comparison_df"
   ]
  },
  {
   "cell_type": "markdown",
   "metadata": {},
   "source": [
    "The cross_validation function iterates over different hyper parameter settings to find the best model configuration. This could easily be extended for more detailed paramter tuning."
   ]
  },
  {
   "cell_type": "code",
   "execution_count": 33,
   "metadata": {},
   "outputs": [],
   "source": [
    "def cross_validation(model_type, X_train, y_train, tokenizer, label_index):\n",
    "\n",
    "    learning_rates = np.linspace(1e-3, 5e-4, 5)\n",
    "    regularization_strengths = np.linspace(0.001, 1.5, 1)\n",
    "\n",
    "    best_val = -1.\n",
    "    best_train = -1\n",
    "    best_model = None\n",
    "    best_lr = None\n",
    "    best_reg = None\n",
    "    progress_counter = 0\n",
    "    total_tests = learning_rates.shape[0] * regularization_strengths.shape[0]\n",
    "\n",
    "    print('Cross validation : ', model_type)\n",
    "    \n",
    "    start_time = time.time()\n",
    "    \n",
    "    for lr in learning_rates:\n",
    "        for reg in regularization_strengths:\n",
    "            # Train the network\n",
    "            model = TextClassifier(tokenizer, label_index, verbose=0)\n",
    "            history = model.train(X_train, y_train, model_type, epochs=10,learning_rate=lr, regularization=reg)\n",
    "            val_acc_history = history['val_binary_accuracy']\n",
    "            val_acc = val_acc_history[-1]\n",
    "\n",
    "            if val_acc > best_val:\n",
    "                del best_model\n",
    "                best_val = val_acc\n",
    "                best_model = model\n",
    "                best_lr = lr\n",
    "                best_reg = reg\n",
    "            else:\n",
    "                del model\n",
    "                \n",
    "            progress_counter += 1    \n",
    "            progress_bar(progress_counter, total_tests)\n",
    "            \n",
    "    best_hist = best_model.history\n",
    "    \n",
    "    train_acc, val_loss, train_loss = best_hist['binary_accuracy'][-1], best_hist['val_loss'][-1], best_hist['loss'][-1]\n",
    "\n",
    "    print(\"Execution time: %s seconds\" % (time.time() - start_time))\n",
    "    print('Best validation accuracy: %f - Train accuracy: %f - val loss: %f - train loss: %f'\n",
    "          % (best_val, train_acc, val_loss, train_loss) )\n",
    "    print('Best learning rate: %f - regularization : %f' % (best_lr, best_reg) )\n",
    "    return best_model"
   ]
  },
  {
   "cell_type": "code",
   "execution_count": 34,
   "metadata": {},
   "outputs": [
    {
     "name": "stdout",
     "output_type": "stream",
     "text": [
      "Shape of data tensor: (8000,)\n",
      "Found 3796 unique tokens.\n",
      "Cross validation :  LSTM\n",
      "Status: [########################################] 5/5 \n",
      "Execution time: 3046.7691781520844 seconds\n",
      "Best validation accuracy: 0.987031 - Train accuracy: 0.993203 - val loss: 0.048529 - train loss: 0.024641\n",
      "Best learning rate: 0.001000 - regularization : 0.001000\n",
      "Cross validation :  MLP\n",
      "Status: [########################################] 5/5 \n",
      "Execution time: 30.611932039260864 seconds\n",
      "Best validation accuracy: 0.868203 - Train accuracy: 0.867448 - val loss: 0.424215 - train loss: 0.428745\n",
      "Best learning rate: 0.001000 - regularization : 0.001000\n",
      "Cross validation :  CNN\n",
      "Status: [########################################] 5/5 \n",
      "Execution time: 121.08016109466553 seconds\n",
      "Best validation accuracy: 0.993750 - Train accuracy: 0.999870 - val loss: 0.020990 - train loss: 0.002048\n",
      "Best learning rate: 0.001000 - regularization : 0.001000\n",
      "Cross validation :  CNN_Glove\n",
      "Status: [########################################] 5/5 \n",
      "Execution time: 116.62365674972534 seconds\n",
      "Best validation accuracy: 0.985547 - Train accuracy: 0.999010 - val loss: 0.041080 - train loss: 0.011727\n",
      "Best learning rate: 0.001000 - regularization : 0.001000\n",
      "Cross validation :  Attention\n",
      "Status: [########################################] 5/5 \n",
      "Execution time: 4663.717299938202 seconds\n",
      "Best validation accuracy: 0.983516 - Train accuracy: 0.990625 - val loss: 0.056105 - train loss: 0.047659\n",
      "Best learning rate: 0.001000 - regularization : 0.001000\n"
     ]
    }
   ],
   "source": [
    "X, y, tokenizer, label_index = tokenize_data(df['pp_sent'].values, df['label'])\n",
    "X_train, X_test, y_train, y_test = train_test_split(X, y, test_size=0.20, random_state=42)\n",
    "\n",
    "best_lstm = cross_validation(\"LSTM\", X_train, y_train, tokenizer, label_index)\n",
    "best_mlp = cross_validation(\"MLP\", X_train, y_train, tokenizer, label_index)\n",
    "best_cnn = cross_validation(\"CNN\", X_train, y_train, tokenizer, label_index)\n",
    "best_glove = cross_validation(\"CNN_Glove\", X_train, y_train, tokenizer, label_index)\n",
    "best_attention = cross_validation(\"Attention\", X_train, y_train, tokenizer, label_index)"
   ]
  },
  {
   "cell_type": "raw",
   "metadata": {},
   "source": [
    "CNN seems to perform the best amongst all the other models here.\n",
    " \n",
    "CNN with GLoVe embedding is also slightly slower than CNN(with learnt embedding) while not performing any better.\n",
    "\n",
    "LSTM based models were approximately 7-8 times slower than CNN and also didn't perform any better than CNN. \n",
    "\n",
    "For this task regular LSTM and LSTM with attention based models were almost identical in performance.\n",
    "\n",
    "MLP was expected to perform the worst as by design it has no temporal information. \n",
    "\n",
    "Evaluating Test Accuracies on the best models after cross validation and hyper parameter tuning. "
   ]
  },
  {
   "cell_type": "code",
   "execution_count": 35,
   "metadata": {},
   "outputs": [
    {
     "name": "stdout",
     "output_type": "stream",
     "text": [
      "1600/1600 [==============================] - 0s 145us/sample - loss: 0.0241 - binary_accuracy: 0.9916\n",
      "CNN: Test Loss: 0.02411823670612648\n",
      "CNN: Test Accuracy: 0.9916406273841858\n",
      "1600/1600 [==============================] - 0s 169us/sample - loss: 0.0467 - binary_accuracy: 0.9851\n",
      "CNN Glove: Test Loss: 0.04670408125966787\n",
      "CNN Glove: Test Accuracy: 0.9850780963897705\n",
      "1600/1600 [==============================] - 2s 972us/sample - loss: 0.0560 - binary_accuracy: 0.9832\n",
      "LSTM: Test Loss: 0.055990003990009425\n",
      "LSTM: Test Accuracy: 0.983203113079071\n",
      "1600/1600 [==============================] - 0s 35us/sample - loss: 0.4242 - binary_accuracy: 0.8680\n",
      "MLP: Test Loss: 0.42418187856674194\n",
      "MLP: Test Accuracy: 0.8680468797683716\n",
      "Attention: Test Loss: 0.06052311509847641\n",
      "Attention: Test Accuracy: 0.9811718463897705\n"
     ]
    }
   ],
   "source": [
    "test_loss, test_acc = best_cnn.evaluate(X_test,y_test)\n",
    "print('CNN: Test Loss: {}'.format(test_loss))\n",
    "print('CNN: Test Accuracy: {}'.format(test_acc))\n",
    "\n",
    "test_loss, test_acc = best_glove.evaluate(X_test,y_test)\n",
    "print('CNN Glove: Test Loss: {}'.format(test_loss))\n",
    "print('CNN Glove: Test Accuracy: {}'.format(test_acc))\n",
    "\n",
    "test_loss, test_acc = best_lstm.evaluate(X_test,y_test)\n",
    "print('LSTM: Test Loss: {}'.format(test_loss))\n",
    "print('LSTM: Test Accuracy: {}'.format(test_acc))\n",
    "\n",
    "test_loss, test_acc = best_mlp.evaluate(X_test,y_test)\n",
    "print('MLP: Test Loss: {}'.format(test_loss))\n",
    "print('MLP: Test Accuracy: {}'.format(test_acc))\n",
    "\n",
    "test_loss, test_acc = evaluate(best_attention.model, test_dset)\n",
    "print('Attention: Test Loss: {}'.format(test_loss))\n",
    "print('Attention: Test Accuracy: {}'.format(test_acc))"
   ]
  },
  {
   "cell_type": "raw",
   "metadata": {},
   "source": [
    "CNN seems to consistently perform better than LSTM based models by approximatley 0.7%, which is not much.\n",
    "But the more considerable advantage of CNN was in the training as well as prediction time, which was\n",
    "substantially faster, by about 7-8 times."
   ]
  },
  {
   "cell_type": "markdown",
   "metadata": {},
   "source": [
    "The below code block loads a review, splits it into sentences and sub-sentences, and returns a flattened list"
   ]
  },
  {
   "cell_type": "code",
   "execution_count": 36,
   "metadata": {},
   "outputs": [],
   "source": [
    "data_pros_cons = pickle.load( open( \"review_pros_cons.pkl\", \"rb\" ))\n",
    "review = data_pros_cons.iloc[10,0]\n",
    "blocks = extract_text_blocks(review)"
   ]
  },
  {
   "cell_type": "markdown",
   "metadata": {},
   "source": [
    "Text example"
   ]
  },
  {
   "cell_type": "code",
   "execution_count": 37,
   "metadata": {},
   "outputs": [
    {
     "name": "stdout",
     "output_type": "stream",
     "text": [
      "I worked for the internal marketing team (MarCom) on the creative side. The best thing about working at Apple is your coworkers. They do an excellent job of hiring incredibly intelligent, talented people. It's quite humbling to work alongside such accomplished people. You'll always feel like the dumbest person in the room, which is great because everyone has so much to teach you. Most of them are ego-free (about 70% of them) and will help you whenever possible. There are so many personality types, though nearly all of them are perfectionist Type A people. If that is your kind of crew, you'll do well.\r\n",
      "\r\n",
      "The work usually comes in waves. When you're on, you're all the way on. For weeks at a time you can expect late nights and no weekends. On the flip side, when it's slow, it's very slow. You can often work from home or take comp days. During downtimes it is not uncommon to go in for five hours including a long lunch and then go home.\r\n",
      "\r\n",
      "In addition to this, the compensation is good. The stock program is okay. But the pay is more than fair and their annual reviews pretty much guarantee a raise, bonus, and/or more stock.\r\n",
      "\r\n",
      "Finally, Tim Cook seems like a genuinely good person. Even in the relatively short time he's been in his role, he has made enormous leaps to give that company a real set of values that are current with this generation. He feels like a real human being, which is something Apple desperately needs.\n"
     ]
    }
   ],
   "source": [
    "print(review)"
   ]
  },
  {
   "cell_type": "code",
   "execution_count": 38,
   "metadata": {},
   "outputs": [],
   "source": [
    "# Helper function to print sentences and categories from the prediction list\n",
    "def print_categories_sentences(prediction_dict):\n",
    "    \n",
    "    if len(prediction_dict) == 0:\n",
    "        print (\"No predictions made\")\n",
    "        \n",
    "    for k,v in predictions.items():\n",
    "        categories = [i[1] for i in v[0]]\n",
    "        sentence = v[1]\n",
    "        print(categories, sentence)"
   ]
  },
  {
   "cell_type": "markdown",
   "metadata": {},
   "source": [
    "# Predict"
   ]
  },
  {
   "cell_type": "markdown",
   "metadata": {},
   "source": [
    "\n",
    "The predict function takes in a list of important text blocks as input, and returns a list of \"useful/important\" sentences with their categories and confidence values. <br>\n",
    "Below we visualize the outputs of the 4 models on the text above(review).\n"
   ]
  },
  {
   "cell_type": "markdown",
   "metadata": {},
   "source": [
    "## CNN"
   ]
  },
  {
   "cell_type": "code",
   "execution_count": 39,
   "metadata": {},
   "outputs": [
    {
     "name": "stdout",
     "output_type": "stream",
     "text": [
      "['culture_team'] They do an excellent job of hiring incredibly intelligent, talented people.\n",
      "['Job Security/Advancement'] You'll always feel like the dumbest person in the room, which is great because everyone has so much to teach you.\n",
      "['wlb_working_conditions'] The work usually comes in waves.\n",
      "['wlb_working_conditions'] For weeks at a time you can expect late nights and no weekends.\n",
      "['salary_benefits'] In addition to this, the compensation is good.\n",
      "['salary_benefits'] The stock program is okay.\n",
      "['culture_team'] Finally, Tim Cook seems like a genuinely good person.\n"
     ]
    }
   ],
   "source": [
    "predictions = best_cnn.predict(blocks)\n",
    "print_categories_sentences(predictions)"
   ]
  },
  {
   "cell_type": "markdown",
   "metadata": {},
   "source": [
    "## CNN Glove"
   ]
  },
  {
   "cell_type": "code",
   "execution_count": 40,
   "metadata": {},
   "outputs": [
    {
     "name": "stdout",
     "output_type": "stream",
     "text": [
      "['culture_team'] They do an excellent job of hiring incredibly intelligent, talented people.\n",
      "['wlb_working_conditions'] The work usually comes in waves.\n",
      "['wlb_working_conditions'] For weeks at a time you can expect late nights and no weekends.\n",
      "['wlb_working_conditions'] You can often work from home or take comp days.\n",
      "['salary_benefits'] The stock program is okay.\n",
      "['salary_benefits'] But the pay is more than fair and their annual reviews pretty much guarantee a raise, bonus, and/or more stock.\n",
      "['culture_team'] Finally, Tim Cook seems like a genuinely good person.\n"
     ]
    }
   ],
   "source": [
    "predictions = best_glove.predict(blocks)\n",
    "print_categories_sentences(predictions)"
   ]
  },
  {
   "cell_type": "markdown",
   "metadata": {},
   "source": [
    "## LSTM"
   ]
  },
  {
   "cell_type": "code",
   "execution_count": 41,
   "metadata": {},
   "outputs": [
    {
     "name": "stdout",
     "output_type": "stream",
     "text": [
      "['culture_team'] The best thing about working at Apple is your coworkers.\n",
      "['culture_team'] They do an excellent job of hiring incredibly intelligent, talented people.\n",
      "['culture_team'] It's quite humbling to work alongside such accomplished people.\n",
      "['Job Security/Advancement'] You'll always feel like the dumbest person in the room, which is great because everyone has so much to teach you.\n",
      "['salary_benefits'] Most of them are ego-free (about 70% of them) and will help you whenever possible.\n",
      "['wlb_working_conditions'] For weeks at a time you can expect late nights and no weekends.\n",
      "['Job Security/Advancement'] On the flip side, when it's slow, it's very slow.\n",
      "['wlb_working_conditions'] You can often work from home or take comp days.\n",
      "['wlb_working_conditions'] During downtimes it is not uncommon to go in for five hours including a long lunch and then go home.\n",
      "['salary_benefits'] In addition to this, the compensation is good.\n",
      "['salary_benefits'] The stock program is okay.\n",
      "['salary_benefits'] But the pay is more than fair and their annual reviews pretty much guarantee a raise, bonus, and/or more stock.\n",
      "['culture_team'] Finally, Tim Cook seems like a genuinely good person.\n",
      "['culture_team'] Even in the relatively short time he's been in his role, he has made enormous leaps to give that company a real set of values that are current with this generation.\n"
     ]
    }
   ],
   "source": [
    "predictions = best_lstm.predict(blocks)\n",
    "print_categories_sentences(predictions)"
   ]
  },
  {
   "cell_type": "markdown",
   "metadata": {},
   "source": [
    "## MLP"
   ]
  },
  {
   "cell_type": "code",
   "execution_count": 42,
   "metadata": {},
   "outputs": [
    {
     "name": "stdout",
     "output_type": "stream",
     "text": [
      "No predictions made\n"
     ]
    }
   ],
   "source": [
    "predictions = best_mlp.predict(blocks)\n",
    "print_categories_sentences(predictions)"
   ]
  },
  {
   "cell_type": "markdown",
   "metadata": {},
   "source": [
    "## LSTM with Attention"
   ]
  },
  {
   "cell_type": "code",
   "execution_count": 43,
   "metadata": {},
   "outputs": [
    {
     "name": "stdout",
     "output_type": "stream",
     "text": [
      "['culture_team'] The best thing about working at Apple is your coworkers.\n",
      "['culture_team'] They do an excellent job of hiring incredibly intelligent, talented people.\n",
      "['Job Security/Advancement'] There are so many personality types, though nearly all of them are perfectionist Type A people.\n",
      "['wlb_working_conditions'] For weeks at a time you can expect late nights and no weekends.\n",
      "['wlb_working_conditions'] You can often work from home or take comp days.\n",
      "['salary_benefits'] The stock program is okay.\n",
      "['salary_benefits'] But the pay is more than fair and their annual reviews pretty much guarantee a raise, bonus, and/or more stock.\n",
      "['culture_team'] Finally, Tim Cook seems like a genuinely good person.\n"
     ]
    }
   ],
   "source": [
    "predictions = predict_labels(blocks, best_attention.model, tokenizer, label_index)\n",
    "print_categories_sentences(predictions)"
   ]
  },
  {
   "cell_type": "markdown",
   "metadata": {},
   "source": [
    "```python\n",
    "print \"Hello World\"\n",
    "```"
   ]
  }
 ],
 "metadata": {
  "kernelspec": {
   "display_name": "Python 3",
   "language": "python",
   "name": "python3"
  },
  "language_info": {
   "codemirror_mode": {
    "name": "ipython",
    "version": 3
   },
   "file_extension": ".py",
   "mimetype": "text/x-python",
   "name": "python",
   "nbconvert_exporter": "python",
   "pygments_lexer": "ipython3",
   "version": "3.7.5"
  }
 },
 "nbformat": 4,
 "nbformat_minor": 2
}
