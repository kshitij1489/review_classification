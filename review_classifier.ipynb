{
 "cells": [
  {
   "cell_type": "code",
   "execution_count": null,
   "metadata": {},
   "outputs": [],
   "source": [
    "import numpy as np\n",
    "import pandas as pd\n",
    "import pickle\n",
    "\n",
    "from sklearn.model_selection import train_test_split\n",
    "\n",
    "from text_models import TextClassifier, extract_text_blocks, tokenize_data, load_glove_embedding\n",
    "%load_ext autoreload\n",
    "%autoreload 2"
   ]
  },
  {
   "cell_type": "code",
   "execution_count": 2,
   "metadata": {},
   "outputs": [],
   "source": [
    "import matplotlib.pyplot as plt\n",
    "\n",
    "def plot_graphs(history, string):\n",
    "    plt.plot(history.history[string])\n",
    "    plt.plot(history.history['val_'+string], '')\n",
    "    plt.xlabel(\"Epochs\")\n",
    "    plt.ylabel(string)\n",
    "    plt.legend([string, 'val_'+string])\n",
    "    plt.show()\n",
    "\n",
    "import sys\n",
    "\n",
    "def progress_bar(i, count):\n",
    "    size = 40\n",
    "    x = int(round(size*i/count))\n",
    "    text = '\\rStatus: [%s] %d/%d ' % (\"#\"*x + \".\"*(size-x), i, count)\n",
    "    sys.stdout.write(text)\n",
    "    sys.stdout.flush()"
   ]
  },
  {
   "cell_type": "markdown",
   "metadata": {},
   "source": [
    "# Load Dataset "
   ]
  },
  {
   "cell_type": "markdown",
   "metadata": {},
   "source": [
    "The dataset is a pandas dataframe with two columns: Text labels and the text sentences and sub-sentences. There are 8 different categories(labels) in total. Each sentence could also have multiple categories(labels) associated with it."
   ]
  },
  {
   "cell_type": "code",
   "execution_count": 3,
   "metadata": {},
   "outputs": [],
   "source": [
    "df = pickle.load( open( \"gdr_assignment_labelled.pkl\", \"rb\" ))"
   ]
  },
  {
   "cell_type": "code",
   "execution_count": 4,
   "metadata": {},
   "outputs": [
    {
     "data": {
      "text/plain": [
       "<bound method NDFrame.tail of                                                    label  \\\n",
       "16                            [Job Security/Advancement]   \n",
       "149    [Job Security/Advancement, business_vision_com...   \n",
       "220                           [Job Security/Advancement]   \n",
       "233                           [Job Security/Advancement]   \n",
       "396                           [Job Security/Advancement]   \n",
       "...                                                  ...   \n",
       "48187                           [wlb_working_conditions]   \n",
       "48198                           [wlb_working_conditions]   \n",
       "48201                           [wlb_working_conditions]   \n",
       "48218                           [wlb_working_conditions]   \n",
       "48290                           [wlb_working_conditions]   \n",
       "\n",
       "                                   pp_sent  \n",
       "16                  developing your skills  \n",
       "149                        rapidly growing  \n",
       "220      easy to get your foot in the door  \n",
       "233            opportunity for advancement  \n",
       "396                  career growth options  \n",
       "...                                    ...  \n",
       "48187  work life balance is generally good  \n",
       "48198               good work life balance  \n",
       "48201               flexible working hours  \n",
       "48218               flexible working hours  \n",
       "48290    really caring about personal life  \n",
       "\n",
       "[8000 rows x 2 columns]>"
      ]
     },
     "execution_count": 4,
     "metadata": {},
     "output_type": "execute_result"
    }
   ],
   "source": [
    "df.tail"
   ]
  },
  {
   "cell_type": "markdown",
   "metadata": {},
   "source": [
    "# Train LSTM"
   ]
  },
  {
   "cell_type": "markdown",
   "metadata": {},
   "source": [
    "Train a Multilabel text classifier using LSTM. This model has the following architecture: <br>\n",
    "Input -> Word Embedding Layer -> LSTM -> Spatial Dropout -> Fully Connected -> RELU -> Fully Connected -> Sigmoid <br>\n",
    "Here the LSTM output to the next fully connected layer is from the last time step only. All the model implementations could be found at text_models.py"
   ]
  },
  {
   "cell_type": "code",
   "execution_count": 17,
   "metadata": {},
   "outputs": [
    {
     "name": "stdout",
     "output_type": "stream",
     "text": [
      "Shape of data tensor: (8000,)\n",
      "Found 3796 unique tokens.\n",
      "Train on 4824 samples, validate on 536 samples\n",
      "Epoch 1/5\n",
      "4824/4824 [==============================] - 85s 18ms/sample - loss: 0.4466 - categorical_accuracy: 0.1451 - val_loss: 0.3854 - val_categorical_accuracy: 0.1399\n",
      "Epoch 2/5\n",
      "4824/4824 [==============================] - 74s 15ms/sample - loss: 0.3711 - categorical_accuracy: 0.2991 - val_loss: 0.3281 - val_categorical_accuracy: 0.5168\n",
      "Epoch 3/5\n",
      "4824/4824 [==============================] - 68s 14ms/sample - loss: 0.2871 - categorical_accuracy: 0.5529 - val_loss: 0.2296 - val_categorical_accuracy: 0.6810\n",
      "Epoch 4/5\n",
      "4824/4824 [==============================] - 67s 14ms/sample - loss: 0.1936 - categorical_accuracy: 0.7396 - val_loss: 0.1517 - val_categorical_accuracy: 0.7966\n",
      "Epoch 5/5\n",
      "4824/4824 [==============================] - 66s 14ms/sample - loss: 0.1284 - categorical_accuracy: 0.8422 - val_loss: 0.1071 - val_categorical_accuracy: 0.8825\n",
      "Model: \"sequential_100\"\n",
      "_________________________________________________________________\n",
      "Layer (type)                 Output Shape              Param #   \n",
      "=================================================================\n",
      "embedding_75 (Embedding)     (None, None, 50)          2500000   \n",
      "_________________________________________________________________\n",
      "spatial_dropout1d_25 (Spatia (None, None, 50)          0         \n",
      "_________________________________________________________________\n",
      "lstm_25 (LSTM)               (None, 100)               60400     \n",
      "_________________________________________________________________\n",
      "dense_225 (Dense)            (None, 32)                3232      \n",
      "_________________________________________________________________\n",
      "dense_226 (Dense)            (None, 8)                 264       \n",
      "=================================================================\n",
      "Total params: 2,563,896\n",
      "Trainable params: 2,563,896\n",
      "Non-trainable params: 0\n",
      "_________________________________________________________________\n"
     ]
    }
   ],
   "source": [
    "X, y, tokenizer, label_index = tokenize_data(df['pp_sent'].values, df['label'])\n",
    "model_lstm = TextClassifier(tokenizer, label_index)\n",
    "\n",
    "X_train, X_test, y_train, y_test = train_test_split(X, y, test_size=0.33, random_state=42)\n",
    "\n",
    "history_lstm = model_lstm.train(X_train, y_train, 'LSTM')\n",
    "model_lstm.model.summary()"
   ]
  },
  {
   "cell_type": "markdown",
   "metadata": {},
   "source": [
    "Evaluate Model"
   ]
  },
  {
   "cell_type": "code",
   "execution_count": 18,
   "metadata": {},
   "outputs": [
    {
     "name": "stdout",
     "output_type": "stream",
     "text": [
      "2640/2640 [==============================] - 14s 5ms/sample - loss: 0.1191 - categorical_accuracy: 0.8644\n",
      "Test Loss: 0.11905744423468907\n",
      "Test Accuracy: 0.864393949508667\n"
     ]
    }
   ],
   "source": [
    "test_loss, test_acc = model_lstm.evaluate(X_test,y_test)\n",
    "print('Test Loss: {}'.format(test_loss))\n",
    "print('Test Accuracy: {}'.format(test_acc))"
   ]
  },
  {
   "cell_type": "code",
   "execution_count": 19,
   "metadata": {},
   "outputs": [
    {
     "data": {
      "image/png": "[encoded data removed]",
      "text/plain": [
       "<Figure size 432x288 with 1 Axes>"
      ]
     },
     "metadata": {
      "needs_background": "light"
     },
     "output_type": "display_data"
    }
   ],
   "source": [
    "plot_graphs(history_lstm, 'categorical_accuracy')"
   ]
  },
  {
   "cell_type": "code",
   "execution_count": 20,
   "metadata": {},
   "outputs": [
    {
     "data": {
      "image/png": "[encoded data removed]",
      "text/plain": [
       "<Figure size 432x288 with 1 Axes>"
      ]
     },
     "metadata": {
      "needs_background": "light"
     },
     "output_type": "display_data"
    }
   ],
   "source": [
    "plot_graphs(history_lstm, 'loss')"
   ]
  },
  {
   "cell_type": "markdown",
   "metadata": {},
   "source": [
    "# Train CNN"
   ]
  },
  {
   "cell_type": "markdown",
   "metadata": {},
   "source": [
    "Model Architecture: <br> Input -> Word Embedding Layer -> Convolution Layer -> RELU -> Global Max Pool -> Fully Connected -> Sigmoid "
   ]
  },
  {
   "cell_type": "code",
   "execution_count": 21,
   "metadata": {},
   "outputs": [
    {
     "name": "stdout",
     "output_type": "stream",
     "text": [
      "Shape of data tensor: (8000,)\n",
      "Found 3796 unique tokens.\n",
      "Train on 4824 samples, validate on 536 samples\n",
      "Epoch 1/5\n",
      "4824/4824 [==============================] - 4s 855us/sample - loss: 0.4458 - categorical_accuracy: 0.2463 - val_loss: 0.3470 - val_categorical_accuracy: 0.6698\n",
      "Epoch 2/5\n",
      "4824/4824 [==============================] - 4s 789us/sample - loss: 0.2397 - categorical_accuracy: 0.8022 - val_loss: 0.1207 - val_categorical_accuracy: 0.8899\n",
      "Epoch 3/5\n",
      "4824/4824 [==============================] - 3s 725us/sample - loss: 0.0700 - categorical_accuracy: 0.9231 - val_loss: 0.0494 - val_categorical_accuracy: 0.9496\n",
      "Epoch 4/5\n",
      "4824/4824 [==============================] - 4s 766us/sample - loss: 0.0295 - categorical_accuracy: 0.9525 - val_loss: 0.0334 - val_categorical_accuracy: 0.9534\n",
      "Epoch 5/5\n",
      "4824/4824 [==============================] - 4s 760us/sample - loss: 0.0159 - categorical_accuracy: 0.9639 - val_loss: 0.0276 - val_categorical_accuracy: 0.9664\n",
      "Model: \"sequential_101\"\n",
      "_________________________________________________________________\n",
      "Layer (type)                 Output Shape              Param #   \n",
      "=================================================================\n",
      "embedding_76 (Embedding)     (None, None, 50)          2500000   \n",
      "_________________________________________________________________\n",
      "conv1d_50 (Conv1D)           (None, None, 300)         45300     \n",
      "_________________________________________________________________\n",
      "global_max_pooling1d_50 (Glo (None, 300)               0         \n",
      "_________________________________________________________________\n",
      "dense_227 (Dense)            (None, 8)                 2408      \n",
      "=================================================================\n",
      "Total params: 2,547,708\n",
      "Trainable params: 2,547,708\n",
      "Non-trainable params: 0\n",
      "_________________________________________________________________\n"
     ]
    }
   ],
   "source": [
    "X, y, tokenizer, label_index = tokenize_data(df['pp_sent'].values, df['label'])\n",
    "model_cnn = TextClassifier(tokenizer, label_index)\n",
    "\n",
    "X_train, X_test, y_train, y_test = train_test_split(X, y, test_size=0.33, random_state=42)\n",
    "\n",
    "history_cnn = model_cnn.train(X_train, y_train, 'CNN')\n",
    "model_cnn.model.summary()"
   ]
  },
  {
   "cell_type": "markdown",
   "metadata": {},
   "source": [
    "Evaluate CNN Model"
   ]
  },
  {
   "cell_type": "code",
   "execution_count": 22,
   "metadata": {},
   "outputs": [
    {
     "name": "stdout",
     "output_type": "stream",
     "text": [
      "2640/2640 [==============================] - 0s 189us/sample - loss: 0.0283 - categorical_accuracy: 0.9534\n",
      "Test Loss: 0.028260806451241176\n",
      "Test Accuracy: 0.9534090757369995\n"
     ]
    }
   ],
   "source": [
    "test_loss, test_acc = model_cnn.evaluate(X_test,y_test)\n",
    "print('Test Loss: {}'.format(test_loss))\n",
    "print('Test Accuracy: {}'.format(test_acc))"
   ]
  },
  {
   "cell_type": "code",
   "execution_count": 23,
   "metadata": {},
   "outputs": [
    {
     "data": {
      "image/png": "[encoded data removed]",
      "text/plain": [
       "<Figure size 432x288 with 1 Axes>"
      ]
     },
     "metadata": {
      "needs_background": "light"
     },
     "output_type": "display_data"
    }
   ],
   "source": [
    "plot_graphs(history_cnn, 'categorical_accuracy')"
   ]
  },
  {
   "cell_type": "code",
   "execution_count": 24,
   "metadata": {},
   "outputs": [
    {
     "data": {
      "image/png": "[encoded data removed]",
      "text/plain": [
       "<Figure size 432x288 with 1 Axes>"
      ]
     },
     "metadata": {
      "needs_background": "light"
     },
     "output_type": "display_data"
    }
   ],
   "source": [
    "plot_graphs(history_cnn, 'loss')"
   ]
  },
  {
   "cell_type": "markdown",
   "metadata": {},
   "source": [
    "# Train CNN Glove"
   ]
  },
  {
   "cell_type": "markdown",
   "metadata": {},
   "source": [
    "Model Architecture: \n",
    "Input -> GLoVe Word Embedding(Non trainable)  -> Convolution Layer -> RELU -> Global Max Pool -> Fully Connected -> Sigmoid"
   ]
  },
  {
   "cell_type": "code",
   "execution_count": 25,
   "metadata": {},
   "outputs": [
    {
     "name": "stdout",
     "output_type": "stream",
     "text": [
      "Shape of data tensor: (8000,)\n",
      "Found 3796 unique tokens.\n",
      "Train on 4824 samples, validate on 536 samples\n",
      "Epoch 1/5\n",
      "4824/4824 [==============================] - 4s 812us/sample - loss: 0.2958 - categorical_accuracy: 0.6561 - val_loss: 0.1637 - val_categorical_accuracy: 0.8526\n",
      "Epoch 2/5\n",
      "4824/4824 [==============================] - 3s 719us/sample - loss: 0.1249 - categorical_accuracy: 0.8663 - val_loss: 0.1016 - val_categorical_accuracy: 0.8993\n",
      "Epoch 3/5\n",
      "4824/4824 [==============================] - 3s 690us/sample - loss: 0.0812 - categorical_accuracy: 0.9078 - val_loss: 0.0794 - val_categorical_accuracy: 0.9123\n",
      "Epoch 4/5\n",
      "4824/4824 [==============================] - 3s 725us/sample - loss: 0.0585 - categorical_accuracy: 0.9314 - val_loss: 0.0649 - val_categorical_accuracy: 0.9291\n",
      "Epoch 5/5\n",
      "4824/4824 [==============================] - 3s 706us/sample - loss: 0.0441 - categorical_accuracy: 0.9505 - val_loss: 0.0579 - val_categorical_accuracy: 0.9272\n",
      "Model: \"sequential_102\"\n",
      "_________________________________________________________________\n",
      "Layer (type)                 Output Shape              Param #   \n",
      "=================================================================\n",
      "embedding_77 (Embedding)     (None, 100, 100)          5000000   \n",
      "_________________________________________________________________\n",
      "conv1d_51 (Conv1D)           (None, 98, 300)           90300     \n",
      "_________________________________________________________________\n",
      "global_max_pooling1d_51 (Glo (None, 300)               0         \n",
      "_________________________________________________________________\n",
      "dense_228 (Dense)            (None, 8)                 2408      \n",
      "=================================================================\n",
      "Total params: 5,092,708\n",
      "Trainable params: 92,708\n",
      "Non-trainable params: 5,000,000\n",
      "_________________________________________________________________\n"
     ]
    }
   ],
   "source": [
    "X, y, tokenizer, label_index = tokenize_data(df['pp_sent'].values, df['label'])\n",
    "model_cnn_glove = TextClassifier(tokenizer, label_index)\n",
    "\n",
    "X_train, X_test, y_train, y_test = train_test_split(X, y, test_size=0.33, random_state=42)\n",
    "\n",
    "history_cnn_glove = model_cnn_glove.train(X_train, y_train, 'CNN_Glove')\n",
    "model_cnn_glove.model.summary()"
   ]
  },
  {
   "cell_type": "markdown",
   "metadata": {},
   "source": [
    "Evaluate Glove Model"
   ]
  },
  {
   "cell_type": "code",
   "execution_count": 26,
   "metadata": {},
   "outputs": [
    {
     "name": "stdout",
     "output_type": "stream",
     "text": [
      "2640/2640 [==============================] - 1s 219us/sample - loss: 0.0628 - categorical_accuracy: 0.9140\n",
      "Test Loss: 0.0628296746449037\n",
      "Test Accuracy: 0.9140151739120483\n"
     ]
    }
   ],
   "source": [
    "test_loss, test_acc = model_cnn_glove.evaluate(X_test,y_test)\n",
    "print('Test Loss: {}'.format(test_loss))\n",
    "print('Test Accuracy: {}'.format(test_acc))"
   ]
  },
  {
   "cell_type": "code",
   "execution_count": 27,
   "metadata": {},
   "outputs": [
    {
     "data": {
      "image/png": "[encoded data removed]",
      "text/plain": [
       "<Figure size 432x288 with 1 Axes>"
      ]
     },
     "metadata": {
      "needs_background": "light"
     },
     "output_type": "display_data"
    }
   ],
   "source": [
    "plot_graphs(history_cnn_glove, 'categorical_accuracy')"
   ]
  },
  {
   "cell_type": "code",
   "execution_count": 28,
   "metadata": {},
   "outputs": [
    {
     "data": {
      "image/png": "[encoded data removed]",
      "text/plain": [
       "<Figure size 432x288 with 1 Axes>"
      ]
     },
     "metadata": {
      "needs_background": "light"
     },
     "output_type": "display_data"
    }
   ],
   "source": [
    "plot_graphs(history_cnn_glove, 'loss')"
   ]
  },
  {
   "cell_type": "markdown",
   "metadata": {},
   "source": [
    "# Train MLP"
   ]
  },
  {
   "cell_type": "markdown",
   "metadata": {},
   "source": [
    "Model Architecture: <br>\n",
    "Input -> Word Embedding Layer -> 4x(Fully Connected -> RELU) -> Fully Connected -> Sigmoid <br>"
   ]
  },
  {
   "cell_type": "code",
   "execution_count": 29,
   "metadata": {},
   "outputs": [
    {
     "name": "stdout",
     "output_type": "stream",
     "text": [
      "Shape of data tensor: (8000,)\n",
      "Found 3796 unique tokens.\n",
      "Train on 4824 samples, validate on 536 samples\n",
      "Epoch 1/5\n",
      "4824/4824 [==============================] - 2s 515us/sample - loss: 3.1433 - categorical_accuracy: 0.1231 - val_loss: 1.0167 - val_categorical_accuracy: 0.1399\n",
      "Epoch 2/5\n",
      "4824/4824 [==============================] - 2s 384us/sample - loss: 1.0423 - categorical_accuracy: 0.1350 - val_loss: 0.8477 - val_categorical_accuracy: 0.1362\n",
      "Epoch 3/5\n",
      "4824/4824 [==============================] - 2s 338us/sample - loss: 0.8367 - categorical_accuracy: 0.1457 - val_loss: 0.7554 - val_categorical_accuracy: 0.1493\n",
      "Epoch 4/5\n",
      "4824/4824 [==============================] - 2s 336us/sample - loss: 0.7199 - categorical_accuracy: 0.1420 - val_loss: 0.6569 - val_categorical_accuracy: 0.1343\n",
      "Epoch 5/5\n",
      "4824/4824 [==============================] - 2s 340us/sample - loss: 0.6430 - categorical_accuracy: 0.1439 - val_loss: 0.6100 - val_categorical_accuracy: 0.1381\n",
      "Model: \"sequential_103\"\n",
      "_________________________________________________________________\n",
      "Layer (type)                 Output Shape              Param #   \n",
      "=================================================================\n",
      "dense_229 (Dense)            (None, 512)               51712     \n",
      "_________________________________________________________________\n",
      "dropout_100 (Dropout)        (None, 512)               0         \n",
      "_________________________________________________________________\n",
      "dense_230 (Dense)            (None, 256)               131328    \n",
      "_________________________________________________________________\n",
      "dropout_101 (Dropout)        (None, 256)               0         \n",
      "_________________________________________________________________\n",
      "dense_231 (Dense)            (None, 256)               65792     \n",
      "_________________________________________________________________\n",
      "dropout_102 (Dropout)        (None, 256)               0         \n",
      "_________________________________________________________________\n",
      "dense_232 (Dense)            (None, 256)               65792     \n",
      "_________________________________________________________________\n",
      "dropout_103 (Dropout)        (None, 256)               0         \n",
      "_________________________________________________________________\n",
      "dense_233 (Dense)            (None, 8)                 2056      \n",
      "=================================================================\n",
      "Total params: 316,680\n",
      "Trainable params: 316,680\n",
      "Non-trainable params: 0\n",
      "_________________________________________________________________\n"
     ]
    }
   ],
   "source": [
    "X, y, tokenizer, label_index = tokenize_data(df['pp_sent'].values, df['label'])\n",
    "model_mlp = TextClassifier(tokenizer, label_index)\n",
    "\n",
    "X_train, X_test, y_train, y_test = train_test_split(X, y, test_size=0.33, random_state=42)\n",
    "\n",
    "history_mlp = model_mlp.train(X_train, y_train, 'MLP')\n",
    "model_mlp.model.summary()"
   ]
  },
  {
   "cell_type": "markdown",
   "metadata": {},
   "source": [
    "Evaluate MLP Model"
   ]
  },
  {
   "cell_type": "code",
   "execution_count": 30,
   "metadata": {},
   "outputs": [
    {
     "name": "stdout",
     "output_type": "stream",
     "text": [
      "2640/2640 [==============================] - 0s 111us/sample - loss: 0.6101 - categorical_accuracy: 0.1466\n",
      "Test Loss: 0.6100886171514338\n",
      "Test Accuracy: 0.14659090340137482\n"
     ]
    }
   ],
   "source": [
    "test_loss, test_acc = model_mlp.evaluate(X_test,y_test)\n",
    "print('Test Loss: {}'.format(test_loss))\n",
    "print('Test Accuracy: {}'.format(test_acc))"
   ]
  },
  {
   "cell_type": "code",
   "execution_count": 31,
   "metadata": {},
   "outputs": [
    {
     "data": {
      "image/png": "[encoded data removed]",
      "text/plain": [
       "<Figure size 432x288 with 1 Axes>"
      ]
     },
     "metadata": {
      "needs_background": "light"
     },
     "output_type": "display_data"
    }
   ],
   "source": [
    "plot_graphs(history_mlp, 'categorical_accuracy')"
   ]
  },
  {
   "cell_type": "code",
   "execution_count": 32,
   "metadata": {},
   "outputs": [
    {
     "data": {
      "image/png": "[encoded data removed]",
      "text/plain": [
       "<Figure size 432x288 with 1 Axes>"
      ]
     },
     "metadata": {
      "needs_background": "light"
     },
     "output_type": "display_data"
    }
   ],
   "source": [
    "plot_graphs(history_mlp, 'loss')"
   ]
  },
  {
   "cell_type": "markdown",
   "metadata": {},
   "source": [
    "The cross_validation function iterates over different hyper parameter settings to find the best model configuration."
   ]
  },
  {
   "cell_type": "code",
   "execution_count": 6,
   "metadata": {},
   "outputs": [],
   "source": [
    "def cross_validation(model_type, X_train, y_train, tokenizer, label_index):\n",
    "\n",
    "    learning_rates = np.linspace(1e-3, 5e-4, 5)\n",
    "    regularization_strengths = np.linspace(0.001, 1.5, 5)\n",
    "\n",
    "    best_val = -1.\n",
    "    best_train = -1\n",
    "    best_model = None\n",
    "    best_lr = None\n",
    "    best_reg = None\n",
    "    progress_counter = 0\n",
    "    total_tests = learning_rates.shape[0] * regularization_strengths.shape[0]\n",
    "\n",
    "    print('Cross validation : ', model_type)\n",
    "    \n",
    "    for lr in learning_rates:\n",
    "        for reg in regularization_strengths:\n",
    "            # Train the network\n",
    "            model = TextClassifier(tokenizer, label_index, verbose=0)\n",
    "            history_mlp = model.train(X_train, y_train, model_type, learning_rate=lr, regularization=reg)\n",
    "            history_mlp.history['categorical_accuracy']\n",
    "            train_acc_history = history_mlp.history['categorical_accuracy']\n",
    "            val_acc_history = history_mlp.history['val_categorical_accuracy']\n",
    "            val_acc = val_acc_history[-1]\n",
    "\n",
    "            if val_acc > best_val:\n",
    "                del best_model\n",
    "                best_val = val_acc\n",
    "                best_train = train_acc_history[-1]\n",
    "                best_model = model\n",
    "                best_lr = lr\n",
    "                best_reg = reg\n",
    "                \n",
    "            progress_counter += 1    \n",
    "            progress_bar(progress_counter, total_tests)\n",
    "\n",
    "            #print('lr: %f, reg: %f, t_acc: %f, v_acc: %f.' % (lr, reg,  train_acc_history[-1], val_acc))\n",
    "    train_acc_history[-1]\n",
    "    print('Best %s Validation accuracy: %f, Train acc: %f lr: %f, reg: %f' % (model_type, best_val, best_train, best_lr, best_reg) )\n",
    "    return best_model"
   ]
  },
  {
   "cell_type": "code",
   "execution_count": 7,
   "metadata": {},
   "outputs": [
    {
     "name": "stderr",
     "output_type": "stream",
     "text": [
      "WARNING: Logging before flag parsing goes to stderr.\n",
      "W0213 18:34:33.207720 4762693056 deprecation.py:506] From /Users/kshitijsharma/Documents/CS231n/assignment2/.env/lib/python3.7/site-packages/tensorflow/python/keras/backend.py:4081: calling dropout (from tensorflow.python.ops.nn_ops) with keep_prob is deprecated and will be removed in a future version.\n",
      "Instructions for updating:\n",
      "Please use `rate` instead of `keep_prob`. Rate should be set to `rate = 1 - keep_prob`.\n"
     ]
    },
    {
     "name": "stdout",
     "output_type": "stream",
     "text": [
      "Shape of data tensor: (8000,)\n",
      "Found 3796 unique tokens.\n",
      "Cross validation :  LSTM\n",
      "Status: [########################################] 25/25 Best LSTM Validation accuracy: 0.917910, Train acc: 0.895315 lr: 0.000875, reg: 1.500000\n"
     ]
    }
   ],
   "source": [
    "X, y, tokenizer, label_index = tokenize_data(df['pp_sent'].values, df['label'])\n",
    "X_train, X_test, y_train, y_test = train_test_split(X, y, test_size=0.33, random_state=42)\n",
    "\n",
    "best_lstm = cross_validation(\"LSTM\", X_train, y_train, tokenizer, label_index)"
   ]
  },
  {
   "cell_type": "code",
   "execution_count": 8,
   "metadata": {},
   "outputs": [
    {
     "name": "stdout",
     "output_type": "stream",
     "text": [
      "Cross validation :  MLP\n",
      "Status: [########################################] 25/25 Best MLP Validation accuracy: 0.214552, Train acc: 0.152363 lr: 0.000875, reg: 1.125250\n",
      "Cross validation :  CNN\n",
      "Status: [########################################] 25/25 Best CNN Validation accuracy: 0.962687, Train acc: 0.963723 lr: 0.001000, reg: 0.001000\n",
      "Cross validation :  CNN_Glove\n",
      "Status: [########################################] 25/25 Best CNN_Glove Validation accuracy: 0.930970, Train acc: 0.948383 lr: 0.001000, reg: 0.375750\n"
     ]
    }
   ],
   "source": [
    "best_mlp = cross_validation(\"MLP\", X_train, y_train, tokenizer, label_index)\n",
    "best_cnn = cross_validation(\"CNN\", X_train, y_train, tokenizer, label_index)\n",
    "best_glove = cross_validation(\"CNN_Glove\", X_train, y_train, tokenizer, label_index)"
   ]
  },
  {
   "cell_type": "markdown",
   "metadata": {},
   "source": [
    "Evaluating Test Accuracies on the best models after cross validation and hyper parameter tuning. "
   ]
  },
  {
   "cell_type": "code",
   "execution_count": 9,
   "metadata": {},
   "outputs": [
    {
     "name": "stdout",
     "output_type": "stream",
     "text": [
      "2640/2640 [==============================] - 1s 206us/sample - loss: 0.0277 - categorical_accuracy: 0.9511\n",
      "CNN: Test Loss: 0.027716339588391058\n",
      "CNN: Test Accuracy: 0.9511363506317139\n",
      "2640/2640 [==============================] - 1s 216us/sample - loss: 0.0620 - categorical_accuracy: 0.9186\n",
      "CNN Glove: Test Loss: 0.061982240211783036\n",
      "CNN Glove: Test Accuracy: 0.9185606241226196\n",
      "2640/2640 [==============================] - 9s 3ms/sample - loss: 0.0872 - categorical_accuracy: 0.8962\n",
      "LSTM: Test Loss: 0.08724432587623596\n",
      "LSTM: Test Accuracy: 0.896212100982666\n",
      "2640/2640 [==============================] - 0s 111us/sample - loss: 0.4230 - categorical_accuracy: 0.1848\n",
      "MLP: Test Loss: 0.42304272850354513\n",
      "MLP: Test Accuracy: 0.18484848737716675\n"
     ]
    }
   ],
   "source": [
    "test_loss, test_acc = best_cnn.evaluate(X_test,y_test)\n",
    "print('CNN: Test Loss: {}'.format(test_loss))\n",
    "print('CNN: Test Accuracy: {}'.format(test_acc))\n",
    "\n",
    "test_loss, test_acc = best_glove.evaluate(X_test,y_test)\n",
    "print('CNN Glove: Test Loss: {}'.format(test_loss))\n",
    "print('CNN Glove: Test Accuracy: {}'.format(test_acc))\n",
    "\n",
    "test_loss, test_acc = best_lstm.evaluate(X_test,y_test)\n",
    "print('LSTM: Test Loss: {}'.format(test_loss))\n",
    "print('LSTM: Test Accuracy: {}'.format(test_acc))\n",
    "\n",
    "test_loss, test_acc = best_mlp.evaluate(X_test,y_test)\n",
    "print('MLP: Test Loss: {}'.format(test_loss))\n",
    "print('MLP: Test Accuracy: {}'.format(test_acc))"
   ]
  },
  {
   "cell_type": "markdown",
   "metadata": {},
   "source": [
    "The below code block loads a review, splits it into sentences and sub-sentences, and returns a flattened list"
   ]
  },
  {
   "cell_type": "code",
   "execution_count": 10,
   "metadata": {},
   "outputs": [],
   "source": [
    "data_pros_cons = pickle.load( open( \"gdr_assignment_pros_cons.pkl\", \"rb\" ))\n",
    "review = data_pros_cons.iloc[10,0]\n",
    "blocks = extract_text_blocks(review)"
   ]
  },
  {
   "cell_type": "markdown",
   "metadata": {},
   "source": [
    "Text example"
   ]
  },
  {
   "cell_type": "code",
   "execution_count": 11,
   "metadata": {},
   "outputs": [
    {
     "name": "stdout",
     "output_type": "stream",
     "text": [
      "I worked for the internal marketing team (MarCom) on the creative side. The best thing about working at Apple is your coworkers. They do an excellent job of hiring incredibly intelligent, talented people. It's quite humbling to work alongside such accomplished people. You'll always feel like the dumbest person in the room, which is great because everyone has so much to teach you. Most of them are ego-free (about 70% of them) and will help you whenever possible. There are so many personality types, though nearly all of them are perfectionist Type A people. If that is your kind of crew, you'll do well.\r\n",
      "\r\n",
      "The work usually comes in waves. When you're on, you're all the way on. For weeks at a time you can expect late nights and no weekends. On the flip side, when it's slow, it's very slow. You can often work from home or take comp days. During downtimes it is not uncommon to go in for five hours including a long lunch and then go home.\r\n",
      "\r\n",
      "In addition to this, the compensation is good. The stock program is okay. But the pay is more than fair and their annual reviews pretty much guarantee a raise, bonus, and/or more stock.\r\n",
      "\r\n",
      "Finally, Tim Cook seems like a genuinely good person. Even in the relatively short time he's been in his role, he has made enormous leaps to give that company a real set of values that are current with this generation. He feels like a real human being, which is something Apple desperately needs.\n"
     ]
    }
   ],
   "source": [
    "print(review)"
   ]
  },
  {
   "cell_type": "code",
   "execution_count": 12,
   "metadata": {},
   "outputs": [],
   "source": [
    "# Helper function to print sentences and categories from the prediction list\n",
    "def print_categories_sentences(prediction_dict):\n",
    "    \n",
    "    if len(prediction_dict) == 0:\n",
    "        print (\"No predictions made\")\n",
    "        \n",
    "    for k,v in predictions.items():\n",
    "        categories = [i[1] for i in v[0]]\n",
    "        sentence = v[1]\n",
    "        print(categories, sentence)"
   ]
  },
  {
   "cell_type": "markdown",
   "metadata": {},
   "source": [
    "# Predict"
   ]
  },
  {
   "cell_type": "markdown",
   "metadata": {},
   "source": [
    "The predict function takes in a list of important text blocks as input, and returns a list of \"useful/important\" sentences with their categories and confidence values. <br>\n",
    "Below we visualize the outputs of the 4 models on the text above(review)."
   ]
  },
  {
   "cell_type": "markdown",
   "metadata": {},
   "source": [
    "# CNN"
   ]
  },
  {
   "cell_type": "code",
   "execution_count": 13,
   "metadata": {},
   "outputs": [
    {
     "name": "stdout",
     "output_type": "stream",
     "text": [
      "['Job Security/Advancement'] I worked for the internal marketing team (MarCom) on the creative side.\n",
      "['culture_team'] They do an excellent job of hiring incredibly intelligent, talented people.\n",
      "['wlb_working_conditions'] The work usually comes in waves.\n",
      "['wlb_working_conditions'] For weeks at a time you can expect late nights and no weekends.\n",
      "['culture_team'] On the flip side, when it's slow, it's very slow.\n",
      "['wlb_working_conditions'] You can often work from home or take comp days.\n",
      "['wlb_working_conditions'] During downtimes it is not uncommon to go in for five hours including a long lunch and then go home.\n",
      "['salary_benefits'] In addition to this, the compensation is good.\n",
      "['salary_benefits'] The stock program is okay.\n",
      "['culture_team'] Finally, Tim Cook seems like a genuinely good person.\n",
      "['culture_team'] Even in the relatively short time he's been in his role, he has made enormous leaps to give that company a real set of values that are current with this generation.\n"
     ]
    }
   ],
   "source": [
    "predictions = best_cnn.predict(blocks)\n",
    "print_categories_sentences(predictions)"
   ]
  },
  {
   "cell_type": "markdown",
   "metadata": {},
   "source": [
    "# CNN Glove"
   ]
  },
  {
   "cell_type": "code",
   "execution_count": 14,
   "metadata": {},
   "outputs": [
    {
     "name": "stdout",
     "output_type": "stream",
     "text": [
      "['wlb_working_conditions'] The work usually comes in waves.\n",
      "['wlb_working_conditions'] For weeks at a time you can expect late nights and no weekends.\n",
      "['wlb_working_conditions'] You can often work from home or take comp days.\n",
      "['salary_benefits'] The stock program is okay.\n",
      "['culture_team'] Finally, Tim Cook seems like a genuinely good person.\n"
     ]
    }
   ],
   "source": [
    "predictions = best_glove.predict(blocks)\n",
    "print_categories_sentences(predictions)"
   ]
  },
  {
   "cell_type": "markdown",
   "metadata": {},
   "source": [
    "# LSTM"
   ]
  },
  {
   "cell_type": "code",
   "execution_count": 15,
   "metadata": {},
   "outputs": [
    {
     "name": "stdout",
     "output_type": "stream",
     "text": [
      "['culture_team'] The best thing about working at Apple is your coworkers.\n",
      "['culture_team'] They do an excellent job of hiring incredibly intelligent, talented people.\n",
      "['culture_team'] Most of them are ego-free (about 70% of them) and will help you whenever possible.\n",
      "['culture_team'] For weeks at a time you can expect late nights and no weekends.\n",
      "['wlb_working_conditions'] You can often work from home or take comp days.\n",
      "['culture_team'] Finally, Tim Cook seems like a genuinely good person.\n"
     ]
    }
   ],
   "source": [
    "predictions = best_lstm.predict(blocks)\n",
    "print_categories_sentences(predictions)"
   ]
  },
  {
   "cell_type": "markdown",
   "metadata": {},
   "source": [
    "# MLP"
   ]
  },
  {
   "cell_type": "code",
   "execution_count": 16,
   "metadata": {},
   "outputs": [
    {
     "name": "stdout",
     "output_type": "stream",
     "text": [
      "No predictions made\n"
     ]
    }
   ],
   "source": [
    "predictions = best_mlp.predict(blocks)\n",
    "print_categories_sentences(predictions)"
   ]
  }
 ],
 "metadata": {
  "kernelspec": {
   "display_name": "Python 3",
   "language": "python",
   "name": "python3"
  },
  "language_info": {
   "codemirror_mode": {
    "name": "ipython",
    "version": 3
   },
   "file_extension": ".py",
   "mimetype": "text/x-python",
   "name": "python",
   "nbconvert_exporter": "python",
   "pygments_lexer": "ipython3",
   "version": "3.7.5"
  }
 },
 "nbformat": 4,
 "nbformat_minor": 2
}
