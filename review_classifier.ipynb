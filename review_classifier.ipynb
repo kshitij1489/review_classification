{
 "cells": [
  {
   "cell_type": "code",
   "execution_count": 65,
   "metadata": {},
   "outputs": [
    {
     "name": "stdout",
     "output_type": "stream",
     "text": [
      "The autoreload extension is already loaded. To reload it, use:\n",
      "  %reload_ext autoreload\n"
     ]
    }
   ],
   "source": [
    "import numpy as np\n",
    "import pandas as pd\n",
    "import pickle\n",
    "import time\n",
    "\n",
    "from sklearn.model_selection import train_test_split\n",
    "\n",
    "from text_models import TextClassifier, extract_text_blocks, tokenize_data, load_glove_embedding\n",
    "from lstm_attention_model import AttentionLSTM, train_part, evaluate, predict_labels\n",
    "from helper import Dataset, plot_graphs, progress_bar, consolidate_results\n",
    "%load_ext autoreload\n",
    "%autoreload 2"
   ]
  },
  {
   "cell_type": "markdown",
   "metadata": {},
   "source": [
    "# Load Dataset "
   ]
  },
  {
   "cell_type": "markdown",
   "metadata": {},
   "source": [
    "The dataset is a pandas dataframe with two columns: Text labels and the text sentences and sub-sentences. There are 8 different categories(labels) in total. Each sentence could also have multiple categories(labels) associated with it."
   ]
  },
  {
   "cell_type": "code",
   "execution_count": 2,
   "metadata": {},
   "outputs": [],
   "source": [
    "df = pickle.load( open( \"review_labelled.pkl\", \"rb\" ))"
   ]
  },
  {
   "cell_type": "code",
   "execution_count": 3,
   "metadata": {},
   "outputs": [
    {
     "data": {
      "text/html": [
       "<div>\n",
       "<style scoped>\n",
       "    .dataframe tbody tr th:only-of-type {\n",
       "        vertical-align: middle;\n",
       "    }\n",
       "\n",
       "    .dataframe tbody tr th {\n",
       "        vertical-align: top;\n",
       "    }\n",
       "\n",
       "    .dataframe thead th {\n",
       "        text-align: right;\n",
       "    }\n",
       "</style>\n",
       "<table border=\"1\" class=\"dataframe\">\n",
       "  <thead>\n",
       "    <tr style=\"text-align: right;\">\n",
       "      <th></th>\n",
       "      <th>label</th>\n",
       "      <th>pp_sent</th>\n",
       "    </tr>\n",
       "  </thead>\n",
       "  <tbody>\n",
       "    <tr>\n",
       "      <th>17309</th>\n",
       "      <td>[salary_benefits]</td>\n",
       "      <td>employee stock purchase plan</td>\n",
       "    </tr>\n",
       "    <tr>\n",
       "      <th>5920</th>\n",
       "      <td>[salary_benefits]</td>\n",
       "      <td>onsite gym</td>\n",
       "    </tr>\n",
       "    <tr>\n",
       "      <th>5236</th>\n",
       "      <td>[salary_benefits]</td>\n",
       "      <td>full medical dental vision benefits at no cost...</td>\n",
       "    </tr>\n",
       "    <tr>\n",
       "      <th>23513</th>\n",
       "      <td>[tech_product]</td>\n",
       "      <td>legacy code bases are a challenge but things a...</td>\n",
       "    </tr>\n",
       "    <tr>\n",
       "      <th>4238</th>\n",
       "      <td>[wlb_working_conditions]</td>\n",
       "      <td>excellent work life balance</td>\n",
       "    </tr>\n",
       "    <tr>\n",
       "      <th>25697</th>\n",
       "      <td>[wlb_working_conditions]</td>\n",
       "      <td>work life balance</td>\n",
       "    </tr>\n",
       "    <tr>\n",
       "      <th>86850</th>\n",
       "      <td>[management, culture_team]</td>\n",
       "      <td>no micro managing</td>\n",
       "    </tr>\n",
       "    <tr>\n",
       "      <th>70645</th>\n",
       "      <td>[Job Security/Advancement]</td>\n",
       "      <td>career development frameworks</td>\n",
       "    </tr>\n",
       "    <tr>\n",
       "      <th>23862</th>\n",
       "      <td>[culture_team]</td>\n",
       "      <td>some of my co workers have become some of my b...</td>\n",
       "    </tr>\n",
       "    <tr>\n",
       "      <th>51229</th>\n",
       "      <td>[Job Security/Advancement]</td>\n",
       "      <td>you 'll have plenty of opportunity to grow here</td>\n",
       "    </tr>\n",
       "  </tbody>\n",
       "</table>\n",
       "</div>"
      ],
      "text/plain": [
       "                            label  \\\n",
       "17309           [salary_benefits]   \n",
       "5920            [salary_benefits]   \n",
       "5236            [salary_benefits]   \n",
       "23513              [tech_product]   \n",
       "4238     [wlb_working_conditions]   \n",
       "25697    [wlb_working_conditions]   \n",
       "86850  [management, culture_team]   \n",
       "70645  [Job Security/Advancement]   \n",
       "23862              [culture_team]   \n",
       "51229  [Job Security/Advancement]   \n",
       "\n",
       "                                                 pp_sent  \n",
       "17309                       employee stock purchase plan  \n",
       "5920                                          onsite gym  \n",
       "5236   full medical dental vision benefits at no cost...  \n",
       "23513  legacy code bases are a challenge but things a...  \n",
       "4238                         excellent work life balance  \n",
       "25697                                  work life balance  \n",
       "86850                                  no micro managing  \n",
       "70645                      career development frameworks  \n",
       "23862  some of my co workers have become some of my b...  \n",
       "51229    you 'll have plenty of opportunity to grow here  "
      ]
     },
     "execution_count": 3,
     "metadata": {},
     "output_type": "execute_result"
    }
   ],
   "source": [
    "df.sample(10)"
   ]
  },
  {
   "cell_type": "markdown",
   "metadata": {},
   "source": [
    "Check for category imbalances in our dataset. Dataset looks well balanced in this case."
   ]
  },
  {
   "cell_type": "code",
   "execution_count": 4,
   "metadata": {},
   "outputs": [
    {
     "data": {
      "text/plain": [
       "Counter({'Job Security/Advancement': 1151,\n",
       "         'business_vision_competitors': 1042,\n",
       "         'culture_team': 1148,\n",
       "         'wlb_working_conditions': 1013,\n",
       "         'salary_benefits': 1019,\n",
       "         'management': 1064,\n",
       "         'tech_product': 1009,\n",
       "         'haras_discrim_sexism': 1001})"
      ]
     },
     "execution_count": 4,
     "metadata": {},
     "output_type": "execute_result"
    }
   ],
   "source": [
    "from collections import Counter\n",
    "label_count = Counter([category for sublist in df.label.to_numpy() for category in sublist])\n",
    "label_count"
   ]
  },
  {
   "cell_type": "code",
   "execution_count": 66,
   "metadata": {},
   "outputs": [],
   "source": [
    "# This variable holds the test results for all the models for later comparison.\n",
    "model_results = []"
   ]
  },
  {
   "cell_type": "markdown",
   "metadata": {},
   "source": [
    "# Train LSTM"
   ]
  },
  {
   "cell_type": "markdown",
   "metadata": {},
   "source": [
    "Train a Multilabel text classifier using LSTM. This model has the following architecture: <br>\n",
    "Input -> Word Embedding Layer -> LSTM -> Spatial Dropout -> Fully Connected -> RELU -> Fully Connected -> Sigmoid <br>\n",
    "Here the LSTM output to the next fully connected layer is from the last time step only. All the model implementations could be found at text_models.py"
   ]
  },
  {
   "cell_type": "code",
   "execution_count": 6,
   "metadata": {},
   "outputs": [
    {
     "name": "stderr",
     "output_type": "stream",
     "text": [
      "WARNING: Logging before flag parsing goes to stderr.\n",
      "W0215 14:47:01.751799 4687252928 deprecation.py:506] From /Users/kshitijsharma/Documents/CS231n/assignment2/.env/lib/python3.7/site-packages/tensorflow/python/keras/backend.py:4081: calling dropout (from tensorflow.python.ops.nn_ops) with keep_prob is deprecated and will be removed in a future version.\n",
      "Instructions for updating:\n",
      "Please use `rate` instead of `keep_prob`. Rate should be set to `rate = 1 - keep_prob`.\n"
     ]
    },
    {
     "name": "stdout",
     "output_type": "stream",
     "text": [
      "Shape of data tensor: (8000,)\n",
      "Found 3796 unique tokens.\n",
      "Train on 4800 samples, validate on 1600 samples\n",
      "Epoch 1/10\n",
      "4800/4800 [==============================] - 16s 3ms/sample - loss: 0.4324 - binary_accuracy: 0.8630 - val_loss: 0.3869 - val_binary_accuracy: 0.8682\n",
      "Epoch 2/10\n",
      "4800/4800 [==============================] - 14s 3ms/sample - loss: 0.3684 - binary_accuracy: 0.8685 - val_loss: 0.3193 - val_binary_accuracy: 0.8769\n",
      "Epoch 3/10\n",
      "4800/4800 [==============================] - 14s 3ms/sample - loss: 0.2625 - binary_accuracy: 0.8940 - val_loss: 0.2062 - val_binary_accuracy: 0.9273\n",
      "Epoch 4/10\n",
      "4800/4800 [==============================] - 14s 3ms/sample - loss: 0.1600 - binary_accuracy: 0.9495 - val_loss: 0.1126 - val_binary_accuracy: 0.9715\n",
      "Epoch 5/10\n",
      "4800/4800 [==============================] - 14s 3ms/sample - loss: 0.0941 - binary_accuracy: 0.9738 - val_loss: 0.0876 - val_binary_accuracy: 0.9746\n",
      "Epoch 6/10\n",
      "4800/4800 [==============================] - 14s 3ms/sample - loss: 0.0608 - binary_accuracy: 0.9842 - val_loss: 0.0627 - val_binary_accuracy: 0.9818\n",
      "Epoch 7/10\n",
      "4800/4800 [==============================] - 14s 3ms/sample - loss: 0.0456 - binary_accuracy: 0.9877 - val_loss: 0.0640 - val_binary_accuracy: 0.9812\n",
      "Epoch 8/10\n",
      "4800/4800 [==============================] - 14s 3ms/sample - loss: 0.0357 - binary_accuracy: 0.9901 - val_loss: 0.0526 - val_binary_accuracy: 0.9838\n",
      "Epoch 9/10\n",
      "4800/4800 [==============================] - 14s 3ms/sample - loss: 0.0277 - binary_accuracy: 0.9925 - val_loss: 0.0472 - val_binary_accuracy: 0.9854\n",
      "Epoch 10/10\n",
      "4800/4800 [==============================] - 14s 3ms/sample - loss: 0.0221 - binary_accuracy: 0.9941 - val_loss: 0.0451 - val_binary_accuracy: 0.9859\n",
      "Model: \"sequential\"\n",
      "_________________________________________________________________\n",
      "Layer (type)                 Output Shape              Param #   \n",
      "=================================================================\n",
      "embedding (Embedding)        (None, None, 50)          2500000   \n",
      "_________________________________________________________________\n",
      "spatial_dropout1d (SpatialDr (None, None, 50)          0         \n",
      "_________________________________________________________________\n",
      "lstm (LSTM)                  (None, 100)               60400     \n",
      "_________________________________________________________________\n",
      "dense (Dense)                (None, 32)                3232      \n",
      "_________________________________________________________________\n",
      "dense_1 (Dense)              (None, 8)                 264       \n",
      "=================================================================\n",
      "Total params: 2,563,896\n",
      "Trainable params: 2,563,896\n",
      "Non-trainable params: 0\n",
      "_________________________________________________________________\n"
     ]
    }
   ],
   "source": [
    "X, y, tokenizer, label_index = tokenize_data(df['pp_sent'].values, df['label'])\n",
    "model_lstm = TextClassifier(tokenizer, label_index)\n",
    "\n",
    "X_train, X_test, y_train, y_test = train_test_split(X, y, test_size=0.20, random_state=42)\n",
    "\n",
    "history_lstm = model_lstm.train(X_train, y_train, 'LSTM', epochs = 10)\n",
    "model_lstm.model.summary()"
   ]
  },
  {
   "cell_type": "markdown",
   "metadata": {},
   "source": [
    "Evaluate Model"
   ]
  },
  {
   "cell_type": "code",
   "execution_count": 7,
   "metadata": {},
   "outputs": [
    {
     "name": "stdout",
     "output_type": "stream",
     "text": [
      "1600/1600 [==============================] - 1s 580us/sample - loss: 0.0561 - binary_accuracy: 0.9835\n",
      "Test Loss: 0.056071516294032335\n",
      "Test Accuracy: 0.9835156202316284\n"
     ]
    }
   ],
   "source": [
    "test_loss_lstm, test_acc_lstm = model_lstm.evaluate(X_test,y_test)\n",
    "print('Test Loss: {}'.format(test_loss_lstm))\n",
    "print('Test Accuracy: {}'.format(test_acc_lstm))"
   ]
  },
  {
   "cell_type": "code",
   "execution_count": 8,
   "metadata": {},
   "outputs": [
    {
     "data": {
      "image/png": "[encoded data removed]",
      "text/plain": [
       "<Figure size 432x288 with 1 Axes>"
      ]
     },
     "metadata": {
      "needs_background": "light"
     },
     "output_type": "display_data"
    }
   ],
   "source": [
    "plot_graphs(history_lstm.history, 'binary_accuracy')"
   ]
  },
  {
   "cell_type": "code",
   "execution_count": 9,
   "metadata": {},
   "outputs": [
    {
     "data": {
      "image/png": "[encoded data removed]",
      "text/plain": [
       "<Figure size 432x288 with 1 Axes>"
      ]
     },
     "metadata": {
      "needs_background": "light"
     },
     "output_type": "display_data"
    }
   ],
   "source": [
    "plot_graphs(history_lstm.history, 'loss')"
   ]
  },
  {
   "cell_type": "code",
   "execution_count": 67,
   "metadata": {},
   "outputs": [],
   "source": [
    "h_lstm = consolidate_results(history_lstm.history, test_loss_lstm, test_acc_lstm, 'binary_accuracy', 'LSTM')\n",
    "model_results.append(h_lstm)"
   ]
  },
  {
   "cell_type": "markdown",
   "metadata": {},
   "source": [
    "# Train CNN"
   ]
  },
  {
   "cell_type": "markdown",
   "metadata": {},
   "source": [
    "Model Architecture: <br> Input -> Word Embedding Layer -> Convolution Layer -> RELU -> Global Max Pool -> Fully Connected -> Sigmoid "
   ]
  },
  {
   "cell_type": "code",
   "execution_count": 11,
   "metadata": {},
   "outputs": [
    {
     "name": "stdout",
     "output_type": "stream",
     "text": [
      "Shape of data tensor: (8000,)\n",
      "Found 3796 unique tokens.\n",
      "Train on 4800 samples, validate on 1600 samples\n",
      "Epoch 1/10\n",
      "4800/4800 [==============================] - 2s 383us/sample - loss: 0.4451 - binary_accuracy: 0.8584 - val_loss: 0.3551 - val_binary_accuracy: 0.8682\n",
      "Epoch 2/10\n",
      "4800/4800 [==============================] - 2s 342us/sample - loss: 0.2547 - binary_accuracy: 0.9005 - val_loss: 0.1342 - val_binary_accuracy: 0.9553\n",
      "Epoch 3/10\n",
      "4800/4800 [==============================] - 2s 346us/sample - loss: 0.0737 - binary_accuracy: 0.9776 - val_loss: 0.0498 - val_binary_accuracy: 0.9847\n",
      "Epoch 4/10\n",
      "4800/4800 [==============================] - 2s 347us/sample - loss: 0.0305 - binary_accuracy: 0.9909 - val_loss: 0.0334 - val_binary_accuracy: 0.9900\n",
      "Epoch 5/10\n",
      "4800/4800 [==============================] - 2s 345us/sample - loss: 0.0166 - binary_accuracy: 0.9958 - val_loss: 0.0268 - val_binary_accuracy: 0.9915\n",
      "Epoch 6/10\n",
      "4800/4800 [==============================] - 2s 346us/sample - loss: 0.0098 - binary_accuracy: 0.9980 - val_loss: 0.0236 - val_binary_accuracy: 0.9923\n",
      "Epoch 7/10\n",
      "4800/4800 [==============================] - 2s 345us/sample - loss: 0.0061 - binary_accuracy: 0.9991 - val_loss: 0.0226 - val_binary_accuracy: 0.9925\n",
      "Epoch 8/10\n",
      "4800/4800 [==============================] - 2s 343us/sample - loss: 0.0040 - binary_accuracy: 0.9996 - val_loss: 0.0220 - val_binary_accuracy: 0.9926\n",
      "Epoch 9/10\n",
      "4800/4800 [==============================] - 2s 343us/sample - loss: 0.0028 - binary_accuracy: 0.9998 - val_loss: 0.0215 - val_binary_accuracy: 0.9927\n",
      "Epoch 10/10\n",
      "4800/4800 [==============================] - 2s 349us/sample - loss: 0.0020 - binary_accuracy: 0.9999 - val_loss: 0.0215 - val_binary_accuracy: 0.9930\n",
      "Model: \"sequential_1\"\n",
      "_________________________________________________________________\n",
      "Layer (type)                 Output Shape              Param #   \n",
      "=================================================================\n",
      "embedding_1 (Embedding)      (None, None, 50)          2500000   \n",
      "_________________________________________________________________\n",
      "conv1d (Conv1D)              (None, None, 300)         45300     \n",
      "_________________________________________________________________\n",
      "global_max_pooling1d (Global (None, 300)               0         \n",
      "_________________________________________________________________\n",
      "dense_2 (Dense)              (None, 8)                 2408      \n",
      "=================================================================\n",
      "Total params: 2,547,708\n",
      "Trainable params: 2,547,708\n",
      "Non-trainable params: 0\n",
      "_________________________________________________________________\n"
     ]
    }
   ],
   "source": [
    "X, y, tokenizer, label_index = tokenize_data(df['pp_sent'].values, df['label'])\n",
    "model_cnn = TextClassifier(tokenizer, label_index)\n",
    "\n",
    "X_train, X_test, y_train, y_test = train_test_split(X, y, test_size=0.20, random_state=42)\n",
    "\n",
    "history_cnn = model_cnn.train(X_train, y_train, 'CNN', epochs = 10)\n",
    "model_cnn.model.summary()"
   ]
  },
  {
   "cell_type": "markdown",
   "metadata": {},
   "source": [
    "Evaluate CNN Model"
   ]
  },
  {
   "cell_type": "code",
   "execution_count": 12,
   "metadata": {},
   "outputs": [
    {
     "name": "stdout",
     "output_type": "stream",
     "text": [
      "1600/1600 [==============================] - 0s 72us/sample - loss: 0.0255 - binary_accuracy: 0.9917\n",
      "Test Loss: 0.02548092878423631\n",
      "Test Accuracy: 0.9917187690734863\n"
     ]
    }
   ],
   "source": [
    "test_loss_cnn, test_acc_cnn = model_cnn.evaluate(X_test,y_test)\n",
    "print('Test Loss: {}'.format(test_loss_cnn))\n",
    "print('Test Accuracy: {}'.format(test_acc_cnn))"
   ]
  },
  {
   "cell_type": "code",
   "execution_count": 13,
   "metadata": {},
   "outputs": [
    {
     "data": {
      "image/png": "[encoded data removed]",
      "text/plain": [
       "<Figure size 432x288 with 1 Axes>"
      ]
     },
     "metadata": {
      "needs_background": "light"
     },
     "output_type": "display_data"
    }
   ],
   "source": [
    "plot_graphs(history_cnn.history, 'binary_accuracy')"
   ]
  },
  {
   "cell_type": "code",
   "execution_count": 14,
   "metadata": {},
   "outputs": [
    {
     "data": {
      "image/png": "[encoded data removed]",
      "text/plain": [
       "<Figure size 432x288 with 1 Axes>"
      ]
     },
     "metadata": {
      "needs_background": "light"
     },
     "output_type": "display_data"
    }
   ],
   "source": [
    "plot_graphs(history_cnn.history, 'loss')"
   ]
  },
  {
   "cell_type": "code",
   "execution_count": 68,
   "metadata": {},
   "outputs": [],
   "source": [
    "h_cnn = consolidate_results(history_cnn.history, test_loss_cnn, test_acc_cnn, 'binary_accuracy', 'CNN')\n",
    "model_results.append(h_cnn)"
   ]
  },
  {
   "cell_type": "markdown",
   "metadata": {},
   "source": [
    "# Train CNN Glove"
   ]
  },
  {
   "cell_type": "markdown",
   "metadata": {},
   "source": [
    "Model Architecture: \n",
    "Input -> GLoVe Word Embedding(Non trainable)  -> Convolution Layer -> RELU -> Global Max Pool -> Fully Connected -> Sigmoid"
   ]
  },
  {
   "cell_type": "code",
   "execution_count": 16,
   "metadata": {},
   "outputs": [
    {
     "name": "stdout",
     "output_type": "stream",
     "text": [
      "Shape of data tensor: (8000,)\n",
      "Found 3796 unique tokens.\n",
      "Train on 4800 samples, validate on 1600 samples\n",
      "Epoch 1/10\n",
      "4800/4800 [==============================] - 1s 304us/sample - loss: 0.2759 - binary_accuracy: 0.8997 - val_loss: 0.1594 - val_binary_accuracy: 0.9495\n",
      "Epoch 2/10\n",
      "4800/4800 [==============================] - 1s 267us/sample - loss: 0.1189 - binary_accuracy: 0.9616 - val_loss: 0.1032 - val_binary_accuracy: 0.9670\n",
      "Epoch 3/10\n",
      "4800/4800 [==============================] - 1s 266us/sample - loss: 0.0785 - binary_accuracy: 0.9755 - val_loss: 0.0795 - val_binary_accuracy: 0.9754\n",
      "Epoch 4/10\n",
      "4800/4800 [==============================] - 1s 267us/sample - loss: 0.0566 - binary_accuracy: 0.9833 - val_loss: 0.0666 - val_binary_accuracy: 0.9794\n",
      "Epoch 5/10\n",
      "4800/4800 [==============================] - 1s 265us/sample - loss: 0.0419 - binary_accuracy: 0.9889 - val_loss: 0.0586 - val_binary_accuracy: 0.9819\n",
      "Epoch 6/10\n",
      "4800/4800 [==============================] - 1s 265us/sample - loss: 0.0317 - binary_accuracy: 0.9923 - val_loss: 0.0531 - val_binary_accuracy: 0.9829\n",
      "Epoch 7/10\n",
      "4800/4800 [==============================] - 1s 262us/sample - loss: 0.0242 - binary_accuracy: 0.9953 - val_loss: 0.0484 - val_binary_accuracy: 0.9840\n",
      "Epoch 8/10\n",
      "4800/4800 [==============================] - 1s 263us/sample - loss: 0.0185 - binary_accuracy: 0.9971 - val_loss: 0.0465 - val_binary_accuracy: 0.9850\n",
      "Epoch 9/10\n",
      "4800/4800 [==============================] - 1s 266us/sample - loss: 0.0148 - binary_accuracy: 0.9983 - val_loss: 0.0437 - val_binary_accuracy: 0.9852\n",
      "Epoch 10/10\n",
      "4800/4800 [==============================] - 1s 269us/sample - loss: 0.0113 - binary_accuracy: 0.9991 - val_loss: 0.0426 - val_binary_accuracy: 0.9857\n",
      "Model: \"sequential_2\"\n",
      "_________________________________________________________________\n",
      "Layer (type)                 Output Shape              Param #   \n",
      "=================================================================\n",
      "embedding_2 (Embedding)      (None, 100, 100)          5000000   \n",
      "_________________________________________________________________\n",
      "conv1d_1 (Conv1D)            (None, 98, 300)           90300     \n",
      "_________________________________________________________________\n",
      "global_max_pooling1d_1 (Glob (None, 300)               0         \n",
      "_________________________________________________________________\n",
      "dense_3 (Dense)              (None, 8)                 2408      \n",
      "=================================================================\n",
      "Total params: 5,092,708\n",
      "Trainable params: 92,708\n",
      "Non-trainable params: 5,000,000\n",
      "_________________________________________________________________\n"
     ]
    }
   ],
   "source": [
    "X, y, tokenizer, label_index = tokenize_data(df['pp_sent'].values, df['label'])\n",
    "model_cnn_glove = TextClassifier(tokenizer, label_index)\n",
    "\n",
    "X_train, X_test, y_train, y_test = train_test_split(X, y, test_size=0.20, random_state=42)\n",
    "\n",
    "history_cnn_glove = model_cnn_glove.train(X_train, y_train, 'CNN_Glove', epochs = 10)\n",
    "model_cnn_glove.model.summary()"
   ]
  },
  {
   "cell_type": "markdown",
   "metadata": {},
   "source": [
    "Evaluate Glove Model"
   ]
  },
  {
   "cell_type": "code",
   "execution_count": 17,
   "metadata": {},
   "outputs": [
    {
     "name": "stdout",
     "output_type": "stream",
     "text": [
      "1600/1600 [==============================] - 0s 92us/sample - loss: 0.0452 - binary_accuracy: 0.9841\n",
      "Test Loss: 0.045195553805679085\n",
      "Test Accuracy: 0.9840624928474426\n"
     ]
    }
   ],
   "source": [
    "test_loss_glove, test_acc_glove = model_cnn_glove.evaluate(X_test,y_test)\n",
    "print('Test Loss: {}'.format(test_loss_glove))\n",
    "print('Test Accuracy: {}'.format(test_acc_glove))"
   ]
  },
  {
   "cell_type": "code",
   "execution_count": 18,
   "metadata": {},
   "outputs": [
    {
     "data": {
      "image/png": "[encoded data removed]",
      "text/plain": [
       "<Figure size 432x288 with 1 Axes>"
      ]
     },
     "metadata": {
      "needs_background": "light"
     },
     "output_type": "display_data"
    }
   ],
   "source": [
    "plot_graphs(history_cnn_glove.history, 'binary_accuracy')"
   ]
  },
  {
   "cell_type": "code",
   "execution_count": 19,
   "metadata": {},
   "outputs": [
    {
     "data": {
      "image/png": "[encoded data removed]",
      "text/plain": [
       "<Figure size 432x288 with 1 Axes>"
      ]
     },
     "metadata": {
      "needs_background": "light"
     },
     "output_type": "display_data"
    }
   ],
   "source": [
    "plot_graphs(history_cnn_glove.history, 'loss')"
   ]
  },
  {
   "cell_type": "code",
   "execution_count": 72,
   "metadata": {},
   "outputs": [],
   "source": [
    "h_glove = consolidate_results(history_cnn_glove.history, test_loss_glove,\n",
    "                           test_acc_glove, 'binary_accuracy', 'CNN GLoVe')\n",
    "model_results.append(h_glove)"
   ]
  },
  {
   "cell_type": "markdown",
   "metadata": {},
   "source": [
    "# Train MLP"
   ]
  },
  {
   "cell_type": "markdown",
   "metadata": {},
   "source": [
    "Model Architecture: <br>\n",
    "Input -> Word Embedding Layer -> 4x(Fully Connected -> RELU) -> Fully Connected -> Sigmoid <br>"
   ]
  },
  {
   "cell_type": "code",
   "execution_count": 21,
   "metadata": {},
   "outputs": [
    {
     "name": "stdout",
     "output_type": "stream",
     "text": [
      "Shape of data tensor: (8000,)\n",
      "Found 3796 unique tokens.\n",
      "Train on 4800 samples, validate on 1600 samples\n",
      "Epoch 1/10\n",
      "4800/4800 [==============================] - 1s 117us/sample - loss: 3.3193 - binary_accuracy: 0.7809 - val_loss: 1.0439 - val_binary_accuracy: 0.8550\n",
      "Epoch 2/10\n",
      "4800/4800 [==============================] - 0s 46us/sample - loss: 1.0521 - binary_accuracy: 0.8302 - val_loss: 0.8413 - val_binary_accuracy: 0.8647\n",
      "Epoch 3/10\n",
      "4800/4800 [==============================] - 0s 44us/sample - loss: 0.8423 - binary_accuracy: 0.8526 - val_loss: 0.7531 - val_binary_accuracy: 0.8677\n",
      "Epoch 4/10\n",
      "4800/4800 [==============================] - 0s 45us/sample - loss: 0.7332 - binary_accuracy: 0.8638 - val_loss: 0.6680 - val_binary_accuracy: 0.8681\n",
      "Epoch 5/10\n",
      "4800/4800 [==============================] - 0s 44us/sample - loss: 0.6539 - binary_accuracy: 0.8670 - val_loss: 0.6171 - val_binary_accuracy: 0.8681\n",
      "Epoch 6/10\n",
      "4800/4800 [==============================] - 0s 44us/sample - loss: 0.6105 - binary_accuracy: 0.8670 - val_loss: 0.5872 - val_binary_accuracy: 0.8682\n",
      "Epoch 7/10\n",
      "4800/4800 [==============================] - 0s 44us/sample - loss: 0.5811 - binary_accuracy: 0.8677 - val_loss: 0.5629 - val_binary_accuracy: 0.8682\n",
      "Epoch 8/10\n",
      "4800/4800 [==============================] - 0s 45us/sample - loss: 0.5568 - binary_accuracy: 0.8677 - val_loss: 0.5419 - val_binary_accuracy: 0.8682\n",
      "Epoch 9/10\n",
      "4800/4800 [==============================] - 0s 44us/sample - loss: 0.5369 - binary_accuracy: 0.8677 - val_loss: 0.5234 - val_binary_accuracy: 0.8682\n",
      "Epoch 10/10\n",
      "4800/4800 [==============================] - 0s 44us/sample - loss: 0.5188 - binary_accuracy: 0.8678 - val_loss: 0.5072 - val_binary_accuracy: 0.8682\n",
      "Model: \"sequential_3\"\n",
      "_________________________________________________________________\n",
      "Layer (type)                 Output Shape              Param #   \n",
      "=================================================================\n",
      "dense_4 (Dense)              (None, 512)               51712     \n",
      "_________________________________________________________________\n",
      "dropout (Dropout)            (None, 512)               0         \n",
      "_________________________________________________________________\n",
      "dense_5 (Dense)              (None, 256)               131328    \n",
      "_________________________________________________________________\n",
      "dropout_1 (Dropout)          (None, 256)               0         \n",
      "_________________________________________________________________\n",
      "dense_6 (Dense)              (None, 256)               65792     \n",
      "_________________________________________________________________\n",
      "dropout_2 (Dropout)          (None, 256)               0         \n",
      "_________________________________________________________________\n",
      "dense_7 (Dense)              (None, 256)               65792     \n",
      "_________________________________________________________________\n",
      "dropout_3 (Dropout)          (None, 256)               0         \n",
      "_________________________________________________________________\n",
      "dense_8 (Dense)              (None, 8)                 2056      \n",
      "=================================================================\n",
      "Total params: 316,680\n",
      "Trainable params: 316,680\n",
      "Non-trainable params: 0\n",
      "_________________________________________________________________\n"
     ]
    }
   ],
   "source": [
    "X, y, tokenizer, label_index = tokenize_data(df['pp_sent'].values, df['label'])\n",
    "model_mlp = TextClassifier(tokenizer, label_index)\n",
    "\n",
    "X_train, X_test, y_train, y_test = train_test_split(X, y, test_size=0.20, random_state=42)\n",
    "\n",
    "history_mlp = model_mlp.train(X_train, y_train, 'MLP', epochs = 10)\n",
    "model_mlp.model.summary()"
   ]
  },
  {
   "cell_type": "markdown",
   "metadata": {},
   "source": [
    "Evaluate MLP Model"
   ]
  },
  {
   "cell_type": "code",
   "execution_count": 22,
   "metadata": {},
   "outputs": [
    {
     "name": "stdout",
     "output_type": "stream",
     "text": [
      "1600/1600 [==============================] - 0s 26us/sample - loss: 0.5068 - binary_accuracy: 0.8683\n",
      "Test Loss: 0.5067953461408615\n",
      "Test Accuracy: 0.8682812452316284\n"
     ]
    }
   ],
   "source": [
    "test_loss_mlp, test_acc_mlp = model_mlp.evaluate(X_test,y_test)\n",
    "print('Test Loss: {}'.format(test_loss_mlp))\n",
    "print('Test Accuracy: {}'.format(test_acc_mlp))"
   ]
  },
  {
   "cell_type": "code",
   "execution_count": 23,
   "metadata": {},
   "outputs": [
    {
     "data": {
      "image/png": "[encoded data removed]",
      "text/plain": [
       "<Figure size 432x288 with 1 Axes>"
      ]
     },
     "metadata": {
      "needs_background": "light"
     },
     "output_type": "display_data"
    }
   ],
   "source": [
    "plot_graphs(history_mlp.history, 'binary_accuracy')"
   ]
  },
  {
   "cell_type": "code",
   "execution_count": 24,
   "metadata": {},
   "outputs": [
    {
     "data": {
      "image/png": "[encoded data removed]",
      "text/plain": [
       "<Figure size 432x288 with 1 Axes>"
      ]
     },
     "metadata": {
      "needs_background": "light"
     },
     "output_type": "display_data"
    }
   ],
   "source": [
    "plot_graphs(history_mlp.history, 'loss')"
   ]
  },
  {
   "cell_type": "code",
   "execution_count": 69,
   "metadata": {},
   "outputs": [],
   "source": [
    "h_mlp = consolidate_results(history_mlp.history, test_loss_mlp, test_acc_mlp, 'binary_accuracy', 'MLP')\n",
    "model_results.append(h_mlp)"
   ]
  },
  {
   "cell_type": "markdown",
   "metadata": {},
   "source": [
    "# LSTM with Attention"
   ]
  },
  {
   "cell_type": "markdown",
   "metadata": {},
   "source": [
    "Model Architecture: \n",
    "Input -> Word Embedding Layer -> Bi-LSTM -> Attention layer -> Fully Connected -> Sigmoid "
   ]
  },
  {
   "cell_type": "code",
   "execution_count": 74,
   "metadata": {},
   "outputs": [
    {
     "name": "stdout",
     "output_type": "stream",
     "text": [
      "Shape of data tensor: (8000,)\n",
      "Found 3796 unique tokens.\n"
     ]
    }
   ],
   "source": [
    "X, y, tokenizer, label_index = tokenize_data(df['pp_sent'].values, df['label'])\n",
    "\n",
    "X_train, X_test, y_train, y_test = train_test_split(X, y, test_size=0.20, random_state=42)\n",
    "X_train, X_val, y_train, y_val = train_test_split(X_train, y_train, test_size=0.25, random_state=1)\n",
    "# Split data into batches of 64\n",
    "train_dset = Dataset(X_train, y_train, batch_size=64, shuffle=True)\n",
    "val_dset = Dataset(X_val, y_val, batch_size=64, shuffle=True)\n",
    "test_dset = Dataset(X_test, y_test, batch_size=64)"
   ]
  },
  {
   "cell_type": "markdown",
   "metadata": {},
   "source": [
    "Train Attention model"
   ]
  },
  {
   "cell_type": "code",
   "execution_count": 75,
   "metadata": {},
   "outputs": [
    {
     "name": "stdout",
     "output_type": "stream",
     "text": [
      "Epoch 1, Loss: 0.4598977565765381, Accuracy: 85.05729675292969, Val Loss: 0.3897843658924103, Val Accuracy: 86.8203125\n",
      "Epoch 2, Loss: 0.40348681807518005, Accuracy: 86.80989837646484, Val Loss: 0.38837170600891113, Val Accuracy: 86.8203125\n",
      "Epoch 3, Loss: 0.3867248296737671, Accuracy: 86.83854675292969, Val Loss: 0.33943942189216614, Val Accuracy: 86.8203125\n",
      "Epoch 4, Loss: 0.28682664036750793, Accuracy: 88.62760925292969, Val Loss: 0.20250919461250305, Val Accuracy: 92.21875\n",
      "Epoch 5, Loss: 0.17050661146640778, Accuracy: 94.796875, Val Loss: 0.12690795958042145, Val Accuracy: 96.671875\n",
      "Epoch 6, Loss: 0.13435079157352448, Accuracy: 96.36197662353516, Val Loss: 0.11699743568897247, Val Accuracy: 96.71875\n",
      "Epoch 7, Loss: 0.10407540202140808, Accuracy: 97.49739837646484, Val Loss: 0.09015937149524689, Val Accuracy: 97.546875\n",
      "Epoch 8, Loss: 0.07703714072704315, Accuracy: 98.35416412353516, Val Loss: 0.08125428110361099, Val Accuracy: 97.765625\n",
      "Epoch 9, Loss: 0.06304597109556198, Accuracy: 98.80729675292969, Val Loss: 0.07841728627681732, Val Accuracy: 97.859375\n",
      "Epoch 10, Loss: 0.05445769056677818, Accuracy: 98.96875, Val Loss: 0.07562913745641708, Val Accuracy: 97.8828125\n"
     ]
    }
   ],
   "source": [
    "sequence_length = 100\n",
    "embedding_dim = 50\n",
    "model_attention = AttentionLSTM(sequence_length, embedding_dim)\n",
    "\n",
    "history_attention = train_part(model_attention, train_dset, val_dset, num_epochs=10, is_training=True)"
   ]
  },
  {
   "cell_type": "markdown",
   "metadata": {},
   "source": [
    "Evaluate model"
   ]
  },
  {
   "cell_type": "code",
   "execution_count": 76,
   "metadata": {},
   "outputs": [
    {
     "name": "stdout",
     "output_type": "stream",
     "text": [
      "Test Loss: 0.07230759412050247\n",
      "Test Accuracy: 0.9799218773841858\n"
     ]
    }
   ],
   "source": [
    "test_loss_attention, test_acc_attention = evaluate(model_attention, test_dset)\n",
    "print('Test Loss: {}'.format(test_loss_attention))\n",
    "print('Test Accuracy: {}'.format(test_acc_attention))"
   ]
  },
  {
   "cell_type": "code",
   "execution_count": 77,
   "metadata": {},
   "outputs": [
    {
     "data": {
      "image/png": "[encoded data removed]",
      "text/plain": [
       "<Figure size 432x288 with 1 Axes>"
      ]
     },
     "metadata": {
      "needs_background": "light"
     },
     "output_type": "display_data"
    }
   ],
   "source": [
    "plot_graphs(history_attention, 'accuracy')"
   ]
  },
  {
   "cell_type": "code",
   "execution_count": 78,
   "metadata": {},
   "outputs": [
    {
     "data": {
      "image/png": "[encoded data removed]",
      "text/plain": [
       "<Figure size 432x288 with 1 Axes>"
      ]
     },
     "metadata": {
      "needs_background": "light"
     },
     "output_type": "display_data"
    }
   ],
   "source": [
    "plot_graphs(history_attention, 'loss')"
   ]
  },
  {
   "cell_type": "code",
   "execution_count": 79,
   "metadata": {},
   "outputs": [],
   "source": [
    "h_attention = consolidate_results(history_attention, test_loss_attention, test_acc_attention, 'accuracy', 'LSTM Attention')\n",
    "model_results.append(h_attention)"
   ]
  },
  {
   "cell_type": "markdown",
   "metadata": {},
   "source": [
    "# Comparison"
   ]
  },
  {
   "cell_type": "markdown",
   "metadata": {},
   "source": [
    "Here before cross validation we can see LSTM, CNN, CNN Glove, LSTM Attention have very similar test accuracies. <br>\n",
    "At this point we haven't done any cross validation so Val Accuracy and Test Accuracy have similar meaning."
   ]
  },
  {
   "cell_type": "code",
   "execution_count": 80,
   "metadata": {},
   "outputs": [
    {
     "data": {
      "text/html": [
       "<div>\n",
       "<style scoped>\n",
       "    .dataframe tbody tr th:only-of-type {\n",
       "        vertical-align: middle;\n",
       "    }\n",
       "\n",
       "    .dataframe tbody tr th {\n",
       "        vertical-align: top;\n",
       "    }\n",
       "\n",
       "    .dataframe thead th {\n",
       "        text-align: right;\n",
       "    }\n",
       "</style>\n",
       "<table border=\"1\" class=\"dataframe\">\n",
       "  <thead>\n",
       "    <tr style=\"text-align: right;\">\n",
       "      <th></th>\n",
       "      <th>Model</th>\n",
       "      <th>Train Accuracy</th>\n",
       "      <th>Val Accuracy</th>\n",
       "      <th>Test Accuracy</th>\n",
       "      <th>Train Loss</th>\n",
       "      <th>Val Loss</th>\n",
       "      <th>Test Loss</th>\n",
       "    </tr>\n",
       "  </thead>\n",
       "  <tbody>\n",
       "    <tr>\n",
       "      <th>0</th>\n",
       "      <td>LSTM</td>\n",
       "      <td>99.414062</td>\n",
       "      <td>98.593748</td>\n",
       "      <td>98.351562</td>\n",
       "      <td>0.022147</td>\n",
       "      <td>0.045085</td>\n",
       "      <td>0.056072</td>\n",
       "    </tr>\n",
       "    <tr>\n",
       "      <th>1</th>\n",
       "      <td>CNN</td>\n",
       "      <td>99.992186</td>\n",
       "      <td>99.304688</td>\n",
       "      <td>99.171877</td>\n",
       "      <td>0.001994</td>\n",
       "      <td>0.021485</td>\n",
       "      <td>0.025481</td>\n",
       "    </tr>\n",
       "    <tr>\n",
       "      <th>2</th>\n",
       "      <td>MLP</td>\n",
       "      <td>86.781251</td>\n",
       "      <td>86.820310</td>\n",
       "      <td>86.828125</td>\n",
       "      <td>0.518770</td>\n",
       "      <td>0.507202</td>\n",
       "      <td>0.506795</td>\n",
       "    </tr>\n",
       "    <tr>\n",
       "      <th>3</th>\n",
       "      <td>CNN GLoVe</td>\n",
       "      <td>99.911457</td>\n",
       "      <td>98.570311</td>\n",
       "      <td>98.406249</td>\n",
       "      <td>0.011350</td>\n",
       "      <td>0.042614</td>\n",
       "      <td>0.045196</td>\n",
       "    </tr>\n",
       "    <tr>\n",
       "      <th>4</th>\n",
       "      <td>LSTM Attention</td>\n",
       "      <td>98.968750</td>\n",
       "      <td>97.882813</td>\n",
       "      <td>97.992188</td>\n",
       "      <td>0.054458</td>\n",
       "      <td>0.075629</td>\n",
       "      <td>0.072308</td>\n",
       "    </tr>\n",
       "  </tbody>\n",
       "</table>\n",
       "</div>"
      ],
      "text/plain": [
       "            Model  Train Accuracy  Val Accuracy  Test Accuracy  Train Loss  \\\n",
       "0            LSTM       99.414062     98.593748      98.351562    0.022147   \n",
       "1             CNN       99.992186     99.304688      99.171877    0.001994   \n",
       "2             MLP       86.781251     86.820310      86.828125    0.518770   \n",
       "3       CNN GLoVe       99.911457     98.570311      98.406249    0.011350   \n",
       "4  LSTM Attention       98.968750     97.882813      97.992188    0.054458   \n",
       "\n",
       "   Val Loss  Test Loss  \n",
       "0  0.045085   0.056072  \n",
       "1  0.021485   0.025481  \n",
       "2  0.507202   0.506795  \n",
       "3  0.042614   0.045196  \n",
       "4  0.075629   0.072308  "
      ]
     },
     "execution_count": 80,
     "metadata": {},
     "output_type": "execute_result"
    }
   ],
   "source": [
    "col_names = ['Model', 'Train Accuracy', 'Val Accuracy', 'Test Accuracy', 'Train Loss', 'Val Loss', 'Test Loss']\n",
    "comparison_df = pd.DataFrame(data=model_results, columns=col_names)\n",
    "comparison_df"
   ]
  },
  {
   "cell_type": "markdown",
   "metadata": {},
   "source": [
    "The cross_validation function iterates over different hyper parameter settings to find the best model configuration. This could easily be extended for more detailed paramter tuning."
   ]
  },
  {
   "cell_type": "code",
   "execution_count": null,
   "metadata": {},
   "outputs": [],
   "source": [
    "def cross_validation(model_type, X_train, y_train, tokenizer, label_index):\n",
    "\n",
    "    learning_rates = np.linspace(1e-3, 5e-4, 5)\n",
    "    regularization_strengths = np.linspace(0.001, 1.5, 5)\n",
    "\n",
    "    best_val = -1.\n",
    "    best_train = -1\n",
    "    best_model = None\n",
    "    best_lr = None\n",
    "    best_reg = None\n",
    "    progress_counter = 0\n",
    "    total_tests = learning_rates.shape[0] * regularization_strengths.shape[0]\n",
    "\n",
    "    print('Cross validation : ', model_type)\n",
    "    \n",
    "    start_time = time.time()\n",
    "    \n",
    "    for lr in learning_rates:\n",
    "        for reg in regularization_strengths:\n",
    "            # Train the network\n",
    "            model = TextClassifier(tokenizer, label_index, verbose=0)\n",
    "            history = model.train(X_train, y_train, model_type, learning_rate=lr, regularization=reg)\n",
    "            val_acc_history = history.history['val_accuracy']\n",
    "            val_acc = val_acc_history[-1]\n",
    "\n",
    "            if val_acc > best_val:\n",
    "                del best_model\n",
    "                best_val = val_acc\n",
    "                best_model = model\n",
    "                best_lr = lr\n",
    "                best_reg = reg\n",
    "            else:\n",
    "                del model\n",
    "                \n",
    "            progress_counter += 1    \n",
    "            progress_bar(progress_counter, total_tests)\n",
    "            \n",
    "    best_hist = best_model.history.history\n",
    "    \n",
    "    train_acc, val_loss, train_loss = best_hist['accuracy'][-1], best_hist['val_loss'][-1], best_hist['loss'][-1]\n",
    "\n",
    "    print(\"Execution time: %s seconds\" % (time.time() - start_time))\n",
    "    print('Best validation accuracy: %f - Train accuracy: %f - val loss: %f - train loss: %f'\n",
    "          % (best_val, train_acc, val_loss, train_loss) )\n",
    "    print('Best learning rate: %f - regularization : %f' % (best_lr, best_reg) )\n",
    "    return best_model"
   ]
  },
  {
   "cell_type": "code",
   "execution_count": null,
   "metadata": {},
   "outputs": [],
   "source": [
    "X, y, tokenizer, label_index = tokenize_data(df['pp_sent'].values, df['label'])\n",
    "X_train, X_test, y_train, y_test = train_test_split(X, y, test_size=0.33, random_state=42)\n",
    "\n",
    "best_lstm = cross_validation(\"LSTM\", X_train, y_train, tokenizer, label_index)\n",
    "best_mlp = cross_validation(\"MLP\", X_train, y_train, tokenizer, label_index)\n",
    "best_cnn = cross_validation(\"CNN\", X_train, y_train, tokenizer, label_index)\n",
    "best_glove = cross_validation(\"CNN_Glove\", X_train, y_train, tokenizer, label_index)"
   ]
  },
  {
   "cell_type": "markdown",
   "metadata": {},
   "source": [
    "CNN seems to perform the best amongst all the other models here.\n",
    "<br> \n",
    "CNN with GLoVe embedding is also slightly slower than CNN(with learnt embedding) while not performing any better.<br>\n",
    "LSTM was approximately 7 times slower than CNN and also didn't perform any better than CNN. \n",
    "<br>\n",
    "MLP was expected to perform the worst as by design it has no temporal information. \n",
    "<br><br>\n",
    "Evaluating Test Accuracies on the best models after cross validation and hyper parameter tuning. "
   ]
  },
  {
   "cell_type": "code",
   "execution_count": null,
   "metadata": {},
   "outputs": [],
   "source": [
    "test_loss, test_acc = best_cnn.evaluate(X_test,y_test)\n",
    "print('CNN: Test Loss: {}'.format(test_loss))\n",
    "print('CNN: Test Accuracy: {}'.format(test_acc))\n",
    "\n",
    "test_loss, test_acc = best_glove.evaluate(X_test,y_test)\n",
    "print('CNN Glove: Test Loss: {}'.format(test_loss))\n",
    "print('CNN Glove: Test Accuracy: {}'.format(test_acc))\n",
    "\n",
    "test_loss, test_acc = best_lstm.evaluate(X_test,y_test)\n",
    "print('LSTM: Test Loss: {}'.format(test_loss))\n",
    "print('LSTM: Test Accuracy: {}'.format(test_acc))\n",
    "\n",
    "test_loss, test_acc = best_mlp.evaluate(X_test,y_test)\n",
    "print('MLP: Test Loss: {}'.format(test_loss))\n",
    "print('MLP: Test Accuracy: {}'.format(test_acc))"
   ]
  },
  {
   "cell_type": "markdown",
   "metadata": {},
   "source": [
    "The below code block loads a review, splits it into sentences and sub-sentences, and returns a flattened list"
   ]
  },
  {
   "cell_type": "code",
   "execution_count": null,
   "metadata": {},
   "outputs": [],
   "source": [
    "data_pros_cons = pickle.load( open( \"review_pros_cons.pkl\", \"rb\" ))\n",
    "review = data_pros_cons.iloc[10,0]\n",
    "blocks = extract_text_blocks(review)"
   ]
  },
  {
   "cell_type": "markdown",
   "metadata": {},
   "source": [
    "Text example"
   ]
  },
  {
   "cell_type": "code",
   "execution_count": null,
   "metadata": {},
   "outputs": [],
   "source": [
    "print(review)"
   ]
  },
  {
   "cell_type": "code",
   "execution_count": null,
   "metadata": {},
   "outputs": [],
   "source": [
    "# Helper function to print sentences and categories from the prediction list\n",
    "def print_categories_sentences(prediction_dict):\n",
    "    \n",
    "    if len(prediction_dict) == 0:\n",
    "        print (\"No predictions made\")\n",
    "        \n",
    "    for k,v in predictions.items():\n",
    "        categories = [i[1] for i in v[0]]\n",
    "        sentence = v[1]\n",
    "        print(categories, sentence)"
   ]
  },
  {
   "cell_type": "markdown",
   "metadata": {},
   "source": [
    "# Predict"
   ]
  },
  {
   "cell_type": "markdown",
   "metadata": {},
   "source": [
    "The predict function takes in a list of important text blocks as input, and returns a list of \"useful/important\" sentences with their categories and confidence values. <br>\n",
    "Below we visualize the outputs of the 4 models on the text above(review)."
   ]
  },
  {
   "cell_type": "markdown",
   "metadata": {},
   "source": [
    "## CNN"
   ]
  },
  {
   "cell_type": "code",
   "execution_count": null,
   "metadata": {},
   "outputs": [],
   "source": [
    "predictions = best_cnn.predict(blocks)\n",
    "print_categories_sentences(predictions)"
   ]
  },
  {
   "cell_type": "markdown",
   "metadata": {},
   "source": [
    "## CNN Glove"
   ]
  },
  {
   "cell_type": "code",
   "execution_count": null,
   "metadata": {},
   "outputs": [],
   "source": [
    "predictions = best_glove.predict(blocks)\n",
    "print_categories_sentences(predictions)"
   ]
  },
  {
   "cell_type": "markdown",
   "metadata": {},
   "source": [
    "## LSTM"
   ]
  },
  {
   "cell_type": "code",
   "execution_count": null,
   "metadata": {},
   "outputs": [],
   "source": [
    "predictions = best_lstm.predict(blocks)\n",
    "print_categories_sentences(predictions)"
   ]
  },
  {
   "cell_type": "markdown",
   "metadata": {},
   "source": [
    "## MLP"
   ]
  },
  {
   "cell_type": "code",
   "execution_count": null,
   "metadata": {},
   "outputs": [],
   "source": [
    "predictions = best_mlp.predict(blocks)\n",
    "print_categories_sentences(predictions)"
   ]
  },
  {
   "cell_type": "markdown",
   "metadata": {},
   "source": [
    "## LSTM with Attention"
   ]
  },
  {
   "cell_type": "code",
   "execution_count": null,
   "metadata": {},
   "outputs": [],
   "source": [
    "predictions = predict_labels(blocks, model_attention, tokenizer, label_index)\n",
    "print_categories_sentences(predictions)"
   ]
  }
 ],
 "metadata": {
  "kernelspec": {
   "display_name": "Python 3",
   "language": "python",
   "name": "python3"
  },
  "language_info": {
   "codemirror_mode": {
    "name": "ipython",
    "version": 3
   },
   "file_extension": ".py",
   "mimetype": "text/x-python",
   "name": "python",
   "nbconvert_exporter": "python",
   "pygments_lexer": "ipython3",
   "version": "3.7.5"
  }
 },
 "nbformat": 4,
 "nbformat_minor": 2
}
