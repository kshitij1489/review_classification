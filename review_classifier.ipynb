{
 "cells": [
  {
   "cell_type": "code",
   "execution_count": 1,
   "metadata": {},
   "outputs": [],
   "source": [
    "import numpy as np\n",
    "import pandas as pd\n",
    "import pickle\n",
    "import time\n",
    "\n",
    "from sklearn.model_selection import train_test_split\n",
    "\n",
    "from text_models import TextClassifier, extract_text_blocks, tokenize_data, load_glove_embedding\n",
    "%load_ext autoreload\n",
    "%autoreload 2"
   ]
  },
  {
   "cell_type": "code",
   "execution_count": 2,
   "metadata": {},
   "outputs": [],
   "source": [
    "import matplotlib.pyplot as plt\n",
    "\n",
    "def plot_graphs(history, string):\n",
    "    plt.plot(history.history[string])\n",
    "    plt.plot(history.history['val_'+string], '')\n",
    "    plt.xlabel(\"Epochs\")\n",
    "    plt.ylabel(string)\n",
    "    plt.legend([string, 'val_'+string])\n",
    "    plt.show()\n",
    "\n",
    "import sys\n",
    "\n",
    "def progress_bar(i, total):\n",
    "    line_end = \"\"\n",
    "    if i == total:\n",
    "        line_end = \"\\n\"\n",
    "        \n",
    "    size = 40\n",
    "    x = int(round(size*i/total))\n",
    "    text = '\\rStatus: [%s] %d/%d %s' % (\"#\"*x + \".\"*(size-x), i, total, line_end)\n",
    "    sys.stdout.write(text)\n",
    "    sys.stdout.flush()"
   ]
  },
  {
   "cell_type": "markdown",
   "metadata": {},
   "source": [
    "# Load Dataset "
   ]
  },
  {
   "cell_type": "markdown",
   "metadata": {},
   "source": [
    "The dataset is a pandas dataframe with two columns: Text labels and the text sentences and sub-sentences. There are 8 different categories(labels) in total. Each sentence could also have multiple categories(labels) associated with it."
   ]
  },
  {
   "cell_type": "code",
   "execution_count": 3,
   "metadata": {},
   "outputs": [],
   "source": [
    "df = pickle.load( open( \"review_labelled.pkl\", \"rb\" ))"
   ]
  },
  {
   "cell_type": "code",
   "execution_count": 4,
   "metadata": {},
   "outputs": [
    {
     "data": {
      "text/plain": [
       "<bound method NDFrame.tail of                                                    label  \\\n",
       "16                            [Job Security/Advancement]   \n",
       "149    [Job Security/Advancement, business_vision_com...   \n",
       "220                           [Job Security/Advancement]   \n",
       "233                           [Job Security/Advancement]   \n",
       "396                           [Job Security/Advancement]   \n",
       "...                                                  ...   \n",
       "48187                           [wlb_working_conditions]   \n",
       "48198                           [wlb_working_conditions]   \n",
       "48201                           [wlb_working_conditions]   \n",
       "48218                           [wlb_working_conditions]   \n",
       "48290                           [wlb_working_conditions]   \n",
       "\n",
       "                                   pp_sent  \n",
       "16                  developing your skills  \n",
       "149                        rapidly growing  \n",
       "220      easy to get your foot in the door  \n",
       "233            opportunity for advancement  \n",
       "396                  career growth options  \n",
       "...                                    ...  \n",
       "48187  work life balance is generally good  \n",
       "48198               good work life balance  \n",
       "48201               flexible working hours  \n",
       "48218               flexible working hours  \n",
       "48290    really caring about personal life  \n",
       "\n",
       "[8000 rows x 2 columns]>"
      ]
     },
     "execution_count": 4,
     "metadata": {},
     "output_type": "execute_result"
    }
   ],
   "source": [
    "df.tail"
   ]
  },
  {
   "cell_type": "markdown",
   "metadata": {},
   "source": [
    "# Train LSTM"
   ]
  },
  {
   "cell_type": "markdown",
   "metadata": {},
   "source": [
    "Train a Multilabel text classifier using LSTM. This model has the following architecture: <br>\n",
    "Input -> Word Embedding Layer -> LSTM -> Spatial Dropout -> Fully Connected -> RELU -> Fully Connected -> Sigmoid <br>\n",
    "Here the LSTM output to the next fully connected layer is from the last time step only. All the model implementations could be found at text_models.py"
   ]
  },
  {
   "cell_type": "code",
   "execution_count": 7,
   "metadata": {},
   "outputs": [
    {
     "name": "stdout",
     "output_type": "stream",
     "text": [
      "Shape of data tensor: (8000,)\n",
      "Found 3796 unique tokens.\n",
      "Train on 4824 samples, validate on 536 samples\n",
      "Epoch 1/5\n",
      "4824/4824 [==============================] - 85s 18ms/sample - loss: 0.4341 - categorical_accuracy: 0.1447 - val_loss: 0.3856 - val_categorical_accuracy: 0.1903\n",
      "Epoch 2/5\n",
      "4824/4824 [==============================] - 73s 15ms/sample - loss: 0.3616 - categorical_accuracy: 0.3327 - val_loss: 0.3113 - val_categorical_accuracy: 0.4590\n",
      "Epoch 3/5\n",
      "4824/4824 [==============================] - 71s 15ms/sample - loss: 0.2576 - categorical_accuracy: 0.6180 - val_loss: 0.1978 - val_categorical_accuracy: 0.7966\n",
      "Epoch 4/5\n",
      "4824/4824 [==============================] - 66s 14ms/sample - loss: 0.1659 - categorical_accuracy: 0.8122 - val_loss: 0.1190 - val_categorical_accuracy: 0.8750\n",
      "Epoch 5/5\n",
      "4824/4824 [==============================] - 61s 13ms/sample - loss: 0.0961 - categorical_accuracy: 0.8947 - val_loss: 0.0839 - val_categorical_accuracy: 0.8974\n",
      "Model: \"sequential_100\"\n",
      "_________________________________________________________________\n",
      "Layer (type)                 Output Shape              Param #   \n",
      "=================================================================\n",
      "embedding_75 (Embedding)     (None, None, 50)          2500000   \n",
      "_________________________________________________________________\n",
      "spatial_dropout1d_25 (Spatia (None, None, 50)          0         \n",
      "_________________________________________________________________\n",
      "lstm_25 (LSTM)               (None, 100)               60400     \n",
      "_________________________________________________________________\n",
      "dense_225 (Dense)            (None, 32)                3232      \n",
      "_________________________________________________________________\n",
      "dense_226 (Dense)            (None, 8)                 264       \n",
      "=================================================================\n",
      "Total params: 2,563,896\n",
      "Trainable params: 2,563,896\n",
      "Non-trainable params: 0\n",
      "_________________________________________________________________\n"
     ]
    }
   ],
   "source": [
    "X, y, tokenizer, label_index = tokenize_data(df['pp_sent'].values, df['label'])\n",
    "model_lstm = TextClassifier(tokenizer, label_index)\n",
    "\n",
    "X_train, X_test, y_train, y_test = train_test_split(X, y, test_size=0.33, random_state=42)\n",
    "\n",
    "history_lstm = model_lstm.train(X_train, y_train, 'LSTM')\n",
    "model_lstm.model.summary()"
   ]
  },
  {
   "cell_type": "markdown",
   "metadata": {},
   "source": [
    "Evaluate Model"
   ]
  },
  {
   "cell_type": "code",
   "execution_count": 8,
   "metadata": {},
   "outputs": [
    {
     "name": "stdout",
     "output_type": "stream",
     "text": [
      "2640/2640 [==============================] - 13s 5ms/sample - loss: 0.1018 - categorical_accuracy: 0.8746\n",
      "Test Loss: 0.1018109659353892\n",
      "Test Accuracy: 0.8746212124824524\n"
     ]
    }
   ],
   "source": [
    "test_loss, test_acc = model_lstm.evaluate(X_test,y_test)\n",
    "print('Test Loss: {}'.format(test_loss))\n",
    "print('Test Accuracy: {}'.format(test_acc))"
   ]
  },
  {
   "cell_type": "code",
   "execution_count": 9,
   "metadata": {},
   "outputs": [
    {
     "data": {
      "image/png": "[encoded data removed]",
      "text/plain": [
       "<Figure size 432x288 with 1 Axes>"
      ]
     },
     "metadata": {
      "needs_background": "light"
     },
     "output_type": "display_data"
    }
   ],
   "source": [
    "plot_graphs(history_lstm, 'categorical_accuracy')"
   ]
  },
  {
   "cell_type": "code",
   "execution_count": 10,
   "metadata": {},
   "outputs": [
    {
     "data": {
      "image/png": "[encoded data removed]",
      "text/plain": [
       "<Figure size 432x288 with 1 Axes>"
      ]
     },
     "metadata": {
      "needs_background": "light"
     },
     "output_type": "display_data"
    }
   ],
   "source": [
    "plot_graphs(history_lstm, 'loss')"
   ]
  },
  {
   "cell_type": "markdown",
   "metadata": {},
   "source": [
    "# Train CNN"
   ]
  },
  {
   "cell_type": "markdown",
   "metadata": {},
   "source": [
    "Model Architecture: <br> Input -> Word Embedding Layer -> Convolution Layer -> RELU -> Global Max Pool -> Fully Connected -> Sigmoid "
   ]
  },
  {
   "cell_type": "code",
   "execution_count": 11,
   "metadata": {},
   "outputs": [
    {
     "name": "stdout",
     "output_type": "stream",
     "text": [
      "Shape of data tensor: (8000,)\n",
      "Found 3796 unique tokens.\n",
      "Train on 4824 samples, validate on 536 samples\n",
      "Epoch 1/5\n",
      "4824/4824 [==============================] - 4s 765us/sample - loss: 0.4433 - categorical_accuracy: 0.2929 - val_loss: 0.3423 - val_categorical_accuracy: 0.5709\n",
      "Epoch 2/5\n",
      "4824/4824 [==============================] - 3s 694us/sample - loss: 0.2434 - categorical_accuracy: 0.7765 - val_loss: 0.1248 - val_categorical_accuracy: 0.8955\n",
      "Epoch 3/5\n",
      "4824/4824 [==============================] - 3s 690us/sample - loss: 0.0695 - categorical_accuracy: 0.9295 - val_loss: 0.0481 - val_categorical_accuracy: 0.9459\n",
      "Epoch 4/5\n",
      "4824/4824 [==============================] - 3s 697us/sample - loss: 0.0295 - categorical_accuracy: 0.9521 - val_loss: 0.0319 - val_categorical_accuracy: 0.9608\n",
      "Epoch 5/5\n",
      "4824/4824 [==============================] - 3s 706us/sample - loss: 0.0165 - categorical_accuracy: 0.9639 - val_loss: 0.0253 - val_categorical_accuracy: 0.9627\n",
      "Model: \"sequential_101\"\n",
      "_________________________________________________________________\n",
      "Layer (type)                 Output Shape              Param #   \n",
      "=================================================================\n",
      "embedding_76 (Embedding)     (None, None, 50)          2500000   \n",
      "_________________________________________________________________\n",
      "conv1d_50 (Conv1D)           (None, None, 300)         45300     \n",
      "_________________________________________________________________\n",
      "global_max_pooling1d_50 (Glo (None, 300)               0         \n",
      "_________________________________________________________________\n",
      "dense_227 (Dense)            (None, 8)                 2408      \n",
      "=================================================================\n",
      "Total params: 2,547,708\n",
      "Trainable params: 2,547,708\n",
      "Non-trainable params: 0\n",
      "_________________________________________________________________\n"
     ]
    }
   ],
   "source": [
    "X, y, tokenizer, label_index = tokenize_data(df['pp_sent'].values, df['label'])\n",
    "model_cnn = TextClassifier(tokenizer, label_index)\n",
    "\n",
    "X_train, X_test, y_train, y_test = train_test_split(X, y, test_size=0.33, random_state=42)\n",
    "\n",
    "history_cnn = model_cnn.train(X_train, y_train, 'CNN')\n",
    "model_cnn.model.summary()"
   ]
  },
  {
   "cell_type": "markdown",
   "metadata": {},
   "source": [
    "Evaluate CNN Model"
   ]
  },
  {
   "cell_type": "code",
   "execution_count": 12,
   "metadata": {},
   "outputs": [
    {
     "name": "stdout",
     "output_type": "stream",
     "text": [
      "2640/2640 [==============================] - 1s 198us/sample - loss: 0.0284 - categorical_accuracy: 0.9504\n",
      "Test Loss: 0.0284207599576224\n",
      "Test Accuracy: 0.9503787755966187\n"
     ]
    }
   ],
   "source": [
    "test_loss, test_acc = model_cnn.evaluate(X_test,y_test)\n",
    "print('Test Loss: {}'.format(test_loss))\n",
    "print('Test Accuracy: {}'.format(test_acc))"
   ]
  },
  {
   "cell_type": "code",
   "execution_count": 13,
   "metadata": {},
   "outputs": [
    {
     "data": {
      "image/png": "[encoded data removed]",
      "text/plain": [
       "<Figure size 432x288 with 1 Axes>"
      ]
     },
     "metadata": {
      "needs_background": "light"
     },
     "output_type": "display_data"
    }
   ],
   "source": [
    "plot_graphs(history_cnn, 'categorical_accuracy')"
   ]
  },
  {
   "cell_type": "code",
   "execution_count": 14,
   "metadata": {},
   "outputs": [
    {
     "data": {
      "image/png": "[encoded data removed]",
      "text/plain": [
       "<Figure size 432x288 with 1 Axes>"
      ]
     },
     "metadata": {
      "needs_background": "light"
     },
     "output_type": "display_data"
    }
   ],
   "source": [
    "plot_graphs(history_cnn, 'loss')"
   ]
  },
  {
   "cell_type": "markdown",
   "metadata": {},
   "source": [
    "# Train CNN Glove"
   ]
  },
  {
   "cell_type": "markdown",
   "metadata": {},
   "source": [
    "Model Architecture: \n",
    "Input -> GLoVe Word Embedding(Non trainable)  -> Convolution Layer -> RELU -> Global Max Pool -> Fully Connected -> Sigmoid"
   ]
  },
  {
   "cell_type": "code",
   "execution_count": 15,
   "metadata": {},
   "outputs": [
    {
     "name": "stdout",
     "output_type": "stream",
     "text": [
      "Shape of data tensor: (8000,)\n",
      "Found 3796 unique tokens.\n",
      "Train on 4824 samples, validate on 536 samples\n",
      "Epoch 1/5\n",
      "4824/4824 [==============================] - 4s 764us/sample - loss: 0.2830 - categorical_accuracy: 0.6592 - val_loss: 0.1557 - val_categorical_accuracy: 0.8526\n",
      "Epoch 2/5\n",
      "4824/4824 [==============================] - 4s 733us/sample - loss: 0.1215 - categorical_accuracy: 0.8590 - val_loss: 0.1019 - val_categorical_accuracy: 0.8769\n",
      "Epoch 3/5\n",
      "4824/4824 [==============================] - 3s 682us/sample - loss: 0.0800 - categorical_accuracy: 0.9104 - val_loss: 0.0755 - val_categorical_accuracy: 0.9142\n",
      "Epoch 4/5\n",
      "4824/4824 [==============================] - 3s 688us/sample - loss: 0.0574 - categorical_accuracy: 0.9349 - val_loss: 0.0627 - val_categorical_accuracy: 0.9254\n",
      "Epoch 5/5\n",
      "4824/4824 [==============================] - 3s 709us/sample - loss: 0.0425 - categorical_accuracy: 0.9490 - val_loss: 0.0546 - val_categorical_accuracy: 0.9272\n",
      "Model: \"sequential_102\"\n",
      "_________________________________________________________________\n",
      "Layer (type)                 Output Shape              Param #   \n",
      "=================================================================\n",
      "embedding_77 (Embedding)     (None, 100, 100)          5000000   \n",
      "_________________________________________________________________\n",
      "conv1d_51 (Conv1D)           (None, 98, 300)           90300     \n",
      "_________________________________________________________________\n",
      "global_max_pooling1d_51 (Glo (None, 300)               0         \n",
      "_________________________________________________________________\n",
      "dense_228 (Dense)            (None, 8)                 2408      \n",
      "=================================================================\n",
      "Total params: 5,092,708\n",
      "Trainable params: 92,708\n",
      "Non-trainable params: 5,000,000\n",
      "_________________________________________________________________\n"
     ]
    }
   ],
   "source": [
    "X, y, tokenizer, label_index = tokenize_data(df['pp_sent'].values, df['label'])\n",
    "model_cnn_glove = TextClassifier(tokenizer, label_index)\n",
    "\n",
    "X_train, X_test, y_train, y_test = train_test_split(X, y, test_size=0.33, random_state=42)\n",
    "\n",
    "history_cnn_glove = model_cnn_glove.train(X_train, y_train, 'CNN_Glove')\n",
    "model_cnn_glove.model.summary()"
   ]
  },
  {
   "cell_type": "markdown",
   "metadata": {},
   "source": [
    "Evaluate Glove Model"
   ]
  },
  {
   "cell_type": "code",
   "execution_count": 16,
   "metadata": {},
   "outputs": [
    {
     "name": "stdout",
     "output_type": "stream",
     "text": [
      "2640/2640 [==============================] - 1s 228us/sample - loss: 0.0598 - categorical_accuracy: 0.9182\n",
      "Test Loss: 0.059801934614326015\n",
      "Test Accuracy: 0.918181836605072\n"
     ]
    }
   ],
   "source": [
    "test_loss, test_acc = model_cnn_glove.evaluate(X_test,y_test)\n",
    "print('Test Loss: {}'.format(test_loss))\n",
    "print('Test Accuracy: {}'.format(test_acc))"
   ]
  },
  {
   "cell_type": "code",
   "execution_count": 17,
   "metadata": {},
   "outputs": [
    {
     "data": {
      "image/png": "[encoded data removed]",
      "text/plain": [
       "<Figure size 432x288 with 1 Axes>"
      ]
     },
     "metadata": {
      "needs_background": "light"
     },
     "output_type": "display_data"
    }
   ],
   "source": [
    "plot_graphs(history_cnn_glove, 'categorical_accuracy')"
   ]
  },
  {
   "cell_type": "code",
   "execution_count": 18,
   "metadata": {},
   "outputs": [
    {
     "data": {
      "image/png": "[encoded data removed]",
      "text/plain": [
       "<Figure size 432x288 with 1 Axes>"
      ]
     },
     "metadata": {
      "needs_background": "light"
     },
     "output_type": "display_data"
    }
   ],
   "source": [
    "plot_graphs(history_cnn_glove, 'loss')"
   ]
  },
  {
   "cell_type": "markdown",
   "metadata": {},
   "source": [
    "# Train MLP"
   ]
  },
  {
   "cell_type": "markdown",
   "metadata": {},
   "source": [
    "Model Architecture: <br>\n",
    "Input -> Word Embedding Layer -> 4x(Fully Connected -> RELU) -> Fully Connected -> Sigmoid <br>"
   ]
  },
  {
   "cell_type": "code",
   "execution_count": 19,
   "metadata": {},
   "outputs": [
    {
     "name": "stdout",
     "output_type": "stream",
     "text": [
      "Shape of data tensor: (8000,)\n",
      "Found 3796 unique tokens.\n",
      "Train on 4824 samples, validate on 536 samples\n",
      "Epoch 1/5\n",
      "4824/4824 [==============================] - 3s 524us/sample - loss: 3.1290 - categorical_accuracy: 0.1360 - val_loss: 1.0086 - val_categorical_accuracy: 0.1959\n",
      "Epoch 2/5\n",
      "4824/4824 [==============================] - 2s 372us/sample - loss: 1.0360 - categorical_accuracy: 0.1499 - val_loss: 0.8491 - val_categorical_accuracy: 0.1325\n",
      "Epoch 3/5\n",
      "4824/4824 [==============================] - 2s 337us/sample - loss: 0.8152 - categorical_accuracy: 0.1519 - val_loss: 0.7473 - val_categorical_accuracy: 0.1287\n",
      "Epoch 4/5\n",
      "4824/4824 [==============================] - 2s 335us/sample - loss: 0.7133 - categorical_accuracy: 0.1401 - val_loss: 0.6454 - val_categorical_accuracy: 0.1194\n",
      "Epoch 5/5\n",
      "4824/4824 [==============================] - 2s 333us/sample - loss: 0.6347 - categorical_accuracy: 0.1347 - val_loss: 0.6051 - val_categorical_accuracy: 0.1343\n",
      "Model: \"sequential_103\"\n",
      "_________________________________________________________________\n",
      "Layer (type)                 Output Shape              Param #   \n",
      "=================================================================\n",
      "dense_229 (Dense)            (None, 512)               51712     \n",
      "_________________________________________________________________\n",
      "dropout_100 (Dropout)        (None, 512)               0         \n",
      "_________________________________________________________________\n",
      "dense_230 (Dense)            (None, 256)               131328    \n",
      "_________________________________________________________________\n",
      "dropout_101 (Dropout)        (None, 256)               0         \n",
      "_________________________________________________________________\n",
      "dense_231 (Dense)            (None, 256)               65792     \n",
      "_________________________________________________________________\n",
      "dropout_102 (Dropout)        (None, 256)               0         \n",
      "_________________________________________________________________\n",
      "dense_232 (Dense)            (None, 256)               65792     \n",
      "_________________________________________________________________\n",
      "dropout_103 (Dropout)        (None, 256)               0         \n",
      "_________________________________________________________________\n",
      "dense_233 (Dense)            (None, 8)                 2056      \n",
      "=================================================================\n",
      "Total params: 316,680\n",
      "Trainable params: 316,680\n",
      "Non-trainable params: 0\n",
      "_________________________________________________________________\n"
     ]
    }
   ],
   "source": [
    "X, y, tokenizer, label_index = tokenize_data(df['pp_sent'].values, df['label'])\n",
    "model_mlp = TextClassifier(tokenizer, label_index)\n",
    "\n",
    "X_train, X_test, y_train, y_test = train_test_split(X, y, test_size=0.33, random_state=42)\n",
    "\n",
    "history_mlp = model_mlp.train(X_train, y_train, 'MLP')\n",
    "model_mlp.model.summary()"
   ]
  },
  {
   "cell_type": "markdown",
   "metadata": {},
   "source": [
    "Evaluate MLP Model"
   ]
  },
  {
   "cell_type": "code",
   "execution_count": 20,
   "metadata": {},
   "outputs": [
    {
     "name": "stdout",
     "output_type": "stream",
     "text": [
      "2640/2640 [==============================] - 0s 119us/sample - loss: 0.6056 - categorical_accuracy: 0.1375\n",
      "Test Loss: 0.6056281544945457\n",
      "Test Accuracy: 0.13750000298023224\n"
     ]
    }
   ],
   "source": [
    "test_loss, test_acc = model_mlp.evaluate(X_test,y_test)\n",
    "print('Test Loss: {}'.format(test_loss))\n",
    "print('Test Accuracy: {}'.format(test_acc))"
   ]
  },
  {
   "cell_type": "code",
   "execution_count": 21,
   "metadata": {},
   "outputs": [
    {
     "data": {
      "image/png": "[encoded data removed]",
      "text/plain": [
       "<Figure size 432x288 with 1 Axes>"
      ]
     },
     "metadata": {
      "needs_background": "light"
     },
     "output_type": "display_data"
    }
   ],
   "source": [
    "plot_graphs(history_mlp, 'categorical_accuracy')"
   ]
  },
  {
   "cell_type": "code",
   "execution_count": 22,
   "metadata": {},
   "outputs": [
    {
     "data": {
      "image/png": "[encoded data removed]",
      "text/plain": [
       "<Figure size 432x288 with 1 Axes>"
      ]
     },
     "metadata": {
      "needs_background": "light"
     },
     "output_type": "display_data"
    }
   ],
   "source": [
    "plot_graphs(history_mlp, 'loss')"
   ]
  },
  {
   "cell_type": "markdown",
   "metadata": {},
   "source": [
    "The cross_validation function iterates over different hyper parameter settings to find the best model configuration."
   ]
  },
  {
   "cell_type": "code",
   "execution_count": 5,
   "metadata": {},
   "outputs": [],
   "source": [
    "def cross_validation(model_type, X_train, y_train, tokenizer, label_index):\n",
    "\n",
    "    learning_rates = np.linspace(1e-3, 5e-4, 5)\n",
    "    regularization_strengths = np.linspace(0.001, 1.5, 5)\n",
    "\n",
    "    best_val = -1.\n",
    "    best_train = -1\n",
    "    best_model = None\n",
    "    best_lr = None\n",
    "    best_reg = None\n",
    "    progress_counter = 0\n",
    "    total_tests = learning_rates.shape[0] * regularization_strengths.shape[0]\n",
    "\n",
    "    print('Cross validation : ', model_type)\n",
    "    \n",
    "    start_time = time.time()\n",
    "    \n",
    "    for lr in learning_rates:\n",
    "        for reg in regularization_strengths:\n",
    "            # Train the network\n",
    "            model = TextClassifier(tokenizer, label_index, verbose=0)\n",
    "            history = model.train(X_train, y_train, model_type, learning_rate=lr, regularization=reg)\n",
    "            val_acc_history = history.history['val_categorical_accuracy']\n",
    "            val_acc = val_acc_history[-1]\n",
    "\n",
    "            if val_acc > best_val:\n",
    "                del best_model\n",
    "                best_val = val_acc\n",
    "                best_model = model\n",
    "                best_lr = lr\n",
    "                best_reg = reg\n",
    "            else:\n",
    "                del model\n",
    "                \n",
    "            progress_counter += 1    \n",
    "            progress_bar(progress_counter, total_tests)\n",
    "            \n",
    "    best_hist = best_model.history.history\n",
    "    \n",
    "    train_acc, val_loss, train_loss = best_hist['categorical_accuracy'][-1], best_hist['val_loss'][-1], best_hist['loss'][-1]\n",
    "\n",
    "    print(\"Execution time: %s seconds\" % (time.time() - start_time))\n",
    "    print('Best validation accuracy: %f - Train accuracy: %f - val loss: %f - train loss: %f'\n",
    "          % (best_val, train_acc, val_loss, train_loss) )\n",
    "    print('Best learning rate: %f - regularization : %f' % (best_lr, best_reg) )\n",
    "    return best_model"
   ]
  },
  {
   "cell_type": "code",
   "execution_count": 6,
   "metadata": {},
   "outputs": [
    {
     "name": "stderr",
     "output_type": "stream",
     "text": [
      "WARNING: Logging before flag parsing goes to stderr.\n",
      "W0213 22:13:55.081820 4770692544 deprecation.py:506] From /Users/kshitijsharma/Documents/CS231n/assignment2/.env/lib/python3.7/site-packages/tensorflow/python/keras/backend.py:4081: calling dropout (from tensorflow.python.ops.nn_ops) with keep_prob is deprecated and will be removed in a future version.\n",
      "Instructions for updating:\n",
      "Please use `rate` instead of `keep_prob`. Rate should be set to `rate = 1 - keep_prob`.\n"
     ]
    },
    {
     "name": "stdout",
     "output_type": "stream",
     "text": [
      "Shape of data tensor: (8000,)\n",
      "Found 3796 unique tokens.\n",
      "Cross validation :  LSTM\n",
      "Status: [########################################] 25/25 \n",
      "Execution time: 2434.6260030269623 seconds\n",
      "Best validation accuracy: 0.921642 - Train accuracy: 0.892828 - val loss: 0.072884 - train loss: 0.103731\n",
      "Best learning rate: 0.000750 - regularization : 0.750500\n",
      "Cross validation :  MLP\n",
      "Status: [########################################] 25/25 \n",
      "Execution time: 360.67141103744507 seconds\n",
      "Best validation accuracy: 0.212687 - Train accuracy: 0.155473 - val loss: 0.451730 - train loss: 0.513213\n",
      "Best learning rate: 0.000625 - regularization : 1.500000\n",
      "Cross validation :  CNN\n",
      "Status: [########################################] 25/25 \n",
      "Execution time: 371.75189566612244 seconds\n",
      "Best validation accuracy: 0.962687 - Train accuracy: 0.962687 - val loss: 0.027080 - train loss: 0.015812\n",
      "Best learning rate: 0.001000 - regularization : 0.375750\n",
      "Cross validation :  CNN_Glove\n",
      "Status: [########################################] 25/25 \n",
      "Execution time: 433.00318598747253 seconds\n",
      "Best validation accuracy: 0.938433 - Train accuracy: 0.953358 - val loss: 0.054085 - train loss: 0.039515\n",
      "Best learning rate: 0.001000 - regularization : 0.750500\n"
     ]
    }
   ],
   "source": [
    "X, y, tokenizer, label_index = tokenize_data(df['pp_sent'].values, df['label'])\n",
    "X_train, X_test, y_train, y_test = train_test_split(X, y, test_size=0.33, random_state=42)\n",
    "\n",
    "best_lstm = cross_validation(\"LSTM\", X_train, y_train, tokenizer, label_index)\n",
    "best_mlp = cross_validation(\"MLP\", X_train, y_train, tokenizer, label_index)\n",
    "best_cnn = cross_validation(\"CNN\", X_train, y_train, tokenizer, label_index)\n",
    "best_glove = cross_validation(\"CNN_Glove\", X_train, y_train, tokenizer, label_index)"
   ]
  },
  {
   "cell_type": "markdown",
   "metadata": {},
   "source": [
    "CNN seems to perform best amongst all the other models.\n",
    "<br> \n",
    "CNN with GLoVe embedding is also slightly slower than CNN(with learnt embedding) while not performing any better.<br>\n",
    "LSTM was approximately 7 times slower than CNN and also didn't perform any better than CNN. \n",
    "<br>\n",
    "MLP was expected to perform the worst as by design it has no temporal memory. \n",
    "<br><br>\n",
    "Evaluating Test Accuracies on the best models after cross validation and hyper parameter tuning. "
   ]
  },
  {
   "cell_type": "code",
   "execution_count": 23,
   "metadata": {},
   "outputs": [
    {
     "name": "stdout",
     "output_type": "stream",
     "text": [
      "2640/2640 [==============================] - 1s 198us/sample - loss: 0.0302 - categorical_accuracy: 0.9489\n",
      "CNN: Test Loss: 0.030218892572729878\n",
      "CNN: Test Accuracy: 0.9488636255264282\n",
      "2640/2640 [==============================] - 1s 223us/sample - loss: 0.0587 - categorical_accuracy: 0.9212\n",
      "CNN Glove: Test Loss: 0.05871308545271556\n",
      "CNN Glove: Test Accuracy: 0.9212121367454529\n",
      "2640/2640 [==============================] - 10s 4ms/sample - loss: 0.0871 - categorical_accuracy: 0.8905\n",
      "LSTM: Test Loss: 0.08712125434116884\n",
      "LSTM: Test Accuracy: 0.8905302882194519\n",
      "2640/2640 [==============================] - 0s 119us/sample - loss: 0.4533 - categorical_accuracy: 0.2125\n",
      "MLP: Test Loss: 0.45326672810496704\n",
      "MLP: Test Accuracy: 0.21250000596046448\n"
     ]
    }
   ],
   "source": [
    "test_loss, test_acc = best_cnn.evaluate(X_test,y_test)\n",
    "print('CNN: Test Loss: {}'.format(test_loss))\n",
    "print('CNN: Test Accuracy: {}'.format(test_acc))\n",
    "\n",
    "test_loss, test_acc = best_glove.evaluate(X_test,y_test)\n",
    "print('CNN Glove: Test Loss: {}'.format(test_loss))\n",
    "print('CNN Glove: Test Accuracy: {}'.format(test_acc))\n",
    "\n",
    "test_loss, test_acc = best_lstm.evaluate(X_test,y_test)\n",
    "print('LSTM: Test Loss: {}'.format(test_loss))\n",
    "print('LSTM: Test Accuracy: {}'.format(test_acc))\n",
    "\n",
    "test_loss, test_acc = best_mlp.evaluate(X_test,y_test)\n",
    "print('MLP: Test Loss: {}'.format(test_loss))\n",
    "print('MLP: Test Accuracy: {}'.format(test_acc))"
   ]
  },
  {
   "cell_type": "markdown",
   "metadata": {},
   "source": [
    "The below code block loads a review, splits it into sentences and sub-sentences, and returns a flattened list"
   ]
  },
  {
   "cell_type": "code",
   "execution_count": 24,
   "metadata": {},
   "outputs": [],
   "source": [
    "data_pros_cons = pickle.load( open( \"review_pros_cons.pkl\", \"rb\" ))\n",
    "review = data_pros_cons.iloc[10,0]\n",
    "blocks = extract_text_blocks(review)"
   ]
  },
  {
   "cell_type": "markdown",
   "metadata": {},
   "source": [
    "Text example"
   ]
  },
  {
   "cell_type": "code",
   "execution_count": 25,
   "metadata": {},
   "outputs": [
    {
     "name": "stdout",
     "output_type": "stream",
     "text": [
      "I worked for the internal marketing team (MarCom) on the creative side. The best thing about working at Apple is your coworkers. They do an excellent job of hiring incredibly intelligent, talented people. It's quite humbling to work alongside such accomplished people. You'll always feel like the dumbest person in the room, which is great because everyone has so much to teach you. Most of them are ego-free (about 70% of them) and will help you whenever possible. There are so many personality types, though nearly all of them are perfectionist Type A people. If that is your kind of crew, you'll do well.\r\n",
      "\r\n",
      "The work usually comes in waves. When you're on, you're all the way on. For weeks at a time you can expect late nights and no weekends. On the flip side, when it's slow, it's very slow. You can often work from home or take comp days. During downtimes it is not uncommon to go in for five hours including a long lunch and then go home.\r\n",
      "\r\n",
      "In addition to this, the compensation is good. The stock program is okay. But the pay is more than fair and their annual reviews pretty much guarantee a raise, bonus, and/or more stock.\r\n",
      "\r\n",
      "Finally, Tim Cook seems like a genuinely good person. Even in the relatively short time he's been in his role, he has made enormous leaps to give that company a real set of values that are current with this generation. He feels like a real human being, which is something Apple desperately needs.\n"
     ]
    }
   ],
   "source": [
    "print(review)"
   ]
  },
  {
   "cell_type": "code",
   "execution_count": 26,
   "metadata": {},
   "outputs": [],
   "source": [
    "# Helper function to print sentences and categories from the prediction list\n",
    "def print_categories_sentences(prediction_dict):\n",
    "    \n",
    "    if len(prediction_dict) == 0:\n",
    "        print (\"No predictions made\")\n",
    "        \n",
    "    for k,v in predictions.items():\n",
    "        categories = [i[1] for i in v[0]]\n",
    "        sentence = v[1]\n",
    "        print(categories, sentence)"
   ]
  },
  {
   "cell_type": "markdown",
   "metadata": {},
   "source": [
    "# Predict"
   ]
  },
  {
   "cell_type": "markdown",
   "metadata": {},
   "source": [
    "The predict function takes in a list of important text blocks as input, and returns a list of \"useful/important\" sentences with their categories and confidence values. <br>\n",
    "Below we visualize the outputs of the 4 models on the text above(review)."
   ]
  },
  {
   "cell_type": "markdown",
   "metadata": {},
   "source": [
    "# CNN"
   ]
  },
  {
   "cell_type": "code",
   "execution_count": 27,
   "metadata": {},
   "outputs": [
    {
     "name": "stdout",
     "output_type": "stream",
     "text": [
      "['Job Security/Advancement'] I worked for the internal marketing team (MarCom) on the creative side.\n",
      "['culture_team'] They do an excellent job of hiring incredibly intelligent, talented people.\n",
      "['wlb_working_conditions'] The work usually comes in waves.\n",
      "['wlb_working_conditions'] For weeks at a time you can expect late nights and no weekends.\n",
      "['culture_team'] On the flip side, when it's slow, it's very slow.\n",
      "['wlb_working_conditions'] You can often work from home or take comp days.\n",
      "['wlb_working_conditions'] During downtimes it is not uncommon to go in for five hours including a long lunch and then go home.\n",
      "['salary_benefits'] In addition to this, the compensation is good.\n",
      "['salary_benefits'] The stock program is okay.\n",
      "['culture_team'] Finally, Tim Cook seems like a genuinely good person.\n"
     ]
    }
   ],
   "source": [
    "predictions = best_cnn.predict(blocks)\n",
    "print_categories_sentences(predictions)"
   ]
  },
  {
   "cell_type": "markdown",
   "metadata": {},
   "source": [
    "# CNN Glove"
   ]
  },
  {
   "cell_type": "code",
   "execution_count": 28,
   "metadata": {},
   "outputs": [
    {
     "name": "stdout",
     "output_type": "stream",
     "text": [
      "['culture_team'] They do an excellent job of hiring incredibly intelligent, talented people.\n",
      "['wlb_working_conditions'] The work usually comes in waves.\n",
      "['wlb_working_conditions'] For weeks at a time you can expect late nights and no weekends.\n",
      "['wlb_working_conditions'] You can often work from home or take comp days.\n",
      "['salary_benefits'] The stock program is okay.\n"
     ]
    }
   ],
   "source": [
    "predictions = best_glove.predict(blocks)\n",
    "print_categories_sentences(predictions)"
   ]
  },
  {
   "cell_type": "markdown",
   "metadata": {},
   "source": [
    "# LSTM"
   ]
  },
  {
   "cell_type": "code",
   "execution_count": 29,
   "metadata": {},
   "outputs": [
    {
     "name": "stdout",
     "output_type": "stream",
     "text": [
      "['culture_team'] The best thing about working at Apple is your coworkers.\n",
      "['culture_team'] They do an excellent job of hiring incredibly intelligent, talented people.\n",
      "['business_vision_competitors'] You'll always feel like the dumbest person in the room, which is great because everyone has so much to teach you.\n",
      "['wlb_working_conditions'] You can often work from home or take comp days.\n",
      "['salary_benefits'] During downtimes it is not uncommon to go in for five hours including a long lunch and then go home.\n",
      "['salary_benefits'] But the pay is more than fair and their annual reviews pretty much guarantee a raise, bonus, and/or more stock.\n"
     ]
    }
   ],
   "source": [
    "predictions = best_lstm.predict(blocks)\n",
    "print_categories_sentences(predictions)"
   ]
  },
  {
   "cell_type": "markdown",
   "metadata": {},
   "source": [
    "# MLP"
   ]
  },
  {
   "cell_type": "code",
   "execution_count": 30,
   "metadata": {},
   "outputs": [
    {
     "name": "stdout",
     "output_type": "stream",
     "text": [
      "No predictions made\n"
     ]
    }
   ],
   "source": [
    "predictions = best_mlp.predict(blocks)\n",
    "print_categories_sentences(predictions)"
   ]
  }
 ],
 "metadata": {
  "kernelspec": {
   "display_name": "Python 3",
   "language": "python",
   "name": "python3"
  },
  "language_info": {
   "codemirror_mode": {
    "name": "ipython",
    "version": 3
   },
   "file_extension": ".py",
   "mimetype": "text/x-python",
   "name": "python",
   "nbconvert_exporter": "python",
   "pygments_lexer": "ipython3",
   "version": "3.7.5"
  }
 },
 "nbformat": 4,
 "nbformat_minor": 2
}
