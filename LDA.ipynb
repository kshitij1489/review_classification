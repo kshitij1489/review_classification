{
 "cells": [
  {
   "cell_type": "code",
   "execution_count": 18,
   "metadata": {},
   "outputs": [
    {
     "name": "stdout",
     "output_type": "stream",
     "text": [
      "The autoreload extension is already loaded. To reload it, use:\n",
      "  %reload_ext autoreload\n"
     ]
    }
   ],
   "source": [
    "from time import time\n",
    "import pickle\n",
    "from nltk import tokenize\n",
    "import numpy as np\n",
    "\n",
    "from sklearn.feature_extraction.text import TfidfVectorizer, CountVectorizer\n",
    "from sklearn.decomposition import NMF, LatentDirichletAllocation\n",
    "from sklearn.datasets import fetch_20newsgroups\n",
    "\n",
    "%load_ext autoreload\n",
    "%autoreload 2"
   ]
  },
  {
   "cell_type": "code",
   "execution_count": 2,
   "metadata": {},
   "outputs": [],
   "source": [
    "n_samples = 2000\n",
    "n_features = 1000\n",
    "n_components = 7\n",
    "n_top_words = 30\n",
    "\n",
    "\n",
    "def print_top_words(model, feature_names, n_top_words):\n",
    "    for topic_idx, topic in enumerate(model.components_):\n",
    "        message = \"Topic #%d: \" % topic_idx\n",
    "        message += \" \".join([feature_names[i]\n",
    "                             for i in topic.argsort()[:-n_top_words - 1:-1]])\n",
    "        print(message)"
   ]
  },
  {
   "cell_type": "code",
   "execution_count": 3,
   "metadata": {},
   "outputs": [],
   "source": [
    "def split_to_sentences(paragraph):\n",
    "    return tokenize.sent_tokenize(paragraph)\n",
    "\n",
    "def clean_data(text):\n",
    "    text = text.lower().strip()\n",
    "    text = text.strip(\".\")\n",
    "    # Remove double space\n",
    "    # Trim input?\n",
    "    return text\n",
    "\n",
    "def extract_text_blocks(review):\n",
    "    \"\"\"\n",
    "    This functions splits the string into sentence, then does basic text cleansing\n",
    "    and flattens the list of sentences.\n",
    "    - review: Review in the form of a string\n",
    "    Returns :\n",
    "    - flat_list: A flattened list of sentences \n",
    "    \"\"\"\n",
    "    sentences = split_to_sentences(review)\n",
    "    #flat_list = [clean_data(block) for sublist in text_block for block in sublist]\n",
    "    #return flat_list\n",
    "    return sentences"
   ]
  },
  {
   "cell_type": "code",
   "execution_count": 4,
   "metadata": {},
   "outputs": [],
   "source": [
    "data_pros_cons = pickle.load( open( \"gdr_assignment_pros_cons.pkl\", \"rb\" ))\n",
    "\n",
    "pro_reviews = data_pros_cons.iloc[:-1,0].tolist()\n",
    "cons_reviews = data_pros_cons.iloc[:-1,1].tolist()\n",
    "\n",
    "sentence_samples = []\n",
    "for pro, cons in zip(pro_reviews, cons_reviews):\n",
    "    sentence_samples.append(extract_text_blocks(pro))\n",
    "    #sentence_samples.append(extract_text_blocks(cons))\n",
    "    \n",
    "reviews = [val for sublist in sentence_samples for val in sublist]"
   ]
  },
  {
   "cell_type": "markdown",
   "metadata": {},
   "source": [
    "# LDA"
   ]
  },
  {
   "cell_type": "code",
   "execution_count": 5,
   "metadata": {},
   "outputs": [
    {
     "name": "stdout",
     "output_type": "stream",
     "text": [
      "Extracting tf features for LDA...\n",
      "done in 0.133s.\n",
      "\n"
     ]
    }
   ],
   "source": [
    "# Use tf (raw term count) features for LDA.\n",
    "print(\"Extracting tf features for LDA...\")\n",
    "tf_vectorizer = CountVectorizer(max_df=0.95, min_df=2,\n",
    "                                max_features=n_features,\n",
    "                                stop_words='english')\n",
    "t0 = time()\n",
    "tf = tf_vectorizer.fit_transform(reviews)\n",
    "print(\"done in %0.3fs.\" % (time() - t0))\n",
    "print()"
   ]
  },
  {
   "cell_type": "code",
   "execution_count": 6,
   "metadata": {},
   "outputs": [
    {
     "name": "stdout",
     "output_type": "stream",
     "text": [
      "Fitting LDA models with tf features, n_samples=10708 and n_features=1000...\n",
      "done in 401.874s.\n",
      "\n",
      "Topics in LDA model:\n",
      "Topic #0: work great people environment culture working fun place company smart friendly team atmosphere love amazing nice really hard coworkers awesome interesting workers best talented lots management supportive positive animals events\n",
      "Topic #1: time lot work opportunity day best learn lots ve people days paid lunch able meet companies make year job long ll available friends use plenty different week vacation leave going\n",
      "Topic #2: work free life food balance hours flexible great home employee schedule worked snacks perks gym high training quality manager tech store years discount discounts drinks shift office coffee area site\n",
      "Topic #3: great office benefits product products company amazing perks colleagues nice technology leadership industry health culture apple games strong insurance vision super cool mission new employees stock support offices talent location\n",
      "Topic #4: opportunities fast growth company new career learning open paced learn lot environment sales growing grow things help exciting room business projects development skills ideas process willing technologies innovative advancement potential\n",
      "Topic #5: good benefits pay great job easy salary management decent compensation competitive excellent pretty money nice overall perks package level really average retail hr facilities coworkers fair professional workplace base benefit\n",
      "Topic #6: company employees team like make really want care job just customer feel experience working customers amazon management better don know family making right makes employee impact way doing position code\n"
     ]
    }
   ],
   "source": [
    "print(\"Fitting LDA models with tf features, \"\n",
    "      \"n_samples=%d and n_features=%d...\"\n",
    "      % (len(reviews), n_features))\n",
    "lda = LatentDirichletAllocation(n_components=n_components, max_iter=500,\n",
    "                                learning_method='batch',\n",
    "                                learning_offset=50.,\n",
    "                                random_state=0,\n",
    "                                doc_topic_prior= None,\n",
    "                                topic_word_prior= None)\n",
    "t0 = time()\n",
    "lda.fit(tf)\n",
    "\n",
    "X=lda.transform(tf)\n",
    "\n",
    "print(\"done in %0.3fs.\" % (time() - t0))\n",
    "\n",
    "print(\"\\nTopics in LDA model:\")\n",
    "tf_feature_names = tf_vectorizer.get_feature_names()\n",
    "print_top_words(lda, tf_feature_names, n_top_words)"
   ]
  },
  {
   "cell_type": "code",
   "execution_count": 28,
   "metadata": {},
   "outputs": [
    {
     "name": "stdout",
     "output_type": "stream",
     "text": [
      "Review: Company and culture are great!, Topic: 0, Confidence: 0.785394\n",
      "Review: Company culture, autonomy, global strategy, teamwork, general awesomeness., Topic: 4, Confidence: 0.290784\n",
      "Review: Not micromanaged., Topic: 0, Confidence: 0.142857\n",
      "Review: Co workers were good., Topic: 5, Confidence: 0.380955\n",
      "Review: Pay was good., Topic: 5, Confidence: 0.714286\n",
      "Review: Travel was well managed by company., Topic: 6, Confidence: 0.535534\n",
      "Review: Some of their products work for the customer, Topic: 3, Confidence: 0.285715\n",
      "Review: Great work environment, fast paced, hard working and perfect for learning and developing your skills., Topic: 0, Confidence: 0.489182\n",
      "Review: I love working with dogs and people., Topic: 0, Confidence: 0.613528\n",
      "Review: I enjoy interacting with people and their pets., Topic: 0, Confidence: 0.785427\n"
     ]
    }
   ],
   "source": [
    "for i in range(10):\n",
    "    print(\"Review: %s, Topic: %d, Confidence: %f\" % (reviews[i], np.argmax(X[i]), np.max(X[i])))"
   ]
  }
 ],
 "metadata": {
  "kernelspec": {
   "display_name": "Python 3",
   "language": "python",
   "name": "python3"
  },
  "language_info": {
   "codemirror_mode": {
    "name": "ipython",
    "version": 3
   },
   "file_extension": ".py",
   "mimetype": "text/x-python",
   "name": "python",
   "nbconvert_exporter": "python",
   "pygments_lexer": "ipython3",
   "version": "3.7.5"
  }
 },
 "nbformat": 4,
 "nbformat_minor": 2
}
